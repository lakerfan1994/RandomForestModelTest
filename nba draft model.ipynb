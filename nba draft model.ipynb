{
 "cells": [
  {
   "cell_type": "code",
   "id": "initial_id",
   "metadata": {
    "collapsed": true,
    "ExecuteTime": {
     "end_time": "2024-12-28T17:01:10.109345Z",
     "start_time": "2024-12-28T17:01:10.068923Z"
    }
   },
   "source": [
    "import pandas as pd\n",
    "\n",
    "dataframe = pd.read_csv(\"common_player_info.csv\")\n",
    "\n",
    "print(dataframe.columns)\n",
    "\n",
    "\n",
    "\n",
    "\n",
    "\n",
    "\n",
    "\n"
   ],
   "outputs": [
    {
     "name": "stdout",
     "output_type": "stream",
     "text": [
      "Index(['person_id', 'first_name', 'last_name', 'display_first_last',\n",
      "       'display_last_comma_first', 'display_fi_last', 'player_slug',\n",
      "       'birthdate', 'school', 'country', 'last_affiliation', 'height',\n",
      "       'weight', 'season_exp', 'jersey', 'position', 'rosterstatus',\n",
      "       'games_played_current_season_flag', 'team_id', 'team_name',\n",
      "       'team_abbreviation', 'team_code', 'team_city', 'playercode',\n",
      "       'from_year', 'to_year', 'dleague_flag', 'nba_flag', 'games_played_flag',\n",
      "       'draft_year', 'draft_round', 'draft_number', 'greatest_75_flag'],\n",
      "      dtype='object')\n"
     ]
    }
   ],
   "execution_count": 6
  },
  {
   "metadata": {},
   "cell_type": "code",
   "outputs": [],
   "execution_count": null,
   "source": "",
   "id": "a82467735b14cdbc"
  }
 ],
 "metadata": {
  "kernelspec": {
   "display_name": "Python 3",
   "language": "python",
   "name": "python3"
  },
  "language_info": {
   "codemirror_mode": {
    "name": "ipython",
    "version": 2
   },
   "file_extension": ".py",
   "mimetype": "text/x-python",
   "name": "python",
   "nbconvert_exporter": "python",
   "pygments_lexer": "ipython2",
   "version": "2.7.6"
  }
 },
 "nbformat": 4,
 "nbformat_minor": 5
}
