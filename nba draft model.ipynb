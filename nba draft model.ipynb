{
 "cells": [
  {
   "metadata": {},
   "cell_type": "markdown",
   "source": [
    "Good afternoon, and welcome to this data model.\n",
    "Today we are going to observe how we used draft eligible college basketball data to determine the success a player would have in the NBA.\n",
    "\n",
    "We have a lot of raw data, our college-stats file contains a deluge of all college players that played between the years 2009-2021, whether they made the NBA or not, and our common_player files and draft_combine files contain data across the entire history of the NBA.\n",
    "\n",
    "Below, we will start by defining success in the nba. We will have 3 classifications. A player is a star if they made an all star team, which we have compiled manually, a player is solid if they played at least 5 years in the nba (i.e. they were good enough to get a second contract after their rookie contract), and a player is a bust if they played less than 5 years in the NBA."
   ],
   "id": "17ec813017c2adad"
  },
  {
   "cell_type": "code",
   "id": "10776386ee7b7f61",
   "metadata": {
    "ExecuteTime": {
     "end_time": "2025-01-04T18:50:39.046834Z",
     "start_time": "2025-01-04T18:50:39.042441Z"
    }
   },
   "source": [
    "import pandas as pd\n",
    "import star_players\n",
    "from sklearn.ensemble import RandomForestClassifier\n",
    "from sklearn.metrics import accuracy_score, confusion_matrix, precision_score, recall_score, ConfusionMatrixDisplay\n",
    "from sklearn.model_selection import RandomizedSearchCV, train_test_split\n",
    "from scipy.stats import randint\n",
    "from sklearn.metrics import f1_score\n",
    "\n",
    "\n",
    "def classify_player(row):\n",
    "    if row['display_first_last'] in (star_players.get_star_players()):\n",
    "        return 'STAR'\n",
    "    elif row['to_year'] - row['from_year'] >= 5:\n",
    "        return 'SOLID'\n",
    "    else:\n",
    "        return 'BUST'\n"
   ],
   "outputs": [],
   "execution_count": 279
  },
  {
   "metadata": {},
   "cell_type": "markdown",
   "source": "Next, we wil perform some preprocessing of the raw data files in order to create a clean dataset that we can use to train our model. We wont go over everything we do in the cleaning process, but essentially, we will apply the classification function above to the data, as well select data that is most significant for analysis. We will display a sample of the data below that should show a good mix of stars, solid players and busts.",
   "id": "90a247b493d948c4"
  },
  {
   "metadata": {
    "collapsed": true,
    "ExecuteTime": {
     "end_time": "2025-01-04T18:50:40.091900Z",
     "start_time": "2025-01-04T18:50:39.053808Z"
    }
   },
   "cell_type": "code",
   "source": [
    "\n",
    "college_df = pd.read_csv(\"college-stats.csv\", low_memory=False)\n",
    "\n",
    "college_df = college_df.loc[college_df.groupby('player_name')['year'].idxmax()]\n",
    "\n",
    "nba_df = pd.read_csv(\"common_player_info.csv\")\n",
    "draft_year = 2009\n",
    "\n",
    "nba_df = nba_df[nba_df[\"from_year\"] >= draft_year]\n",
    "\n",
    "nba_df.sort_values(by=['from_year'], inplace=True)\n",
    "\n",
    "nba_df['classification'] = nba_df.apply(classify_player, axis=1)\n",
    "\n",
    "# We will remove the college players that most recently entered the NBA, as we do not have enough information to determine\n",
    "# whether they are a bust or a solid player yet.\n",
    "nba_df = nba_df[\n",
    "        ~(\n",
    "            (nba_df['from_year'] >= 2019) &\n",
    "            (nba_df['to_year'] >= 2023) &\n",
    "            (nba_df['classification'] == 'BUST')\n",
    "        )\n",
    "    ]\n",
    "\n",
    "\n",
    "\n",
    "columns = ['display_first_last', 'classification', 'from_year', 'to_year', 'school']\n",
    "\n",
    "nba_df = nba_df[columns]\n",
    "\n",
    "\n",
    "nba_df.to_csv('output.csv', index=False)\n",
    "\n",
    "\n",
    "\n",
    "\n",
    "classified__nba_df = pd.read_csv(\"output.csv\")\n",
    "\n",
    "# Merge college statistics with NBA player names\n",
    "clean_data = classified__nba_df.merge(college_df, left_on=['display_first_last', 'from_year'], right_on=['player_name', 'year'], how='inner')\n",
    "\n",
    "# Merge draft combine dataa with NBA player names.\n",
    "draft_combine = pd.read_csv(\"draft_combine_stats.csv\")\n",
    "clean_data = clean_data.merge(draft_combine, left_on='display_first_last', right_on='player_name', how='inner')\n",
    "\n",
    "# transform the year players are into their numerical equivalent\n",
    "clean_data['yr'] = clean_data['yr'].replace({'Fr': 1, 'So': 2, 'Jr': 3, 'Sr': 4})\n",
    "\n",
    "# Only select relevant data for model\n",
    "clean_data = clean_data[star_players.get_training_columns()]\n",
    "clean_data.to_csv('output.csv', index=False)\n",
    "clean_data.sample(10)\n",
    "\n",
    "#\n"
   ],
   "id": "initial_id",
   "outputs": [
    {
     "name": "stderr",
     "output_type": "stream",
     "text": [
      "C:\\Users\\chukw\\AppData\\Local\\Temp\\ipykernel_8848\\3594199666.py:46: FutureWarning: Downcasting behavior in `replace` is deprecated and will be removed in a future version. To retain the old behavior, explicitly call `result.infer_objects(copy=False)`. To opt-in to the future behavior, set `pd.set_option('future.no_silent_downcasting', True)`\n",
      "  clean_data['yr'] = clean_data['yr'].replace({'Fr': 1, 'So': 2, 'Jr': 3, 'Sr': 4})\n"
     ]
    },
    {
     "data": {
      "text/plain": [
       "       display_first_last classification  GP  Min_per   Ortg   usg   eFG  \\\n",
       "31           Damion James           BUST  34     74.8  115.6  25.5  54.4   \n",
       "265  Kostas Antetokounmpo           BUST  29     34.8   92.9  20.8  58.4   \n",
       "58           Cole Aldrich          SOLID  36     66.4  116.9  20.2  56.2   \n",
       "238            Davon Reed          SOLID  33     87.9  113.8  21.3  53.9   \n",
       "29          Stephen Curry           STAR  33     82.1  118.0  37.5  54.9   \n",
       "270          Zhaire Smith           BUST  37     70.5  124.3  18.6  58.5   \n",
       "232          Luke Kennard          SOLID  37     88.8  127.3  23.0  57.9   \n",
       "64              Jon Leuer          SOLID  34     83.1  116.8  29.4  52.6   \n",
       "111        Marquis Teague          SOLID  40     81.4   99.8  21.0  44.9   \n",
       "43           Manny Harris          SOLID  30     87.3  105.2  30.5  47.3   \n",
       "\n",
       "     TS_per  ORB_per  DRB_per  ...     ast     stl     blk      pts  \\\n",
       "31    57.83     11.0     23.9  ...  0.9706  1.6765  1.1765  17.9706   \n",
       "265   57.46      7.3     16.8  ...  0.4483  0.2414  1.0690   5.2069   \n",
       "58    59.61     13.6     25.4  ...  0.8611  0.7500  3.4722  11.2778   \n",
       "238   58.00      2.9     13.1  ...  2.4242  1.3030  0.4848  14.8788   \n",
       "29    60.46      1.8     12.3  ...  5.4242  2.3333  0.2121  28.6364   \n",
       "270   61.51      9.1     11.2  ...  1.7297  1.1622  1.0270  11.2162   \n",
       "232   62.91      3.9     12.1  ...  2.4595  0.8378  0.3514  19.5135   \n",
       "64    56.80      6.5     22.6  ...  1.6471  0.5000  0.8824  18.2647   \n",
       "111   49.08      1.6      6.7  ...  4.7750  0.9250  0.2750  10.0250   \n",
       "43    53.61      5.9     14.2  ...  3.8667  1.8333  0.3667  18.1333   \n",
       "\n",
       "     height_wo_shoes  height_w_shoes  weight  wingspan  standing_reach  \\\n",
       "31             78.25           79.75   226.6     84.75           107.0   \n",
       "265            81.00           82.50   194.8     86.25           110.0   \n",
       "58             81.00           83.25   236.0     88.75           111.5   \n",
       "238            76.50           77.50   206.2     84.00           102.0   \n",
       "29             74.00           75.25   181.0     75.50            97.0   \n",
       "270            74.75           76.00   198.6     81.75           100.0   \n",
       "232            76.50           77.50   196.2     77.25            98.5   \n",
       "64             82.00           83.50   223.2     84.00           105.5   \n",
       "111            73.00           74.00   179.8     79.25            96.5   \n",
       "43             76.00           77.50   185.1     79.25           102.0   \n",
       "\n",
       "     body_fat_pct  \n",
       "31           9.60  \n",
       "265          5.00  \n",
       "58           8.50  \n",
       "238          6.50  \n",
       "29           5.70  \n",
       "270          6.05  \n",
       "232          6.60  \n",
       "64           5.40  \n",
       "111          6.30  \n",
       "43           3.80  \n",
       "\n",
       "[10 rows x 53 columns]"
      ],
      "text/html": [
       "<div>\n",
       "<style scoped>\n",
       "    .dataframe tbody tr th:only-of-type {\n",
       "        vertical-align: middle;\n",
       "    }\n",
       "\n",
       "    .dataframe tbody tr th {\n",
       "        vertical-align: top;\n",
       "    }\n",
       "\n",
       "    .dataframe thead th {\n",
       "        text-align: right;\n",
       "    }\n",
       "</style>\n",
       "<table border=\"1\" class=\"dataframe\">\n",
       "  <thead>\n",
       "    <tr style=\"text-align: right;\">\n",
       "      <th></th>\n",
       "      <th>display_first_last</th>\n",
       "      <th>classification</th>\n",
       "      <th>GP</th>\n",
       "      <th>Min_per</th>\n",
       "      <th>Ortg</th>\n",
       "      <th>usg</th>\n",
       "      <th>eFG</th>\n",
       "      <th>TS_per</th>\n",
       "      <th>ORB_per</th>\n",
       "      <th>DRB_per</th>\n",
       "      <th>...</th>\n",
       "      <th>ast</th>\n",
       "      <th>stl</th>\n",
       "      <th>blk</th>\n",
       "      <th>pts</th>\n",
       "      <th>height_wo_shoes</th>\n",
       "      <th>height_w_shoes</th>\n",
       "      <th>weight</th>\n",
       "      <th>wingspan</th>\n",
       "      <th>standing_reach</th>\n",
       "      <th>body_fat_pct</th>\n",
       "    </tr>\n",
       "  </thead>\n",
       "  <tbody>\n",
       "    <tr>\n",
       "      <th>31</th>\n",
       "      <td>Damion James</td>\n",
       "      <td>BUST</td>\n",
       "      <td>34</td>\n",
       "      <td>74.8</td>\n",
       "      <td>115.6</td>\n",
       "      <td>25.5</td>\n",
       "      <td>54.4</td>\n",
       "      <td>57.83</td>\n",
       "      <td>11.0</td>\n",
       "      <td>23.9</td>\n",
       "      <td>...</td>\n",
       "      <td>0.9706</td>\n",
       "      <td>1.6765</td>\n",
       "      <td>1.1765</td>\n",
       "      <td>17.9706</td>\n",
       "      <td>78.25</td>\n",
       "      <td>79.75</td>\n",
       "      <td>226.6</td>\n",
       "      <td>84.75</td>\n",
       "      <td>107.0</td>\n",
       "      <td>9.60</td>\n",
       "    </tr>\n",
       "    <tr>\n",
       "      <th>265</th>\n",
       "      <td>Kostas Antetokounmpo</td>\n",
       "      <td>BUST</td>\n",
       "      <td>29</td>\n",
       "      <td>34.8</td>\n",
       "      <td>92.9</td>\n",
       "      <td>20.8</td>\n",
       "      <td>58.4</td>\n",
       "      <td>57.46</td>\n",
       "      <td>7.3</td>\n",
       "      <td>16.8</td>\n",
       "      <td>...</td>\n",
       "      <td>0.4483</td>\n",
       "      <td>0.2414</td>\n",
       "      <td>1.0690</td>\n",
       "      <td>5.2069</td>\n",
       "      <td>81.00</td>\n",
       "      <td>82.50</td>\n",
       "      <td>194.8</td>\n",
       "      <td>86.25</td>\n",
       "      <td>110.0</td>\n",
       "      <td>5.00</td>\n",
       "    </tr>\n",
       "    <tr>\n",
       "      <th>58</th>\n",
       "      <td>Cole Aldrich</td>\n",
       "      <td>SOLID</td>\n",
       "      <td>36</td>\n",
       "      <td>66.4</td>\n",
       "      <td>116.9</td>\n",
       "      <td>20.2</td>\n",
       "      <td>56.2</td>\n",
       "      <td>59.61</td>\n",
       "      <td>13.6</td>\n",
       "      <td>25.4</td>\n",
       "      <td>...</td>\n",
       "      <td>0.8611</td>\n",
       "      <td>0.7500</td>\n",
       "      <td>3.4722</td>\n",
       "      <td>11.2778</td>\n",
       "      <td>81.00</td>\n",
       "      <td>83.25</td>\n",
       "      <td>236.0</td>\n",
       "      <td>88.75</td>\n",
       "      <td>111.5</td>\n",
       "      <td>8.50</td>\n",
       "    </tr>\n",
       "    <tr>\n",
       "      <th>238</th>\n",
       "      <td>Davon Reed</td>\n",
       "      <td>SOLID</td>\n",
       "      <td>33</td>\n",
       "      <td>87.9</td>\n",
       "      <td>113.8</td>\n",
       "      <td>21.3</td>\n",
       "      <td>53.9</td>\n",
       "      <td>58.00</td>\n",
       "      <td>2.9</td>\n",
       "      <td>13.1</td>\n",
       "      <td>...</td>\n",
       "      <td>2.4242</td>\n",
       "      <td>1.3030</td>\n",
       "      <td>0.4848</td>\n",
       "      <td>14.8788</td>\n",
       "      <td>76.50</td>\n",
       "      <td>77.50</td>\n",
       "      <td>206.2</td>\n",
       "      <td>84.00</td>\n",
       "      <td>102.0</td>\n",
       "      <td>6.50</td>\n",
       "    </tr>\n",
       "    <tr>\n",
       "      <th>29</th>\n",
       "      <td>Stephen Curry</td>\n",
       "      <td>STAR</td>\n",
       "      <td>33</td>\n",
       "      <td>82.1</td>\n",
       "      <td>118.0</td>\n",
       "      <td>37.5</td>\n",
       "      <td>54.9</td>\n",
       "      <td>60.46</td>\n",
       "      <td>1.8</td>\n",
       "      <td>12.3</td>\n",
       "      <td>...</td>\n",
       "      <td>5.4242</td>\n",
       "      <td>2.3333</td>\n",
       "      <td>0.2121</td>\n",
       "      <td>28.6364</td>\n",
       "      <td>74.00</td>\n",
       "      <td>75.25</td>\n",
       "      <td>181.0</td>\n",
       "      <td>75.50</td>\n",
       "      <td>97.0</td>\n",
       "      <td>5.70</td>\n",
       "    </tr>\n",
       "    <tr>\n",
       "      <th>270</th>\n",
       "      <td>Zhaire Smith</td>\n",
       "      <td>BUST</td>\n",
       "      <td>37</td>\n",
       "      <td>70.5</td>\n",
       "      <td>124.3</td>\n",
       "      <td>18.6</td>\n",
       "      <td>58.5</td>\n",
       "      <td>61.51</td>\n",
       "      <td>9.1</td>\n",
       "      <td>11.2</td>\n",
       "      <td>...</td>\n",
       "      <td>1.7297</td>\n",
       "      <td>1.1622</td>\n",
       "      <td>1.0270</td>\n",
       "      <td>11.2162</td>\n",
       "      <td>74.75</td>\n",
       "      <td>76.00</td>\n",
       "      <td>198.6</td>\n",
       "      <td>81.75</td>\n",
       "      <td>100.0</td>\n",
       "      <td>6.05</td>\n",
       "    </tr>\n",
       "    <tr>\n",
       "      <th>232</th>\n",
       "      <td>Luke Kennard</td>\n",
       "      <td>SOLID</td>\n",
       "      <td>37</td>\n",
       "      <td>88.8</td>\n",
       "      <td>127.3</td>\n",
       "      <td>23.0</td>\n",
       "      <td>57.9</td>\n",
       "      <td>62.91</td>\n",
       "      <td>3.9</td>\n",
       "      <td>12.1</td>\n",
       "      <td>...</td>\n",
       "      <td>2.4595</td>\n",
       "      <td>0.8378</td>\n",
       "      <td>0.3514</td>\n",
       "      <td>19.5135</td>\n",
       "      <td>76.50</td>\n",
       "      <td>77.50</td>\n",
       "      <td>196.2</td>\n",
       "      <td>77.25</td>\n",
       "      <td>98.5</td>\n",
       "      <td>6.60</td>\n",
       "    </tr>\n",
       "    <tr>\n",
       "      <th>64</th>\n",
       "      <td>Jon Leuer</td>\n",
       "      <td>SOLID</td>\n",
       "      <td>34</td>\n",
       "      <td>83.1</td>\n",
       "      <td>116.8</td>\n",
       "      <td>29.4</td>\n",
       "      <td>52.6</td>\n",
       "      <td>56.80</td>\n",
       "      <td>6.5</td>\n",
       "      <td>22.6</td>\n",
       "      <td>...</td>\n",
       "      <td>1.6471</td>\n",
       "      <td>0.5000</td>\n",
       "      <td>0.8824</td>\n",
       "      <td>18.2647</td>\n",
       "      <td>82.00</td>\n",
       "      <td>83.50</td>\n",
       "      <td>223.2</td>\n",
       "      <td>84.00</td>\n",
       "      <td>105.5</td>\n",
       "      <td>5.40</td>\n",
       "    </tr>\n",
       "    <tr>\n",
       "      <th>111</th>\n",
       "      <td>Marquis Teague</td>\n",
       "      <td>SOLID</td>\n",
       "      <td>40</td>\n",
       "      <td>81.4</td>\n",
       "      <td>99.8</td>\n",
       "      <td>21.0</td>\n",
       "      <td>44.9</td>\n",
       "      <td>49.08</td>\n",
       "      <td>1.6</td>\n",
       "      <td>6.7</td>\n",
       "      <td>...</td>\n",
       "      <td>4.7750</td>\n",
       "      <td>0.9250</td>\n",
       "      <td>0.2750</td>\n",
       "      <td>10.0250</td>\n",
       "      <td>73.00</td>\n",
       "      <td>74.00</td>\n",
       "      <td>179.8</td>\n",
       "      <td>79.25</td>\n",
       "      <td>96.5</td>\n",
       "      <td>6.30</td>\n",
       "    </tr>\n",
       "    <tr>\n",
       "      <th>43</th>\n",
       "      <td>Manny Harris</td>\n",
       "      <td>SOLID</td>\n",
       "      <td>30</td>\n",
       "      <td>87.3</td>\n",
       "      <td>105.2</td>\n",
       "      <td>30.5</td>\n",
       "      <td>47.3</td>\n",
       "      <td>53.61</td>\n",
       "      <td>5.9</td>\n",
       "      <td>14.2</td>\n",
       "      <td>...</td>\n",
       "      <td>3.8667</td>\n",
       "      <td>1.8333</td>\n",
       "      <td>0.3667</td>\n",
       "      <td>18.1333</td>\n",
       "      <td>76.00</td>\n",
       "      <td>77.50</td>\n",
       "      <td>185.1</td>\n",
       "      <td>79.25</td>\n",
       "      <td>102.0</td>\n",
       "      <td>3.80</td>\n",
       "    </tr>\n",
       "  </tbody>\n",
       "</table>\n",
       "<p>10 rows × 53 columns</p>\n",
       "</div>"
      ]
     },
     "execution_count": 280,
     "metadata": {},
     "output_type": "execute_result"
    }
   ],
   "execution_count": 280
  },
  {
   "metadata": {},
   "cell_type": "markdown",
   "source": "Awesome! we can see that for every player listed, we have their associated statistics and measurements. One final bit of preprocessing will be to remove player names, as our random forest model can only accept numerical input",
   "id": "bfda0f027fb1288d"
  },
  {
   "metadata": {
    "ExecuteTime": {
     "end_time": "2025-01-04T18:50:40.224613Z",
     "start_time": "2025-01-04T18:50:40.219477Z"
    }
   },
   "cell_type": "code",
   "source": [
    "\n",
    "clean_data = clean_data.drop('display_first_last', axis=1)"
   ],
   "id": "54d270797c3c569c",
   "outputs": [],
   "execution_count": 281
  },
  {
   "metadata": {},
   "cell_type": "markdown",
   "source": [
    "\n",
    "\n",
    "Next, we will now look at a visualization that shows the distribution of the three different classifications of NBA players, \"stars\",\n",
    "\"solid\" players, and \"busts"
   ],
   "id": "608a161d6b5236f8"
  },
  {
   "metadata": {
    "ExecuteTime": {
     "end_time": "2025-01-04T18:50:40.495287Z",
     "start_time": "2025-01-04T18:50:40.356945Z"
    }
   },
   "cell_type": "code",
   "source": [
    "classifications = clean_data.groupby(by='classification').size()\n",
    "plot = classifications.plot.bar(color=['red', 'yellow','green'],rot=0)\n"
   ],
   "id": "a82467735b14cdbc",
   "outputs": [
    {
     "data": {
      "text/plain": [
       "<Figure size 640x480 with 1 Axes>"
      ],
      "image/png": "[encoded data removed]"
     },
     "metadata": {},
     "output_type": "display_data"
    }
   ],
   "execution_count": 282
  },
  {
   "metadata": {},
   "cell_type": "markdown",
   "source": [
    "As we can see above, we have relatively even numbers of busts and solid players, with very few star players.\n",
    "\n",
    "We will now begin the process of training the model, specifically a random forest model.\n",
    "\n",
    "First, lets split our data into test data and training data. We will need to identify the target result with is the classification of the player, and the independent variables, which are their college statistics and measurements"
   ],
   "id": "2a89eca0f2ef56b1"
  },
  {
   "metadata": {
    "ExecuteTime": {
     "end_time": "2025-01-04T18:50:40.655787Z",
     "start_time": "2025-01-04T18:50:40.642616Z"
    }
   },
   "cell_type": "code",
   "source": [
    "# identify independent and dependent variables\n",
    "independentVars = clean_data.drop('classification', axis=1)\n",
    "dependentVar = clean_data['classification']\n",
    "\n",
    "training_independent, test_independent, training_dependent, test_dependent = train_test_split(independentVars, dependentVar, test_size=0.2, random_state=24, stratify=dependentVar)"
   ],
   "id": "81758b51c0cdc0fa",
   "outputs": [],
   "execution_count": 283
  },
  {
   "metadata": {},
   "cell_type": "markdown",
   "source": [
    "Above we have defined our traiing and test data, as well as isolated the variable (classification) that we want to train our model on.\n",
    "Actually training the model to a baseline level is quite simple. We will train a random forest model below as well as test it using our designated data."
   ],
   "id": "3acf78c8ceff2d8e"
  },
  {
   "metadata": {
    "ExecuteTime": {
     "end_time": "2025-01-04T18:50:41.263662Z",
     "start_time": "2025-01-04T18:50:40.691658Z"
    }
   },
   "cell_type": "code",
   "source": [
    "\n",
    "\n",
    "# create default tree\n",
    "random_forest = RandomForestClassifier(random_state= 26)\n",
    "random_forest.fit(training_independent, training_dependent)\n",
    "\n",
    "predictions = random_forest.predict(test_independent)\n",
    "# predictions = random_forest.predict(training_independent)\n",
    "\n",
    "\n",
    "accuracy = accuracy_score(test_dependent, predictions)\n",
    "\n",
    "f1 = f1_score(test_dependent, predictions, average='macro')\n",
    "\n",
    "precision = precision_score(test_dependent, predictions, average='macro')\n",
    "print(accuracy)\n",
    "print(f1)\n",
    "print(precision)\n",
    "\n",
    "\n",
    "ConfusionMatrixDisplay.from_estimator(random_forest, test_independent, test_dependent)\n",
    "\n"
   ],
   "id": "ef7ca65ceb2fcc0e",
   "outputs": [
    {
     "name": "stdout",
     "output_type": "stream",
     "text": [
      "0.5538461538461539\n",
      "0.38267339888386925\n",
      "0.3733062330623307\n"
     ]
    },
    {
     "name": "stderr",
     "output_type": "stream",
     "text": [
      "C:\\Users\\chukw\\IdeaProjects\\NBA DRAFT MODEL\\.venv\\Lib\\site-packages\\sklearn\\metrics\\_classification.py:1565: UndefinedMetricWarning: Precision is ill-defined and being set to 0.0 in labels with no predicted samples. Use `zero_division` parameter to control this behavior.\n",
      "  _warn_prf(average, modifier, f\"{metric.capitalize()} is\", len(result))\n"
     ]
    },
    {
     "data": {
      "text/plain": [
       "<sklearn.metrics._plot.confusion_matrix.ConfusionMatrixDisplay at 0x266d3a843b0>"
      ]
     },
     "execution_count": 284,
     "metadata": {},
     "output_type": "execute_result"
    },
    {
     "data": {
      "text/plain": [
       "<Figure size 640x480 with 2 Axes>"
      ],
      "image/png": "[encoded data removed]"
     },
     "metadata": {},
     "output_type": "display_data"
    }
   ],
   "execution_count": 284
  },
  {
   "metadata": {
    "ExecuteTime": {
     "end_time": "2025-01-04T18:51:10.455847Z",
     "start_time": "2025-01-04T18:50:41.385848Z"
    }
   },
   "cell_type": "code",
   "source": [
    "\n",
    "\n",
    "random_forest_2 = RandomForestClassifier(random_state= 26)\n",
    "\n",
    "params = {'n_estimators': randint(100,1000),\n",
    "              'max_depth': randint(25,50)}\n",
    "\n",
    "search_engine = RandomizedSearchCV(random_forest_2, param_distributions=params, n_iter=5, cv=5, random_state=24)\n",
    "\n",
    "search_engine.fit(training_independent, training_dependent)\n",
    "\n",
    "best_random_forest = search_engine.best_estimator_\n",
    "\n",
    "newPredictions = best_random_forest.predict(test_independent)\n",
    "\n",
    "accuracy2 = accuracy_score(test_dependent, newPredictions)\n",
    "\n",
    "print(accuracy2)\n",
    "\n",
    "ConfusionMatrixDisplay.from_estimator(best_random_forest, test_independent, test_dependent)"
   ],
   "id": "898cdb59d554f1bc",
   "outputs": [
    {
     "name": "stdout",
     "output_type": "stream",
     "text": [
      "0.6153846153846154\n"
     ]
    },
    {
     "data": {
      "text/plain": [
       "<sklearn.metrics._plot.confusion_matrix.ConfusionMatrixDisplay at 0x266dc1fd700>"
      ]
     },
     "execution_count": 285,
     "metadata": {},
     "output_type": "execute_result"
    },
    {
     "data": {
      "text/plain": [
       "<Figure size 640x480 with 2 Axes>"
      ],
      "image/png": "[encoded data removed]"
     },
     "metadata": {},
     "output_type": "display_data"
    }
   ],
   "execution_count": 285
  }
 ],
 "metadata": {
  "kernelspec": {
   "display_name": "Python 3",
   "language": "python",
   "name": "python3"
  },
  "language_info": {
   "codemirror_mode": {
    "name": "ipython",
    "version": 2
   },
   "file_extension": ".py",
   "mimetype": "text/x-python",
   "name": "python",
   "nbconvert_exporter": "python",
   "pygments_lexer": "ipython2",
   "version": "2.7.6"
  }
 },
 "nbformat": 4,
 "nbformat_minor": 5
}
