{
 "cells": [
  {
   "cell_type": "code",
   "id": "initial_id",
   "metadata": {
    "collapsed": true,
    "ExecuteTime": {
     "end_time": "2024-12-31T00:36:58.843186Z",
     "start_time": "2024-12-31T00:36:58.766034Z"
    }
   },
   "source": [
    "import pandas as pd\n",
    "import star_players\n",
    "\n",
    "\n",
    "def classify_player(row):\n",
    "    if row['display_first_last'] in (star_players.get_star_players()):\n",
    "        return 'STAR'\n",
    "    elif row['to_year'] - row['from_year'] >= 6:\n",
    "        return 'SOLID'\n",
    "    else:\n",
    "        return 'BUST'\n",
    "\n",
    "dataframe = pd.read_csv(\"common_player_info.csv\")\n",
    "draft_year = 1995\n",
    "\n",
    "dataframe = dataframe[dataframe[\"from_year\"] >= draft_year]\n",
    "dataframe.sort_values(by=['from_year'], inplace=True)\n",
    "\n",
    "\n",
    "dataframe['classification'] = dataframe.apply(classify_player, axis=1)\n",
    "\n",
    "dataframe = dataframe[\n",
    "    (dataframe['from_year'] >= 2017) &\n",
    "    (dataframe['to_year'] >= 2023) &\n",
    "    (dataframe['classification'] == 'BUST')\n",
    "    ]\n",
    "\n",
    "#REMOVE ALL PLAYERS IN THE ABOVE DATAFRAME FROM THE STUDY\n",
    "\n",
    "# dataframe = dataframe[(dataframe['classification'] != 'BUST') & (dataframe['to_year'] - dataframe['from_year'] < 5)]\n",
    "\n",
    "columns = ['display_first_last', 'classification', 'from_year', 'to_year']\n",
    "\n",
    "dataframe = dataframe[columns]\n",
    "\n",
    "\n",
    "dataframe.to_csv('output.csv', index=False)\n",
    "\n",
    "\n",
    "\n",
    "\n",
    "\n",
    "\n",
    "\n",
    "\n",
    "\n",
    "\n",
    "\n",
    "\n",
    "\n",
    "\n"
   ],
   "outputs": [],
   "execution_count": 25
  },
  {
   "metadata": {
    "ExecuteTime": {
     "end_time": "2024-12-31T00:01:49.560068Z",
     "start_time": "2024-12-31T00:01:49.557769Z"
    }
   },
   "cell_type": "code",
   "source": "",
   "id": "a82467735b14cdbc",
   "outputs": [],
   "execution_count": null
  },
  {
   "metadata": {
    "ExecuteTime": {
     "end_time": "2024-12-30T23:19:15.645757Z",
     "start_time": "2024-12-30T23:19:15.637645Z"
    }
   },
   "cell_type": "code",
   "source": "",
   "id": "2cbe41fd370de3aa",
   "outputs": [],
   "execution_count": null
  },
  {
   "metadata": {
    "ExecuteTime": {
     "end_time": "2024-12-30T23:19:27.047225Z",
     "start_time": "2024-12-30T23:19:27.043897Z"
    }
   },
   "cell_type": "code",
   "source": "",
   "id": "8a2c9be68a240c79",
   "outputs": [],
   "execution_count": null
  },
  {
   "metadata": {},
   "cell_type": "code",
   "outputs": [],
   "execution_count": null,
   "source": "",
   "id": "f1791fa4cae7c11b"
  }
 ],
 "metadata": {
  "kernelspec": {
   "display_name": "Python 3",
   "language": "python",
   "name": "python3"
  },
  "language_info": {
   "codemirror_mode": {
    "name": "ipython",
    "version": 2
   },
   "file_extension": ".py",
   "mimetype": "text/x-python",
   "name": "python",
   "nbconvert_exporter": "python",
   "pygments_lexer": "ipython2",
   "version": "2.7.6"
  }
 },
 "nbformat": 4,
 "nbformat_minor": 5
}
