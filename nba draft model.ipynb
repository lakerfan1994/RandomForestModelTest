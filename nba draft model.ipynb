{
 "cells": [
  {
   "cell_type": "code",
   "id": "initial_id",
   "metadata": {
    "collapsed": true,
    "ExecuteTime": {
     "end_time": "2024-12-30T21:35:49.520813Z",
     "start_time": "2024-12-30T21:35:49.450072Z"
    }
   },
   "source": [
    "import pandas as pd\n",
    "import star_players\n",
    "\n",
    "dataframe = pd.read_csv(\"common_player_info.csv\")\n",
    "draft_year = 2000\n",
    "\n",
    "dataframe = dataframe[dataframe[\"from_year\"] >= draft_year]\n",
    "dataframe.sort_values(by=['from_year'], inplace=True)\n",
    "\n",
    "starList = star_players.get_star_players()\n",
    "\n",
    "print(starList)\n",
    "\n",
    "# print(dataframe['display_first_last'].tolist())\n",
    "\n",
    "dataframe['Classification'] = dataframe['display_first_last'].isin(star_players.get_star_players())\n",
    "\n",
    "dataframe.to_csv('output.csv', index=False)\n",
    "\n",
    "\n",
    "\n",
    "\n",
    "\n",
    "\n",
    "\n",
    "\n",
    "\n",
    "\n"
   ],
   "outputs": [
    {
     "name": "stdout",
     "output_type": "stream",
     "text": [
      "['Chris Gatling', 'Tom Gugliotta', 'Christian Laettner', 'Eddie Jones', 'Kevin Garnett', 'Chris Webber', 'Steve Smith', 'Rik Smits', 'Nick Van Exel', 'Jayson Williams', 'Tim Duncan', 'Kobe Bryant', 'Antoine Walker', 'Dale Davis', 'Michael Finley', 'Allan Houston', 'Glenn Robinson', 'Jerry Stackhouse', 'Rasheed Wallace', 'Ray Allen', 'Vince Carter', 'Allen Iverson', 'Antonio Davis', 'Vlade Divac', 'Anthony Mason', 'Antonio McDyess', 'Theo Ratliff', 'Tracy McGrady', 'Stephon Marbury', 'Shareef Abdur-Rahim', 'Wally Szczerbiak', 'Steve Nash', 'Steve Francis', 'Peja Stojaković', 'Paul Pierce', \"Jermaine O'Neal\", 'Dirk Nowitzki', 'Baron Davis', 'Elton Brand', 'Jamal Mashburn', 'Brad Miller', 'Ben Wallace', 'Yao Ming', 'Žydrūnas Ilgauskas', 'Shawn Marion', 'Sam Cassell', 'Andrei Kirilenko', 'Jamaal Magloire', 'Kenyon Martin', 'Michael Redd', 'Metta World Peace', 'Gilbert Arenas', 'Dwyane Wade', 'LeBron James', \"Amar'e Stoudemire\", 'Antawn Jamison', 'Rashard Lewis', 'Manu Ginóbili', 'Tony Parker', 'Richard Hamilton', 'Chauncey Billups', 'Chris Bosh', 'Pau Gasol', 'Josh Howard', 'Mehmet Okur', 'Carlos Boozer', 'Caron Butler', 'Carmelo Anthony†', 'Joe Johnson', 'Dwight Howard', 'David West', 'Brandon Roy', 'Chris Paul', 'Danny Granger', 'Devin Harris', 'Jameer Nelson', 'Mo Williams', 'Chris Kaman', 'Gerald Wallace', 'Al Horford', 'Derrick Rose', 'Deron Williams', 'Rajon Rondo', 'Kevin Durant', 'David Lee', 'Zach Randolph', 'Kevin Love', 'Russell Westbrook', 'Blake Griffin', 'Andrew Bynum', 'Andre Iguodala', 'Luol Deng', 'LaMarcus Aldridge', 'Roy Hibbert', 'Marc Gasol', 'Tyson Chandler', 'Brook Lopez', 'Joakim Noah', 'Paul George', 'Kyrie Irving', 'James Harden', 'Jrue Holiday', 'Damian Lillard', 'Paul Millsap', 'John Wall', 'Stephen Curry', 'Anthony Davis', 'DeMar DeRozan', 'Kyle Korver', 'Jeff Teague', 'DeMarcus Cousins', 'Jimmy Butler', 'Klay Thompson', 'Kyle Lowry', 'Isaiah Thomas', 'Kawhi Leonard', 'Draymond Green', 'Andre Drummond', 'Gordon Hayward', 'DeAndre Jordan', 'Kemba Walker', 'Giannis Antetokounmpo', 'Goran Dragić', 'Kristaps Porziņģis', 'Victor Oladipo', 'Bradley Beal', 'Karl-Anthony Towns', 'Joel Embiid', \"D'Angelo Russell\", 'Khris Middleton', 'Ben Simmons', 'Nikola Jokić', 'Nikola Vučević', 'Brandon Ingram', 'Domantas Sabonis', 'Rudy Gobert', 'Devin Booker', 'Luka Dončić', 'Donovan Mitchell', 'Jayson Tatum', 'Trae Young', 'Pascal Siakam', 'Bam Adebayo', 'Mike Conley', 'Zach LaVine', 'Zion Williamson', 'Jaylen Brown', 'Julius Randle', 'Jarrett Allen', 'LaMelo Ball', 'Darius Garland', 'Dejounte Murray', 'Fred VanVleet', 'Andrew Wiggins', 'Ja Morant', \"De'Aaron Fox\", 'Jaren Jackson Jr.', 'Lauri Markkanen', 'Anthony Edwards', 'Shai Gilgeous-Alexander', 'Tyrese Haliburton', 'Paolo Banchero', 'Scottie Barnes', 'Jalen Brunson', 'Tyrese Maxey']\n"
     ]
    }
   ],
   "execution_count": 2
  },
  {
   "metadata": {
    "ExecuteTime": {
     "end_time": "2024-12-30T21:22:50.190653Z",
     "start_time": "2024-12-30T21:22:50.187672Z"
    }
   },
   "cell_type": "code",
   "source": "",
   "id": "a82467735b14cdbc",
   "outputs": [],
   "execution_count": null
  },
  {
   "metadata": {},
   "cell_type": "code",
   "outputs": [],
   "execution_count": null,
   "source": "",
   "id": "2cbe41fd370de3aa"
  }
 ],
 "metadata": {
  "kernelspec": {
   "display_name": "Python 3",
   "language": "python",
   "name": "python3"
  },
  "language_info": {
   "codemirror_mode": {
    "name": "ipython",
    "version": 2
   },
   "file_extension": ".py",
   "mimetype": "text/x-python",
   "name": "python",
   "nbconvert_exporter": "python",
   "pygments_lexer": "ipython2",
   "version": "2.7.6"
  }
 },
 "nbformat": 4,
 "nbformat_minor": 5
}
