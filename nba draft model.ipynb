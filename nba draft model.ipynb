{
 "cells": [
  {
   "metadata": {},
   "cell_type": "markdown",
   "source": "",
   "id": "17ec813017c2adad"
  },
  {
   "cell_type": "code",
   "id": "initial_id",
   "metadata": {
    "collapsed": true,
    "ExecuteTime": {
     "end_time": "2025-01-03T17:44:48.115222Z",
     "start_time": "2025-01-03T17:44:47.441605Z"
    }
   },
   "source": [
    "import pandas as pd\n",
    "import matplotlib\n",
    "import star_players\n",
    "\n",
    "\n",
    "def classify_player(row):\n",
    "    if row['display_first_last'] in (star_players.get_star_players()):\n",
    "        return 'STAR'\n",
    "    elif row['to_year'] - row['from_year'] >= 5:\n",
    "        return 'SOLID'\n",
    "    else:\n",
    "        return 'BUST'\n",
    "\n",
    "college_df = pd.read_csv(\"college-stats.csv\", low_memory=False)\n",
    "\n",
    "college_df = college_df.loc[college_df.groupby('player_name')['year'].idxmax()]\n",
    "\n",
    "nba_df = pd.read_csv(\"common_player_info.csv\")\n",
    "draft_year = 2009\n",
    "\n",
    "nba_df = nba_df[nba_df[\"from_year\"] >= draft_year]\n",
    "\n",
    "nba_df.sort_values(by=['from_year'], inplace=True)\n",
    "\n",
    "nba_df['classification'] = nba_df.apply(classify_player, axis=1)\n",
    "\n",
    "# We will remove the college players that most recently entered the NBA, as we do not have enough information to determine\n",
    "# whether they are a bust or a solid player yet.\n",
    "nba_df = nba_df[\n",
    "        ~(\n",
    "            (nba_df['from_year'] >= 2019) &\n",
    "            (nba_df['to_year'] >= 2023) &\n",
    "            (nba_df['classification'] == 'BUST')\n",
    "        )\n",
    "    ]\n",
    "\n",
    "\n",
    "# dataframe = dataframe[(dataframe['classification'] != 'BUST') & (dataframe['to_year'] - dataframe['from_year'] < 5)]\n",
    "\n",
    "columns = ['display_first_last', 'classification', 'from_year', 'to_year', 'school']\n",
    "\n",
    "nba_df = nba_df[columns]\n",
    "\n",
    "# now to add data to the dataframe freom other files.\n",
    "nba_df.to_csv('output.csv', index=False)\n",
    "\n",
    "\n",
    "## THIS IS WHERE WE ARE MERGING THE FILES\n",
    "\n",
    "classified__nba_df = pd.read_csv(\"output.csv\")\n",
    "\n",
    "\n",
    "combined_df = classified__nba_df.merge(college_df, left_on=['display_first_last', 'from_year'], right_on=['player_name', 'year'], how='inner')\n",
    "draft_combine = pd.read_csv(\"draft_combine_stats.csv\")\n",
    "combined_df = combined_df.merge(draft_combine, left_on='display_first_last', right_on='player_name', how='inner')\n",
    "# best sample I can get of college data\n",
    "\n",
    "\n",
    "combined_df = combined_df[star_players.get_training_columns()]\n",
    "combined_df.to_csv('output.csv', index=False)\n",
    "\n",
    "# print(combined_df['classification'].value_counts()['BUST'])\n",
    "# print(combined_df['classification'].value_counts()['SOLID'])\n",
    "# print(combined_df['classification'].value_counts()['STAR'])\n"
   ],
   "outputs": [],
   "execution_count": 11
  },
  {
   "metadata": {},
   "cell_type": "markdown",
   "source": [
    "We will now look at a visualization that shows the distribution of the three different classifications of NBA players, \"stars\",\n",
    "\"solid\" players, and \"busts"
   ],
   "id": "608a161d6b5236f8"
  },
  {
   "metadata": {
    "ExecuteTime": {
     "end_time": "2025-01-03T17:56:17.787750Z",
     "start_time": "2025-01-03T17:56:17.781530Z"
    }
   },
   "cell_type": "code",
   "source": [
    "classifications = combined_df.groupby(by='classification').size()\n",
    "display(classifications)\n",
    "\n",
    "# plot = classifications.plot.bar(color=['red','blue','green'],rot=0)\n",
    "\n",
    "# we will look at a visualization that shows the amount of\n",
    "\n",
    "\n"
   ],
   "id": "a82467735b14cdbc",
   "outputs": [
    {
     "data": {
      "text/plain": [
       "classification\n",
       "BUST     151\n",
       "SOLID    143\n",
       "STAR      31\n",
       "dtype: int64"
      ]
     },
     "metadata": {},
     "output_type": "display_data"
    }
   ],
   "execution_count": 16
  }
 ],
 "metadata": {
  "kernelspec": {
   "display_name": "Python 3",
   "language": "python",
   "name": "python3"
  },
  "language_info": {
   "codemirror_mode": {
    "name": "ipython",
    "version": 2
   },
   "file_extension": ".py",
   "mimetype": "text/x-python",
   "name": "python",
   "nbconvert_exporter": "python",
   "pygments_lexer": "ipython2",
   "version": "2.7.6"
  }
 },
 "nbformat": 4,
 "nbformat_minor": 5
}
