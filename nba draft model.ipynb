{
 "cells": [
  {
   "metadata": {},
   "cell_type": "markdown",
   "source": [
    "Good afternoon, and welcome to this data model.\n",
    "Today we are going to observe how we used draft eligible college basketball data to determine the success a player would have in the NBA.\n",
    "\n",
    "We have a lot of raw data, our college-stats file contains a deluge of all college players that played between the years 2009-2021, whether they made the NBA or not, and our common_player files and draft_combine files contain data across the entire history of the NBA.\n",
    "\n",
    "Below, we will start by defining success in the nba. We will have 3 classifications. A player is a star if they made an all star team, which we have compiled manually, a player is solid if they played at least 5 years in the nba (i.e. they were good enough to get a second contract after their rookie contract), and a player is a bust if they played less than 5 years in the NBA."
   ],
   "id": "17ec813017c2adad"
  },
  {
   "cell_type": "code",
   "id": "10776386ee7b7f61",
   "metadata": {
    "ExecuteTime": {
     "end_time": "2025-01-07T00:21:07.253991Z",
     "start_time": "2025-01-07T00:21:07.239942Z"
    }
   },
   "source": [
    "import pandas as pd\n",
    "import matplotlib.pyplot as plt\n",
    "import star_players\n",
    "import warnings\n",
    "from sklearn.ensemble import RandomForestClassifier\n",
    "from sklearn.metrics import accuracy_score, confusion_matrix, precision_score, recall_score, ConfusionMatrixDisplay\n",
    "from sklearn.model_selection import RandomizedSearchCV, train_test_split\n",
    "from scipy.stats import randint\n",
    "import ipywidgets as widgets\n",
    "from IPython.display import display, clear_output\n",
    "warnings.filterwarnings(\"ignore\")\n",
    "\n",
    "\n",
    "def classify_player(row):\n",
    "    if row['display_first_last'] in (star_players.get_star_players()):\n",
    "        return 'STAR'\n",
    "    elif row['to_year'] - row['from_year'] >= 5:\n",
    "        return 'SOLID'\n",
    "    else:\n",
    "        return 'BUST'\n"
   ],
   "outputs": [],
   "execution_count": 247
  },
  {
   "metadata": {},
   "cell_type": "markdown",
   "source": "Next, we wil perform some preprocessing of the raw data files in order to create a clean dataset that we can use to train our model. We wont go over everything we do in the cleaning process, but essentially, we will apply the classification function above to the data, as well select data that is most significant for analysis. We will display a sample of the data below that should show a good mix of stars, solid players and busts.",
   "id": "90a247b493d948c4"
  },
  {
   "metadata": {
    "collapsed": true,
    "ExecuteTime": {
     "end_time": "2025-01-07T00:21:08.942520Z",
     "start_time": "2025-01-07T00:21:07.315291Z"
    }
   },
   "cell_type": "code",
   "source": [
    "\n",
    "college_df = pd.read_csv(\"college-stats.csv\", low_memory=False)\n",
    "\n",
    "college_df = college_df.loc[college_df.groupby('player_name')['year'].idxmax()]\n",
    "\n",
    "nba_df = pd.read_csv(\"common_player_info.csv\")\n",
    "draft_year = 2009\n",
    "\n",
    "nba_df = nba_df[nba_df[\"from_year\"] >= draft_year]\n",
    "\n",
    "nba_df.sort_values(by=['from_year'], inplace=True)\n",
    "\n",
    "nba_df['classification'] = nba_df.apply(classify_player, axis=1)\n",
    "\n",
    "# We will remove the college players that most recently entered the NBA, as we do not have enough information to determine\n",
    "# whether they are a bust or a solid player yet.\n",
    "nba_df = nba_df[\n",
    "        ~(\n",
    "            (nba_df['from_year'] >= 2019) &\n",
    "            (nba_df['to_year'] >= 2023) &\n",
    "            (nba_df['classification'] == 'BUST')\n",
    "        )\n",
    "    ]\n",
    "\n",
    "\n",
    "\n",
    "columns = ['display_first_last', 'classification', 'from_year', 'to_year', 'school']\n",
    "\n",
    "nba_df = nba_df[columns]\n",
    "\n",
    "\n",
    "nba_df.to_csv('output.csv', index=False)\n",
    "\n",
    "\n",
    "\n",
    "\n",
    "classified__nba_df = pd.read_csv(\"output.csv\")\n",
    "\n",
    "# Merge college statistics with NBA player names\n",
    "clean_data = classified__nba_df.merge(college_df, left_on=['display_first_last', 'from_year'], right_on=['player_name', 'year'], how='inner')\n",
    "\n",
    "# Merge draft combine dataa with NBA player names.\n",
    "draft_combine = pd.read_csv(\"draft_combine_stats.csv\")\n",
    "clean_data = clean_data.merge(draft_combine, left_on='display_first_last', right_on='player_name', how='inner')\n",
    "\n",
    "# transform the year players are into their numerical equivalent\n",
    "clean_data['yr'] = clean_data['yr'].replace({'Fr': 1, 'So': 2, 'Jr': 3, 'Sr': 4})\n",
    "\n",
    "# Only select relevant data for model\n",
    "clean_data = clean_data[star_players.get_training_columns()]\n",
    "clean_data.to_csv('output.csv', index=False)\n",
    "clean_data.sample(10)\n",
    "\n",
    "#\n"
   ],
   "id": "initial_id",
   "outputs": [
    {
     "data": {
      "text/plain": [
       "    display_first_last classification  GP  Min_per   Ortg   usg   eFG  TS_per  \\\n",
       "187          Alex Kirk           BUST  32     74.3  104.9  22.4  50.7   53.61   \n",
       "250      Edmond Sumner          SOLID  21     45.6  110.2  24.8  50.7   56.97   \n",
       "255       Zach Collins          SOLID  39     43.1  120.6  24.8  67.6   70.32   \n",
       "40         Greg Monroe          SOLID  34     85.6  106.8  27.5  53.4   56.68   \n",
       "271      Chimezie Metu          SOLID  34     72.1  110.2  25.1  53.8   57.41   \n",
       "144      Tony Mitchell           BUST  30     80.9   98.2  22.9  48.2   52.27   \n",
       "0           Jeff Ayres          SOLID  35     80.2  130.8  20.2  66.0   68.99   \n",
       "218     Aaron Harrison           BUST  39     63.8  112.8  21.1  47.4   51.44   \n",
       "193        Rodney Hood          SOLID  35     81.9  119.8  22.3  55.0   59.02   \n",
       "58        Cole Aldrich          SOLID  36     66.4  116.9  20.2  56.2   59.61   \n",
       "\n",
       "     ORB_per  DRB_per  ...     ast     stl     blk      pts  height_wo_shoes  \\\n",
       "187      8.9     21.1  ...  1.0938  0.3750  2.6562  13.2500            81.25   \n",
       "250      1.8     13.5  ...  5.0000  1.2857  0.7619  14.9524            76.00   \n",
       "255     12.2     23.2  ...  0.4103  0.4615  1.7692  10.0000            82.25   \n",
       "40       8.6     25.2  ...  3.7647  1.2353  1.5294  16.1471            81.75   \n",
       "271      7.3     21.2  ...  1.5588  0.7941  1.7353  15.6765            80.50   \n",
       "144      8.5     20.4  ...  0.7333  1.0000  2.7333  13.1667            77.25   \n",
       "0       11.0     21.9  ...  0.8857  0.4857  0.8571  14.5429            80.75   \n",
       "218      1.9      9.2  ...  1.4103  1.1026  0.1538  11.0256            76.50   \n",
       "193      2.9     11.7  ...  2.1429  0.7143  0.2571  16.0571            79.25   \n",
       "58      13.6     25.4  ...  0.8611  0.7500  3.4722  11.2778            81.00   \n",
       "\n",
       "     height_w_shoes  weight  wingspan  standing_reach  body_fat_pct  \n",
       "187           82.75   252.0     87.50           109.5         13.60  \n",
       "250           77.75   176.4     81.00           102.5          8.30  \n",
       "255           84.00   232.2     85.00           111.0          8.90  \n",
       "40            83.00   246.6     86.25           108.5         11.20  \n",
       "271           81.50   219.6     84.50           108.0          5.05  \n",
       "144           78.25   216.4     82.00           100.0          5.70  \n",
       "0             82.00   239.6     85.00           107.0          5.50  \n",
       "218           78.00   209.2     80.25           100.5          6.00  \n",
       "193           80.50   208.2     80.50           103.0          7.45  \n",
       "58            83.25   236.0     88.75           111.5          8.50  \n",
       "\n",
       "[10 rows x 53 columns]"
      ],
      "text/html": [
       "<div>\n",
       "<style scoped>\n",
       "    .dataframe tbody tr th:only-of-type {\n",
       "        vertical-align: middle;\n",
       "    }\n",
       "\n",
       "    .dataframe tbody tr th {\n",
       "        vertical-align: top;\n",
       "    }\n",
       "\n",
       "    .dataframe thead th {\n",
       "        text-align: right;\n",
       "    }\n",
       "</style>\n",
       "<table border=\"1\" class=\"dataframe\">\n",
       "  <thead>\n",
       "    <tr style=\"text-align: right;\">\n",
       "      <th></th>\n",
       "      <th>display_first_last</th>\n",
       "      <th>classification</th>\n",
       "      <th>GP</th>\n",
       "      <th>Min_per</th>\n",
       "      <th>Ortg</th>\n",
       "      <th>usg</th>\n",
       "      <th>eFG</th>\n",
       "      <th>TS_per</th>\n",
       "      <th>ORB_per</th>\n",
       "      <th>DRB_per</th>\n",
       "      <th>...</th>\n",
       "      <th>ast</th>\n",
       "      <th>stl</th>\n",
       "      <th>blk</th>\n",
       "      <th>pts</th>\n",
       "      <th>height_wo_shoes</th>\n",
       "      <th>height_w_shoes</th>\n",
       "      <th>weight</th>\n",
       "      <th>wingspan</th>\n",
       "      <th>standing_reach</th>\n",
       "      <th>body_fat_pct</th>\n",
       "    </tr>\n",
       "  </thead>\n",
       "  <tbody>\n",
       "    <tr>\n",
       "      <th>187</th>\n",
       "      <td>Alex Kirk</td>\n",
       "      <td>BUST</td>\n",
       "      <td>32</td>\n",
       "      <td>74.3</td>\n",
       "      <td>104.9</td>\n",
       "      <td>22.4</td>\n",
       "      <td>50.7</td>\n",
       "      <td>53.61</td>\n",
       "      <td>8.9</td>\n",
       "      <td>21.1</td>\n",
       "      <td>...</td>\n",
       "      <td>1.0938</td>\n",
       "      <td>0.3750</td>\n",
       "      <td>2.6562</td>\n",
       "      <td>13.2500</td>\n",
       "      <td>81.25</td>\n",
       "      <td>82.75</td>\n",
       "      <td>252.0</td>\n",
       "      <td>87.50</td>\n",
       "      <td>109.5</td>\n",
       "      <td>13.60</td>\n",
       "    </tr>\n",
       "    <tr>\n",
       "      <th>250</th>\n",
       "      <td>Edmond Sumner</td>\n",
       "      <td>SOLID</td>\n",
       "      <td>21</td>\n",
       "      <td>45.6</td>\n",
       "      <td>110.2</td>\n",
       "      <td>24.8</td>\n",
       "      <td>50.7</td>\n",
       "      <td>56.97</td>\n",
       "      <td>1.8</td>\n",
       "      <td>13.5</td>\n",
       "      <td>...</td>\n",
       "      <td>5.0000</td>\n",
       "      <td>1.2857</td>\n",
       "      <td>0.7619</td>\n",
       "      <td>14.9524</td>\n",
       "      <td>76.00</td>\n",
       "      <td>77.75</td>\n",
       "      <td>176.4</td>\n",
       "      <td>81.00</td>\n",
       "      <td>102.5</td>\n",
       "      <td>8.30</td>\n",
       "    </tr>\n",
       "    <tr>\n",
       "      <th>255</th>\n",
       "      <td>Zach Collins</td>\n",
       "      <td>SOLID</td>\n",
       "      <td>39</td>\n",
       "      <td>43.1</td>\n",
       "      <td>120.6</td>\n",
       "      <td>24.8</td>\n",
       "      <td>67.6</td>\n",
       "      <td>70.32</td>\n",
       "      <td>12.2</td>\n",
       "      <td>23.2</td>\n",
       "      <td>...</td>\n",
       "      <td>0.4103</td>\n",
       "      <td>0.4615</td>\n",
       "      <td>1.7692</td>\n",
       "      <td>10.0000</td>\n",
       "      <td>82.25</td>\n",
       "      <td>84.00</td>\n",
       "      <td>232.2</td>\n",
       "      <td>85.00</td>\n",
       "      <td>111.0</td>\n",
       "      <td>8.90</td>\n",
       "    </tr>\n",
       "    <tr>\n",
       "      <th>40</th>\n",
       "      <td>Greg Monroe</td>\n",
       "      <td>SOLID</td>\n",
       "      <td>34</td>\n",
       "      <td>85.6</td>\n",
       "      <td>106.8</td>\n",
       "      <td>27.5</td>\n",
       "      <td>53.4</td>\n",
       "      <td>56.68</td>\n",
       "      <td>8.6</td>\n",
       "      <td>25.2</td>\n",
       "      <td>...</td>\n",
       "      <td>3.7647</td>\n",
       "      <td>1.2353</td>\n",
       "      <td>1.5294</td>\n",
       "      <td>16.1471</td>\n",
       "      <td>81.75</td>\n",
       "      <td>83.00</td>\n",
       "      <td>246.6</td>\n",
       "      <td>86.25</td>\n",
       "      <td>108.5</td>\n",
       "      <td>11.20</td>\n",
       "    </tr>\n",
       "    <tr>\n",
       "      <th>271</th>\n",
       "      <td>Chimezie Metu</td>\n",
       "      <td>SOLID</td>\n",
       "      <td>34</td>\n",
       "      <td>72.1</td>\n",
       "      <td>110.2</td>\n",
       "      <td>25.1</td>\n",
       "      <td>53.8</td>\n",
       "      <td>57.41</td>\n",
       "      <td>7.3</td>\n",
       "      <td>21.2</td>\n",
       "      <td>...</td>\n",
       "      <td>1.5588</td>\n",
       "      <td>0.7941</td>\n",
       "      <td>1.7353</td>\n",
       "      <td>15.6765</td>\n",
       "      <td>80.50</td>\n",
       "      <td>81.50</td>\n",
       "      <td>219.6</td>\n",
       "      <td>84.50</td>\n",
       "      <td>108.0</td>\n",
       "      <td>5.05</td>\n",
       "    </tr>\n",
       "    <tr>\n",
       "      <th>144</th>\n",
       "      <td>Tony Mitchell</td>\n",
       "      <td>BUST</td>\n",
       "      <td>30</td>\n",
       "      <td>80.9</td>\n",
       "      <td>98.2</td>\n",
       "      <td>22.9</td>\n",
       "      <td>48.2</td>\n",
       "      <td>52.27</td>\n",
       "      <td>8.5</td>\n",
       "      <td>20.4</td>\n",
       "      <td>...</td>\n",
       "      <td>0.7333</td>\n",
       "      <td>1.0000</td>\n",
       "      <td>2.7333</td>\n",
       "      <td>13.1667</td>\n",
       "      <td>77.25</td>\n",
       "      <td>78.25</td>\n",
       "      <td>216.4</td>\n",
       "      <td>82.00</td>\n",
       "      <td>100.0</td>\n",
       "      <td>5.70</td>\n",
       "    </tr>\n",
       "    <tr>\n",
       "      <th>0</th>\n",
       "      <td>Jeff Ayres</td>\n",
       "      <td>SOLID</td>\n",
       "      <td>35</td>\n",
       "      <td>80.2</td>\n",
       "      <td>130.8</td>\n",
       "      <td>20.2</td>\n",
       "      <td>66.0</td>\n",
       "      <td>68.99</td>\n",
       "      <td>11.0</td>\n",
       "      <td>21.9</td>\n",
       "      <td>...</td>\n",
       "      <td>0.8857</td>\n",
       "      <td>0.4857</td>\n",
       "      <td>0.8571</td>\n",
       "      <td>14.5429</td>\n",
       "      <td>80.75</td>\n",
       "      <td>82.00</td>\n",
       "      <td>239.6</td>\n",
       "      <td>85.00</td>\n",
       "      <td>107.0</td>\n",
       "      <td>5.50</td>\n",
       "    </tr>\n",
       "    <tr>\n",
       "      <th>218</th>\n",
       "      <td>Aaron Harrison</td>\n",
       "      <td>BUST</td>\n",
       "      <td>39</td>\n",
       "      <td>63.8</td>\n",
       "      <td>112.8</td>\n",
       "      <td>21.1</td>\n",
       "      <td>47.4</td>\n",
       "      <td>51.44</td>\n",
       "      <td>1.9</td>\n",
       "      <td>9.2</td>\n",
       "      <td>...</td>\n",
       "      <td>1.4103</td>\n",
       "      <td>1.1026</td>\n",
       "      <td>0.1538</td>\n",
       "      <td>11.0256</td>\n",
       "      <td>76.50</td>\n",
       "      <td>78.00</td>\n",
       "      <td>209.2</td>\n",
       "      <td>80.25</td>\n",
       "      <td>100.5</td>\n",
       "      <td>6.00</td>\n",
       "    </tr>\n",
       "    <tr>\n",
       "      <th>193</th>\n",
       "      <td>Rodney Hood</td>\n",
       "      <td>SOLID</td>\n",
       "      <td>35</td>\n",
       "      <td>81.9</td>\n",
       "      <td>119.8</td>\n",
       "      <td>22.3</td>\n",
       "      <td>55.0</td>\n",
       "      <td>59.02</td>\n",
       "      <td>2.9</td>\n",
       "      <td>11.7</td>\n",
       "      <td>...</td>\n",
       "      <td>2.1429</td>\n",
       "      <td>0.7143</td>\n",
       "      <td>0.2571</td>\n",
       "      <td>16.0571</td>\n",
       "      <td>79.25</td>\n",
       "      <td>80.50</td>\n",
       "      <td>208.2</td>\n",
       "      <td>80.50</td>\n",
       "      <td>103.0</td>\n",
       "      <td>7.45</td>\n",
       "    </tr>\n",
       "    <tr>\n",
       "      <th>58</th>\n",
       "      <td>Cole Aldrich</td>\n",
       "      <td>SOLID</td>\n",
       "      <td>36</td>\n",
       "      <td>66.4</td>\n",
       "      <td>116.9</td>\n",
       "      <td>20.2</td>\n",
       "      <td>56.2</td>\n",
       "      <td>59.61</td>\n",
       "      <td>13.6</td>\n",
       "      <td>25.4</td>\n",
       "      <td>...</td>\n",
       "      <td>0.8611</td>\n",
       "      <td>0.7500</td>\n",
       "      <td>3.4722</td>\n",
       "      <td>11.2778</td>\n",
       "      <td>81.00</td>\n",
       "      <td>83.25</td>\n",
       "      <td>236.0</td>\n",
       "      <td>88.75</td>\n",
       "      <td>111.5</td>\n",
       "      <td>8.50</td>\n",
       "    </tr>\n",
       "  </tbody>\n",
       "</table>\n",
       "<p>10 rows × 53 columns</p>\n",
       "</div>"
      ]
     },
     "execution_count": 248,
     "metadata": {},
     "output_type": "execute_result"
    }
   ],
   "execution_count": 248
  },
  {
   "metadata": {},
   "cell_type": "markdown",
   "source": "Awesome! we can see that for every player listed, we have their associated statistics and measurements. One final bit of preprocessing will be to remove player names, as our random forest model can only accept numerical input",
   "id": "bfda0f027fb1288d"
  },
  {
   "metadata": {
    "ExecuteTime": {
     "end_time": "2025-01-07T00:21:09.135730Z",
     "start_time": "2025-01-07T00:21:09.130469Z"
    }
   },
   "cell_type": "code",
   "source": [
    "\n",
    "clean_data = clean_data.drop('display_first_last', axis=1)"
   ],
   "id": "54d270797c3c569c",
   "outputs": [],
   "execution_count": 249
  },
  {
   "metadata": {},
   "cell_type": "markdown",
   "source": [
    "\n",
    "\n",
    "Next, we will now look at a visualization that shows the distribution of the three different classifications of NBA players, \"stars\",\n",
    "\"solid\" players, and \"busts"
   ],
   "id": "608a161d6b5236f8"
  },
  {
   "metadata": {
    "ExecuteTime": {
     "end_time": "2025-01-07T00:21:09.459991Z",
     "start_time": "2025-01-07T00:21:09.287054Z"
    }
   },
   "cell_type": "code",
   "source": [
    "classifications = clean_data.groupby(by='classification').size()\n",
    "plot = classifications.plot.bar(color=['red', 'yellow','green'],rot=0)\n"
   ],
   "id": "a82467735b14cdbc",
   "outputs": [
    {
     "data": {
      "text/plain": [
       "<Figure size 640x480 with 1 Axes>"
      ],
      "image/png": "[encoded data removed]"
     },
     "metadata": {},
     "output_type": "display_data"
    }
   ],
   "execution_count": 250
  },
  {
   "metadata": {},
   "cell_type": "markdown",
   "source": [
    "As we can see above, we have relatively even numbers of busts and solid players, with very few star players.\n",
    "\n",
    "We will now begin the process of training the model, specifically a random forest model.\n",
    "\n",
    "First, lets split our data into test data and training data. We will need to identify the target result with is the classification of the player, and the independent variables, which are their college statistics and measurements"
   ],
   "id": "2a89eca0f2ef56b1"
  },
  {
   "metadata": {
    "ExecuteTime": {
     "end_time": "2025-01-07T00:21:09.657241Z",
     "start_time": "2025-01-07T00:21:09.645428Z"
    }
   },
   "cell_type": "code",
   "source": [
    "# identify independent and dependent variables\n",
    "independentVars = clean_data.drop('classification', axis=1)\n",
    "dependentVar = clean_data['classification']\n",
    "\n",
    "training_independent, test_independent, training_dependent, test_dependent = train_test_split(independentVars, dependentVar, test_size=0.1, random_state=24, stratify=dependentVar)"
   ],
   "id": "81758b51c0cdc0fa",
   "outputs": [],
   "execution_count": 251
  },
  {
   "metadata": {},
   "cell_type": "markdown",
   "source": [
    "Above we have defined our traiing and test data, as well as isolated the variable (classification) that we want to train our model on.\n",
    "Actually training the model to a baseline level is quite simple. We will train a random forest model below as well as test it using our designated data."
   ],
   "id": "3acf78c8ceff2d8e"
  },
  {
   "metadata": {
    "ExecuteTime": {
     "end_time": "2025-01-07T00:21:10.299687Z",
     "start_time": "2025-01-07T00:21:09.665096Z"
    }
   },
   "cell_type": "code",
   "source": [
    "\n",
    "\n",
    "\n",
    "# create default tree\n",
    "random_forest = RandomForestClassifier(random_state= 26)\n",
    "\n",
    "\n",
    "# smote = SMOTE(random_state=24)\n",
    "# training_independent_resam, training_dependent_resam = smote.fit_resample(training_independent, training_dependent)\n",
    "\n",
    "random_forest.fit(training_independent, training_dependent)\n",
    "\n",
    "# random_forest.fit(training_independent_resam, training_dependent_resam)\n",
    "\n",
    "predictions = random_forest.predict(test_independent)\n",
    "\n",
    "\n",
    "\n",
    "accuracy = accuracy_score(test_dependent, predictions)\n",
    "print(\"The accuracy of the model is: \" + str(round(accuracy * 100)) + '%')\n",
    "\n",
    "\n",
    "\n",
    "ConfusionMatrixDisplay.from_estimator(random_forest, test_independent, test_dependent)\n",
    "\n"
   ],
   "id": "ef7ca65ceb2fcc0e",
   "outputs": [
    {
     "name": "stdout",
     "output_type": "stream",
     "text": [
      "The accuracy of the model is: 64%\n"
     ]
    },
    {
     "data": {
      "text/plain": [
       "<sklearn.metrics._plot.confusion_matrix.ConfusionMatrixDisplay at 0x203929f2e70>"
      ]
     },
     "execution_count": 252,
     "metadata": {},
     "output_type": "execute_result"
    },
    {
     "data": {
      "text/plain": [
       "<Figure size 640x480 with 2 Axes>"
      ],
      "image/png": "[encoded data removed]"
     },
     "metadata": {},
     "output_type": "display_data"
    }
   ],
   "execution_count": 252
  },
  {
   "metadata": {},
   "cell_type": "markdown",
   "source": "Above, we can see that our model is accurate roughly ~67% of the time, but when we look at the confusion matrix generated, we find that our model does a relatively decent job predicting whether a player would be either solid or a bust, but does quite poorly with predicting star players. Lets see if we can improve the accuracy of model by fine-tuning it below",
   "id": "a4daeae6097616b1"
  },
  {
   "metadata": {
    "ExecuteTime": {
     "end_time": "2025-01-07T00:21:43.153883Z",
     "start_time": "2025-01-07T00:21:10.590246Z"
    }
   },
   "cell_type": "code",
   "source": [
    "\n",
    "# Punish the model for getting stars wrong\n",
    "class_weights = {\n",
    "    'STAR': 10.0,\n",
    "    'SOLID': 1.0,\n",
    "    'BUST': 1.0\n",
    "}\n",
    "\n",
    "params = {'n_estimators': randint(1,1000),\n",
    "          'max_depth': randint(1,50)}\n",
    "\n",
    "\n",
    "random_forest_2 = RandomForestClassifier(random_state= 26, class_weight=class_weights)\n",
    "\n",
    "\n",
    "#use a hyperparameter tuning algorithm to attempt to find the best random forest with the best hyperparameters\n",
    "search_engine = RandomizedSearchCV(random_forest_2, param_distributions=params, n_iter=5, cv=5, random_state=26)\n",
    "\n",
    "search_engine.fit(training_independent, training_dependent)\n",
    "\n",
    "best_random_forest = search_engine.best_estimator_\n",
    "\n",
    "newPredictions = best_random_forest.predict(test_independent)\n",
    "\n",
    "accuracy2 = accuracy_score(test_dependent, newPredictions)\n",
    "\n",
    "\n",
    "print(\"The accuracy of the model is: \" + str(round(accuracy2 * 100)) + '%')\n",
    "\n",
    "ConfusionMatrixDisplay.from_estimator(best_random_forest, test_independent, test_dependent)"
   ],
   "id": "898cdb59d554f1bc",
   "outputs": [
    {
     "name": "stdout",
     "output_type": "stream",
     "text": [
      "The accuracy of the model is: 70%\n"
     ]
    },
    {
     "data": {
      "text/plain": [
       "<sklearn.metrics._plot.confusion_matrix.ConfusionMatrixDisplay at 0x203982046b0>"
      ]
     },
     "execution_count": 253,
     "metadata": {},
     "output_type": "execute_result"
    },
    {
     "data": {
      "text/plain": [
       "<Figure size 640x480 with 2 Axes>"
      ],
      "image/png": "[encoded data removed]"
     },
     "metadata": {},
     "output_type": "display_data"
    }
   ],
   "execution_count": 253
  },
  {
   "metadata": {},
   "cell_type": "markdown",
   "source": [
    "Above, we can see that while we used RandomizedSearchCV to randomly select the hyperparameters needed to create the best random forest, we were able to improve the accuracy by roughly 6%. However, we did not see any improvement in the models ability to accurately predict star players. In the future, further enhancements that can be added to the project to enable it to predict stars more accurately would be to increase the sample size of star players.\n",
    "\n",
    "For now, lets take a look at the features the model deemed most important and predictive during its training\n"
   ],
   "id": "c188f1514e57ebc6"
  },
  {
   "metadata": {
    "ExecuteTime": {
     "end_time": "2025-01-07T00:21:43.674043Z",
     "start_time": "2025-01-07T00:21:43.160867Z"
    }
   },
   "cell_type": "code",
   "source": [
    "features = independentVars.columns\n",
    "importance = best_random_forest.feature_importances_\n",
    "\n",
    "# Create a DataFrame for visualization\n",
    "feature_importance = pd.DataFrame({\n",
    "    'Feature': features,\n",
    "    'Importance': importance\n",
    "}).sort_values(by='Importance', ascending=False)\n",
    "\n",
    "# Plot the feature importance\n",
    "plt.figure(figsize=(12, 6))\n",
    "plt.bar(feature_importance['Feature'], feature_importance['Importance'])\n",
    "plt.xlabel('Features')\n",
    "plt.ylabel('Importance')\n",
    "plt.title('Importance of different statistics for Draft Model Prediction ')\n",
    "plt.xticks(rotation=45, ha='right')\n",
    "plt.tight_layout()\n",
    "plt.show()"
   ],
   "id": "553c93e32ad22fbb",
   "outputs": [
    {
     "data": {
      "text/plain": [
       "<Figure size 1200x600 with 1 Axes>"
      ],
      "image/png": "[encoded data removed]"
     },
     "metadata": {},
     "output_type": "display_data"
    }
   ],
   "execution_count": 254
  },
  {
   "metadata": {},
   "cell_type": "markdown",
   "source": [
    "Looking at the chart above, we can see some interesting results. The statistics that are seen as most determinative of a players success in the nba include free throws, both the players ability to shoot them, as well as their abiiity to draw free throws in the first place, box plus minus, or how well a team performs when a player is on the court vs off the court, and the year of school they are in. This follows conventional wisdom, in that free throws are widely seaen as the strongest indicator of a players ability to shoot, and scouts most often prefer to draft younger players over older players, as the former has more room to grow than the latter.\n",
    "\n",
    "Another thing we can potentially do to improve the model would be to prune some of the less important statistics from the model, in order to let the more important statistics guide the models training."
   ],
   "id": "d1918382cf51b060"
  },
  {
   "metadata": {},
   "cell_type": "markdown",
   "source": [
    "# USER INTERFACE FOR TESTING INPUT BELOW\n",
    "\n",
    "The code below is available for users who want to test the capabilities of the model for themselves. Player data has many different input points,  so for simplicity and ease of use, I provided the data for three NBA players that were drafted recently that are not in the dataset.\n",
    "\n",
    "To test the data below, you can either\n",
    "\n",
    "## Test the model using the data presently in the notebook\n",
    "* Uncomment line 46\n",
    "* Uncomment lines 4-40\n",
    "* Change the numerical data in the dataframe as desired to see how the model changes based on modifications\n",
    "* Run the notebook, one should see the predictions for the players below the code snippet of the notebook\n",
    "\n",
    "## Test the model by creating a custom player in Excel\n",
    "* Uncomment lines 43 and 46\n",
    "* In Excel, navigate to this project folder, and open user_test.csv\n",
    "* Fill in all datapoints for a random player of your creation\n",
    "* **Important**: close user_test.csv once done with the modification\n",
    "* Run the notebook, one should see the predictions for the players below the code snippet of the notebook"
   ],
   "id": "c3cae628b78cb55a"
  },
  {
   "metadata": {
    "ExecuteTime": {
     "end_time": "2025-01-07T00:21:43.812021Z",
     "start_time": "2025-01-07T00:21:43.741065Z"
    }
   },
   "cell_type": "code",
   "source": [
    "\n",
    "\n",
    "\n",
    "sample_data = pd.DataFrame([\n",
    "    {\n",
    "        # Dalton Knecht,\n",
    "        \"GP\": 37, \"Min_per\": 79.1, \"Ortg\": 121.3,\n",
    "        \"usg\": 24.7, \"eFG\": 61.8, \"TS_per\": 64.17, \"ORB_per\": 6.5, \"DRB_per\": 18.6, \"AST_per\": 8.9, \"TO_per\": 12.1,\n",
    "        \"FTM\": 94, \"FTA\": 118, \"FT_per\": 0.797, \"twoPM\": 168, \"twoPA\": 287, \"twoP_per\": 0.585, \"TPM\": 77, \"TPA\": 172,\n",
    "        \"TP_per\": 0.448, \"blk_per\": 1.2, \"stl_per\": 2.5, \"ftr\": 25.7, \"yr\": \"5\", \"porpag\": 5.06887, \"adjoe\": 131.119,\n",
    "        \"pfr\": 2.8, \"ast/tov\": 0.76788899, \"drtg\": 95.0436, \"adrtg\": 92.7825, \"dporpag\": 3.81102, \"stops\": 221.09,\n",
    "        \"bpm\": 7.16881, \"obpm\": 5.51562, \"dbpm\": 1.65319, \"gbpm\": 9.26679, \"mp\": 31.8378, \"ogbpm\": 8.10676,\n",
    "        \"dgbpm\": 1.16003, \"oreb\": 1.6757, \"dreb\": 5.2432, \"treb\": 6.9189, \"ast\": 1.1622, \"stl\": 0.6216, \"blk\": 1.2162,\n",
    "        \"pts\": 17.8649, \"height_wo_shoes\": 80, \"height_w_shoes\": 80.75, \"weight\": 228, \"wingspan\": 83.75,\n",
    "        \"standing_reach\": 106, \"body_fat_pct\": 4\n",
    "    },\n",
    "    {\n",
    "        # Jalen Hood-Schifino,\n",
    "        \"GP\": 33, \"Min_per\": 28.5, \"Ortg\": 94.7,\n",
    "        \"usg\": 23.4, \"eFG\": 45.8, \"TS_per\": 48.2, \"ORB_per\": 2.1, \"DRB_per\": 10.0, \"AST_per\": 16.5, \"TO_per\": 15.8,\n",
    "        \"FTM\": 50, \"FTA\": 75, \"FT_per\": 66.7, \"twoPM\": 100, \"twoPA\": 240, \"twoP_per\": 41.7, \"TPM\": 20, \"TPA\": 80,\n",
    "        \"TP_per\": 25.0, \"blk_per\": 0.3, \"stl_per\": 1.0, \"ftr\": 0.20, \"yr\": \"1\", \"porpag\": 1.5, \"adjoe\": 98.0,\n",
    "        \"pfr\": 0.14, \"ast/tov\": 0.8, \"drtg\": 110.0, \"adrtg\": 112.0, \"dporpag\": 1.2, \"stops\": 0.8, \"bpm\": -0.5,\n",
    "        \"obpm\": -0.8, \"dbpm\": 0.3, \"gbpm\": -0.2, \"mp\": 900, \"ogbpm\": -0.6, \"dgbpm\": 0.2, \"oreb\": 15, \"dreb\": 100,\n",
    "        \"treb\": 115, \"ast\": 110, \"stl\": 20, \"blk\": 5, \"pts\": 350, \"height_wo_shoes\": 77.0, \"height_w_shoes\": 78.0,\n",
    "        \"weight\": 200, \"wingspan\": 80.0, \"standing_reach\": 98.0, \"body_fat_pct\": 7.0\n",
    "    },\n",
    "    {\n",
    "        # Austin Reaves\n",
    "        \"GP\": 37, \"Min_per\": 84, \"Ortg\": 114.1,\n",
    "        \"usg\": 22.8, \"eFG\": 51.6, \"TS_per\": 57.87, \"ORB_per\": 3.2, \"DRB_per\": 10, \"AST_per\": 28.8, \"TO_per\": 19.8,\n",
    "        \"FTM\": 143, \"FTA\": 174, \"FT_per\": 0.822, \"twoPM\": 160, \"twoPA\": 320, \"twoP_per\": 0.5, \"TPM\": 23, \"TPA\": 57,\n",
    "        \"TP_per\": 0.404, \"blk_per\": 1.7, \"stl_per\": 2.8, \"ftr\": 46.2, \"yr\": \"5\", \"porpag\": 4.39339, \"adjoe\": 125.112,\n",
    "        \"pfr\": 2, \"ast/tov\": 1.90907054, \"drtg\": 100.791, \"adrtg\": 94.6415, \"dporpag\": 4.06009, \"stops\": 235.269,\n",
    "        \"bpm\": 7.76378, \"obpm\": 4.95128, \"dbpm\": 2.8125, \"gbpm\": 8.11177, \"mp\": 33.7297, \"ogbpm\": 5.06269,\n",
    "        \"dgbpm\": 3.04908, \"oreb\": 0.8919, \"dreb\": 3.2432, \"treb\": 4.1351, \"ast\": 5.1081, \"stl\": 1.6486, \"blk\": 0.4865,\n",
    "        \"pts\": 14.3784, \"height_wo_shoes\": 76.5, \"height_w_shoes\": 78, \"weight\": 180, \"wingspan\": 83.5,\n",
    "        \"standing_reach\": 104, \"body_fat_pct\": 3\n",
    "    }\n",
    "])\n",
    "\n",
    "all_columns = sample_data.columns\n",
    "\n",
    "widgets_dict = {\n",
    "    col: widgets.FloatText(description=col) for col in all_columns\n",
    "}\n",
    "\n",
    "def prepopulate_data(row):\n",
    "    # row is a pandas Series\n",
    "    for col in all_columns:\n",
    "        widgets_dict[col].value = row[col]\n",
    "\n",
    "def collect_data(num):\n",
    "    print(num)\n",
    "    new_row = {col: widget.value for col, wid in widgets_dict.items()}\n",
    "    new_df = pd.DataFrame([new_row])\n",
    "    # clear_output()\n",
    "    print(best_random_forest.predict(new_df))\n",
    "\n",
    "buttons = []\n",
    "for i, row in sample_data.iterrows():\n",
    "    button = widgets.Button(description=f\"Prepopulate Player {i+1}\")\n",
    "    button.on_click(lambda b, r=row: prepopulate_data(r))\n",
    "    buttons.append(button)\n",
    "#\n",
    "# submit_button = widgets.Button(description=\"Submit\")\n",
    "# submit_button.on_click(collect_data)\n",
    "\n",
    "\n",
    "\n",
    "\n",
    "# data = pd.read_csv('user_test.csv', low_memory=False)\n",
    "\n",
    "\n",
    "# print(best_random_forest.predict(data))"
   ],
   "id": "53eb80192215851d",
   "outputs": [],
   "execution_count": 255
  },
  {
   "metadata": {
    "ExecuteTime": {
     "end_time": "2025-01-07T00:21:44.028179Z",
     "start_time": "2025-01-07T00:21:43.931839Z"
    }
   },
   "cell_type": "code",
   "source": [
    "# Display\n",
    "for widget in widgets_dict.values():\n",
    "    display(widget)\n",
    "for button in buttons:\n",
    "    display(button)\n",
    "# display(submit_button)\n"
   ],
   "id": "d62de14a3da30bc",
   "outputs": [
    {
     "data": {
      "text/plain": [
       "FloatText(value=0.0, description='GP')"
      ],
      "application/vnd.jupyter.widget-view+json": {
       "version_major": 2,
       "version_minor": 0,
       "model_id": "c3b3d3be97fb43d487732c23271780dd"
      }
     },
     "metadata": {},
     "output_type": "display_data"
    },
    {
     "data": {
      "text/plain": [
       "FloatText(value=0.0, description='Min_per')"
      ],
      "application/vnd.jupyter.widget-view+json": {
       "version_major": 2,
       "version_minor": 0,
       "model_id": "fbefd68b201d41d68b6b13bacb10c64c"
      }
     },
     "metadata": {},
     "output_type": "display_data"
    },
    {
     "data": {
      "text/plain": [
       "FloatText(value=0.0, description='Ortg')"
      ],
      "application/vnd.jupyter.widget-view+json": {
       "version_major": 2,
       "version_minor": 0,
       "model_id": "9f38123507cf4297a7f90bcd8cab55b6"
      }
     },
     "metadata": {},
     "output_type": "display_data"
    },
    {
     "data": {
      "text/plain": [
       "FloatText(value=0.0, description='usg')"
      ],
      "application/vnd.jupyter.widget-view+json": {
       "version_major": 2,
       "version_minor": 0,
       "model_id": "3f71baaedc34439c94dc624b2449e04a"
      }
     },
     "metadata": {},
     "output_type": "display_data"
    },
    {
     "data": {
      "text/plain": [
       "FloatText(value=0.0, description='eFG')"
      ],
      "application/vnd.jupyter.widget-view+json": {
       "version_major": 2,
       "version_minor": 0,
       "model_id": "ca51b957ea434f60993ecfea70e4dd43"
      }
     },
     "metadata": {},
     "output_type": "display_data"
    },
    {
     "data": {
      "text/plain": [
       "FloatText(value=0.0, description='TS_per')"
      ],
      "application/vnd.jupyter.widget-view+json": {
       "version_major": 2,
       "version_minor": 0,
       "model_id": "3736b54737bf4e6490e27acf908a953a"
      }
     },
     "metadata": {},
     "output_type": "display_data"
    },
    {
     "data": {
      "text/plain": [
       "FloatText(value=0.0, description='ORB_per')"
      ],
      "application/vnd.jupyter.widget-view+json": {
       "version_major": 2,
       "version_minor": 0,
       "model_id": "5200edf1130c47929ccb84b3b3dd433f"
      }
     },
     "metadata": {},
     "output_type": "display_data"
    },
    {
     "data": {
      "text/plain": [
       "FloatText(value=0.0, description='DRB_per')"
      ],
      "application/vnd.jupyter.widget-view+json": {
       "version_major": 2,
       "version_minor": 0,
       "model_id": "f1e1c84d537e4ba195e3048037597a31"
      }
     },
     "metadata": {},
     "output_type": "display_data"
    },
    {
     "data": {
      "text/plain": [
       "FloatText(value=0.0, description='AST_per')"
      ],
      "application/vnd.jupyter.widget-view+json": {
       "version_major": 2,
       "version_minor": 0,
       "model_id": "58361d70fb2840e3803c97d6815d2dcc"
      }
     },
     "metadata": {},
     "output_type": "display_data"
    },
    {
     "data": {
      "text/plain": [
       "FloatText(value=0.0, description='TO_per')"
      ],
      "application/vnd.jupyter.widget-view+json": {
       "version_major": 2,
       "version_minor": 0,
       "model_id": "7b28c571ac3d4f808df5b386eeb5fc52"
      }
     },
     "metadata": {},
     "output_type": "display_data"
    },
    {
     "data": {
      "text/plain": [
       "FloatText(value=0.0, description='FTM')"
      ],
      "application/vnd.jupyter.widget-view+json": {
       "version_major": 2,
       "version_minor": 0,
       "model_id": "5beb9f7fac484d5d8d1eb971f15bc2b9"
      }
     },
     "metadata": {},
     "output_type": "display_data"
    },
    {
     "data": {
      "text/plain": [
       "FloatText(value=0.0, description='FTA')"
      ],
      "application/vnd.jupyter.widget-view+json": {
       "version_major": 2,
       "version_minor": 0,
       "model_id": "cf6e0d6e863a44daa8088d0361732bfb"
      }
     },
     "metadata": {},
     "output_type": "display_data"
    },
    {
     "data": {
      "text/plain": [
       "FloatText(value=0.0, description='FT_per')"
      ],
      "application/vnd.jupyter.widget-view+json": {
       "version_major": 2,
       "version_minor": 0,
       "model_id": "7a25bfe3d5254b118777202a5970b824"
      }
     },
     "metadata": {},
     "output_type": "display_data"
    },
    {
     "data": {
      "text/plain": [
       "FloatText(value=0.0, description='twoPM')"
      ],
      "application/vnd.jupyter.widget-view+json": {
       "version_major": 2,
       "version_minor": 0,
       "model_id": "7071d227d60640faa08526482db1e972"
      }
     },
     "metadata": {},
     "output_type": "display_data"
    },
    {
     "data": {
      "text/plain": [
       "FloatText(value=0.0, description='twoPA')"
      ],
      "application/vnd.jupyter.widget-view+json": {
       "version_major": 2,
       "version_minor": 0,
       "model_id": "4bcf3384d97342ec9f0ff3b3157a283c"
      }
     },
     "metadata": {},
     "output_type": "display_data"
    },
    {
     "data": {
      "text/plain": [
       "FloatText(value=0.0, description='twoP_per')"
      ],
      "application/vnd.jupyter.widget-view+json": {
       "version_major": 2,
       "version_minor": 0,
       "model_id": "51e5e04062b947df87077e93e1b5c950"
      }
     },
     "metadata": {},
     "output_type": "display_data"
    },
    {
     "data": {
      "text/plain": [
       "FloatText(value=0.0, description='TPM')"
      ],
      "application/vnd.jupyter.widget-view+json": {
       "version_major": 2,
       "version_minor": 0,
       "model_id": "34fcaa4b6770437cb20fd6df3adf8077"
      }
     },
     "metadata": {},
     "output_type": "display_data"
    },
    {
     "data": {
      "text/plain": [
       "FloatText(value=0.0, description='TPA')"
      ],
      "application/vnd.jupyter.widget-view+json": {
       "version_major": 2,
       "version_minor": 0,
       "model_id": "0852cb862baf4ec4a6e483c647b4445f"
      }
     },
     "metadata": {},
     "output_type": "display_data"
    },
    {
     "data": {
      "text/plain": [
       "FloatText(value=0.0, description='TP_per')"
      ],
      "application/vnd.jupyter.widget-view+json": {
       "version_major": 2,
       "version_minor": 0,
       "model_id": "f973e12567e249cfb2ebde1ad2af1027"
      }
     },
     "metadata": {},
     "output_type": "display_data"
    },
    {
     "data": {
      "text/plain": [
       "FloatText(value=0.0, description='blk_per')"
      ],
      "application/vnd.jupyter.widget-view+json": {
       "version_major": 2,
       "version_minor": 0,
       "model_id": "047617f6c5ef42b2b733cfbec7267698"
      }
     },
     "metadata": {},
     "output_type": "display_data"
    },
    {
     "data": {
      "text/plain": [
       "FloatText(value=0.0, description='stl_per')"
      ],
      "application/vnd.jupyter.widget-view+json": {
       "version_major": 2,
       "version_minor": 0,
       "model_id": "546973c5ada14b13b09a65d9dad77b24"
      }
     },
     "metadata": {},
     "output_type": "display_data"
    },
    {
     "data": {
      "text/plain": [
       "FloatText(value=0.0, description='ftr')"
      ],
      "application/vnd.jupyter.widget-view+json": {
       "version_major": 2,
       "version_minor": 0,
       "model_id": "2730f1fb15a14a40ab3bd0930d89d431"
      }
     },
     "metadata": {},
     "output_type": "display_data"
    },
    {
     "data": {
      "text/plain": [
       "FloatText(value=0.0, description='yr')"
      ],
      "application/vnd.jupyter.widget-view+json": {
       "version_major": 2,
       "version_minor": 0,
       "model_id": "d3650f5a0c454de69d332478a5d9a4aa"
      }
     },
     "metadata": {},
     "output_type": "display_data"
    },
    {
     "data": {
      "text/plain": [
       "FloatText(value=0.0, description='porpag')"
      ],
      "application/vnd.jupyter.widget-view+json": {
       "version_major": 2,
       "version_minor": 0,
       "model_id": "c1b4b492a2d04284a8efd48a70c227d3"
      }
     },
     "metadata": {},
     "output_type": "display_data"
    },
    {
     "data": {
      "text/plain": [
       "FloatText(value=0.0, description='adjoe')"
      ],
      "application/vnd.jupyter.widget-view+json": {
       "version_major": 2,
       "version_minor": 0,
       "model_id": "71c326b36faa437aa6f572ce00e07706"
      }
     },
     "metadata": {},
     "output_type": "display_data"
    },
    {
     "data": {
      "text/plain": [
       "FloatText(value=0.0, description='pfr')"
      ],
      "application/vnd.jupyter.widget-view+json": {
       "version_major": 2,
       "version_minor": 0,
       "model_id": "3e8a347740ca42348974a432e86ea3eb"
      }
     },
     "metadata": {},
     "output_type": "display_data"
    },
    {
     "data": {
      "text/plain": [
       "FloatText(value=0.0, description='ast/tov')"
      ],
      "application/vnd.jupyter.widget-view+json": {
       "version_major": 2,
       "version_minor": 0,
       "model_id": "333cd955a15e46e39f83bda4e5bc3d28"
      }
     },
     "metadata": {},
     "output_type": "display_data"
    },
    {
     "data": {
      "text/plain": [
       "FloatText(value=0.0, description='drtg')"
      ],
      "application/vnd.jupyter.widget-view+json": {
       "version_major": 2,
       "version_minor": 0,
       "model_id": "6604d9bc662c41f5ba3fdf90c6fbc380"
      }
     },
     "metadata": {},
     "output_type": "display_data"
    },
    {
     "data": {
      "text/plain": [
       "FloatText(value=0.0, description='adrtg')"
      ],
      "application/vnd.jupyter.widget-view+json": {
       "version_major": 2,
       "version_minor": 0,
       "model_id": "055a2dec73424f3f9b326aab4067513c"
      }
     },
     "metadata": {},
     "output_type": "display_data"
    },
    {
     "data": {
      "text/plain": [
       "FloatText(value=0.0, description='dporpag')"
      ],
      "application/vnd.jupyter.widget-view+json": {
       "version_major": 2,
       "version_minor": 0,
       "model_id": "b3abf2cd49d34518b38cfaefed8fac80"
      }
     },
     "metadata": {},
     "output_type": "display_data"
    },
    {
     "data": {
      "text/plain": [
       "FloatText(value=0.0, description='stops')"
      ],
      "application/vnd.jupyter.widget-view+json": {
       "version_major": 2,
       "version_minor": 0,
       "model_id": "1cd86b57831645d9a7e42a495c41ce6d"
      }
     },
     "metadata": {},
     "output_type": "display_data"
    },
    {
     "data": {
      "text/plain": [
       "FloatText(value=0.0, description='bpm')"
      ],
      "application/vnd.jupyter.widget-view+json": {
       "version_major": 2,
       "version_minor": 0,
       "model_id": "9e7c91bc584b45e7a6db1f3ff2b6c443"
      }
     },
     "metadata": {},
     "output_type": "display_data"
    },
    {
     "data": {
      "text/plain": [
       "FloatText(value=0.0, description='obpm')"
      ],
      "application/vnd.jupyter.widget-view+json": {
       "version_major": 2,
       "version_minor": 0,
       "model_id": "cbfe355491f3447a89c876b7e51919f7"
      }
     },
     "metadata": {},
     "output_type": "display_data"
    },
    {
     "data": {
      "text/plain": [
       "FloatText(value=0.0, description='dbpm')"
      ],
      "application/vnd.jupyter.widget-view+json": {
       "version_major": 2,
       "version_minor": 0,
       "model_id": "2776abb0d3c6490f966576b63676004b"
      }
     },
     "metadata": {},
     "output_type": "display_data"
    },
    {
     "data": {
      "text/plain": [
       "FloatText(value=0.0, description='gbpm')"
      ],
      "application/vnd.jupyter.widget-view+json": {
       "version_major": 2,
       "version_minor": 0,
       "model_id": "35c6a93e74c346b5b9637f85d61fae3b"
      }
     },
     "metadata": {},
     "output_type": "display_data"
    },
    {
     "data": {
      "text/plain": [
       "FloatText(value=0.0, description='mp')"
      ],
      "application/vnd.jupyter.widget-view+json": {
       "version_major": 2,
       "version_minor": 0,
       "model_id": "b8d0125eff81451d8f6879c7bdcd10c2"
      }
     },
     "metadata": {},
     "output_type": "display_data"
    },
    {
     "data": {
      "text/plain": [
       "FloatText(value=0.0, description='ogbpm')"
      ],
      "application/vnd.jupyter.widget-view+json": {
       "version_major": 2,
       "version_minor": 0,
       "model_id": "1baef97df6e24ebfb6a5b2a9b2bae3d9"
      }
     },
     "metadata": {},
     "output_type": "display_data"
    },
    {
     "data": {
      "text/plain": [
       "FloatText(value=0.0, description='dgbpm')"
      ],
      "application/vnd.jupyter.widget-view+json": {
       "version_major": 2,
       "version_minor": 0,
       "model_id": "321203bbc2de49ae96d949903f8b581b"
      }
     },
     "metadata": {},
     "output_type": "display_data"
    },
    {
     "data": {
      "text/plain": [
       "FloatText(value=0.0, description='oreb')"
      ],
      "application/vnd.jupyter.widget-view+json": {
       "version_major": 2,
       "version_minor": 0,
       "model_id": "0aca85fc9a0f4dd9991fbcb3afea6a7a"
      }
     },
     "metadata": {},
     "output_type": "display_data"
    },
    {
     "data": {
      "text/plain": [
       "FloatText(value=0.0, description='dreb')"
      ],
      "application/vnd.jupyter.widget-view+json": {
       "version_major": 2,
       "version_minor": 0,
       "model_id": "f108afdb47384bd9967b303c6c202701"
      }
     },
     "metadata": {},
     "output_type": "display_data"
    },
    {
     "data": {
      "text/plain": [
       "FloatText(value=0.0, description='treb')"
      ],
      "application/vnd.jupyter.widget-view+json": {
       "version_major": 2,
       "version_minor": 0,
       "model_id": "08c39b398d0f477dba87004e4c22ed49"
      }
     },
     "metadata": {},
     "output_type": "display_data"
    },
    {
     "data": {
      "text/plain": [
       "FloatText(value=0.0, description='ast')"
      ],
      "application/vnd.jupyter.widget-view+json": {
       "version_major": 2,
       "version_minor": 0,
       "model_id": "2f7ede0ce92b416785e51fbf3a5d3ad2"
      }
     },
     "metadata": {},
     "output_type": "display_data"
    },
    {
     "data": {
      "text/plain": [
       "FloatText(value=0.0, description='stl')"
      ],
      "application/vnd.jupyter.widget-view+json": {
       "version_major": 2,
       "version_minor": 0,
       "model_id": "bd47895228124cd7889d7d1a3728ae1f"
      }
     },
     "metadata": {},
     "output_type": "display_data"
    },
    {
     "data": {
      "text/plain": [
       "FloatText(value=0.0, description='blk')"
      ],
      "application/vnd.jupyter.widget-view+json": {
       "version_major": 2,
       "version_minor": 0,
       "model_id": "1049013ee0ab4bdd96c03e46c0342815"
      }
     },
     "metadata": {},
     "output_type": "display_data"
    },
    {
     "data": {
      "text/plain": [
       "FloatText(value=0.0, description='pts')"
      ],
      "application/vnd.jupyter.widget-view+json": {
       "version_major": 2,
       "version_minor": 0,
       "model_id": "ff7e9f3887f94974b9693241ec302f74"
      }
     },
     "metadata": {},
     "output_type": "display_data"
    },
    {
     "data": {
      "text/plain": [
       "FloatText(value=0.0, description='height_wo_shoes')"
      ],
      "application/vnd.jupyter.widget-view+json": {
       "version_major": 2,
       "version_minor": 0,
       "model_id": "a4c5997dbaca42a4b318b147e5ff6eda"
      }
     },
     "metadata": {},
     "output_type": "display_data"
    },
    {
     "data": {
      "text/plain": [
       "FloatText(value=0.0, description='height_w_shoes')"
      ],
      "application/vnd.jupyter.widget-view+json": {
       "version_major": 2,
       "version_minor": 0,
       "model_id": "c9633d259af544d7842cbd04b02d5bb6"
      }
     },
     "metadata": {},
     "output_type": "display_data"
    },
    {
     "data": {
      "text/plain": [
       "FloatText(value=0.0, description='weight')"
      ],
      "application/vnd.jupyter.widget-view+json": {
       "version_major": 2,
       "version_minor": 0,
       "model_id": "18a68e03ce604c1b95789a2550054244"
      }
     },
     "metadata": {},
     "output_type": "display_data"
    },
    {
     "data": {
      "text/plain": [
       "FloatText(value=0.0, description='wingspan')"
      ],
      "application/vnd.jupyter.widget-view+json": {
       "version_major": 2,
       "version_minor": 0,
       "model_id": "39967349e5c3456bba9d57e021084c50"
      }
     },
     "metadata": {},
     "output_type": "display_data"
    },
    {
     "data": {
      "text/plain": [
       "FloatText(value=0.0, description='standing_reach')"
      ],
      "application/vnd.jupyter.widget-view+json": {
       "version_major": 2,
       "version_minor": 0,
       "model_id": "69ace99fee994eb1ba839108ada8165c"
      }
     },
     "metadata": {},
     "output_type": "display_data"
    },
    {
     "data": {
      "text/plain": [
       "FloatText(value=0.0, description='body_fat_pct')"
      ],
      "application/vnd.jupyter.widget-view+json": {
       "version_major": 2,
       "version_minor": 0,
       "model_id": "1acd8061969b47589ede2c914b5f6d9b"
      }
     },
     "metadata": {},
     "output_type": "display_data"
    },
    {
     "data": {
      "text/plain": [
       "Button(description='Prepopulate Player 1', style=ButtonStyle())"
      ],
      "application/vnd.jupyter.widget-view+json": {
       "version_major": 2,
       "version_minor": 0,
       "model_id": "e820eb9bf9664041b9b095331870ac23"
      }
     },
     "metadata": {},
     "output_type": "display_data"
    },
    {
     "data": {
      "text/plain": [
       "Button(description='Prepopulate Player 2', style=ButtonStyle())"
      ],
      "application/vnd.jupyter.widget-view+json": {
       "version_major": 2,
       "version_minor": 0,
       "model_id": "533cd1ff4916487f90dd0865a9017738"
      }
     },
     "metadata": {},
     "output_type": "display_data"
    },
    {
     "data": {
      "text/plain": [
       "Button(description='Prepopulate Player 3', style=ButtonStyle())"
      ],
      "application/vnd.jupyter.widget-view+json": {
       "version_major": 2,
       "version_minor": 0,
       "model_id": "8ea3f10a6ee0463a8a3d1d8f951c7640"
      }
     },
     "metadata": {},
     "output_type": "display_data"
    }
   ],
   "execution_count": 256
  },
  {
   "metadata": {
    "ExecuteTime": {
     "end_time": "2025-01-07T00:22:05.881114Z",
     "start_time": "2025-01-07T00:22:05.873897Z"
    }
   },
   "cell_type": "code",
   "source": [
    "submit_button = widgets.Button(description=\"Submit\")\n",
    "submit_button.on_click(collect_data)\n",
    "display(submit_button)"
   ],
   "id": "fbcf45e85a896afd",
   "outputs": [
    {
     "data": {
      "text/plain": [
       "Button(description='Submit', style=ButtonStyle())"
      ],
      "application/vnd.jupyter.widget-view+json": {
       "version_major": 2,
       "version_minor": 0,
       "model_id": "0afe34ed66684f6bb9359e528dfd9d94"
      }
     },
     "metadata": {},
     "output_type": "display_data"
    }
   ],
   "execution_count": 258
  }
 ],
 "metadata": {
  "kernelspec": {
   "display_name": "Python 3",
   "language": "python",
   "name": "python3"
  },
  "language_info": {
   "codemirror_mode": {
    "name": "ipython",
    "version": 2
   },
   "file_extension": ".py",
   "mimetype": "text/x-python",
   "name": "python",
   "nbconvert_exporter": "python",
   "pygments_lexer": "ipython2",
   "version": "2.7.6"
  }
 },
 "nbformat": 4,
 "nbformat_minor": 5
}
