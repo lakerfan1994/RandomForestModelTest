{
 "cells": [
  {
   "metadata": {},
   "cell_type": "markdown",
   "source": [
    "Good afternoon, and welcome to this data model.\n",
    "Today we are going to observe how we used draft eligible college basketball data to determine the success a player would have in the NBA.\n",
    "\n",
    "We have a lot of raw data, our college-stats file contains a deluge of all college players that played between the years 2009-2021, whether they made the NBA or not, and our common_player files and draft_combine files contain data across the entire history of the NBA.\n",
    "\n",
    "Below, we will start by defining success in the nba. We will have 3 classifications. A player is a star if they made an all star team, which we have compiled manually, a player is solid if they played at least 5 years in the nba (i.e. they were good enough to get a second contract after their rookie contract), and a player is a bust if they played less than 5 years in the NBA."
   ],
   "id": "17ec813017c2adad"
  },
  {
   "cell_type": "code",
   "id": "10776386ee7b7f61",
   "metadata": {
    "ExecuteTime": {
     "end_time": "2025-01-10T20:53:43.057549Z",
     "start_time": "2025-01-10T20:53:43.053023Z"
    }
   },
   "source": [
    "import pandas as pd\n",
    "import matplotlib.pyplot as plt\n",
    "import star_players\n",
    "import warnings\n",
    "from sklearn.ensemble import RandomForestClassifier\n",
    "from sklearn.metrics import accuracy_score, confusion_matrix, precision_score, recall_score, ConfusionMatrixDisplay\n",
    "from sklearn.model_selection import RandomizedSearchCV, train_test_split\n",
    "from scipy.stats import randint\n",
    "import ipywidgets as widgets\n",
    "from IPython.display import display, clear_output\n",
    "warnings.filterwarnings(\"ignore\")\n",
    "\n",
    "\n",
    "def classify_player(row):\n",
    "    if row['display_first_last'] in (star_players.get_star_players()):\n",
    "        return 'STAR'\n",
    "    elif row['to_year'] - row['from_year'] >= 5:\n",
    "        return 'SOLID'\n",
    "    else:\n",
    "        return 'BUST'\n"
   ],
   "outputs": [],
   "execution_count": 71
  },
  {
   "metadata": {},
   "cell_type": "markdown",
   "source": "Next, we wil perform some preprocessing of the raw data files in order to create a clean dataset that we can use to train our model. We wont go over everything we do in the cleaning process, but essentially, we will apply the classification function above to the data, as well select data that is most significant for analysis. We will display a sample of the data below that should show a good mix of stars, solid players and busts.",
   "id": "90a247b493d948c4"
  },
  {
   "metadata": {
    "collapsed": true,
    "ExecuteTime": {
     "end_time": "2025-01-10T20:53:44.084808Z",
     "start_time": "2025-01-10T20:53:43.136427Z"
    }
   },
   "cell_type": "code",
   "source": [
    "\n",
    "college_df = pd.read_csv(\"college-stats.csv\", low_memory=False)\n",
    "\n",
    "college_df = college_df.loc[college_df.groupby('player_name')['year'].idxmax()]\n",
    "\n",
    "nba_df = pd.read_csv(\"common_player_info.csv\")\n",
    "draft_year = 2009\n",
    "\n",
    "nba_df = nba_df[nba_df[\"from_year\"] >= draft_year]\n",
    "\n",
    "nba_df.sort_values(by=['from_year'], inplace=True)\n",
    "\n",
    "nba_df['classification'] = nba_df.apply(classify_player, axis=1)\n",
    "\n",
    "# We will remove the college players that most recently entered the NBA, as we do not have enough information to determine\n",
    "# whether they are a bust or a solid player yet.\n",
    "nba_df = nba_df[\n",
    "        ~(\n",
    "            (nba_df['from_year'] >= 2019) &\n",
    "            (nba_df['to_year'] >= 2023) &\n",
    "            (nba_df['classification'] == 'BUST')\n",
    "        )\n",
    "    ]\n",
    "\n",
    "\n",
    "\n",
    "columns = ['display_first_last', 'classification', 'from_year', 'to_year', 'school']\n",
    "\n",
    "nba_df = nba_df[columns]\n",
    "\n",
    "\n",
    "nba_df.to_csv('output.csv', index=False)\n",
    "\n",
    "\n",
    "\n",
    "\n",
    "classified__nba_df = pd.read_csv(\"output.csv\")\n",
    "\n",
    "# Merge college statistics with NBA player names\n",
    "clean_data = classified__nba_df.merge(college_df, left_on=['display_first_last', 'from_year'], right_on=['player_name', 'year'], how='inner')\n",
    "\n",
    "# Merge draft combine dataa with NBA player names.\n",
    "draft_combine = pd.read_csv(\"draft_combine_stats.csv\")\n",
    "clean_data = clean_data.merge(draft_combine, left_on='display_first_last', right_on='player_name', how='inner')\n",
    "\n",
    "# transform the year players are into their numerical equivalent\n",
    "clean_data['yr'] = clean_data['yr'].replace({'Fr': 1, 'So': 2, 'Jr': 3, 'Sr': 4})\n",
    "\n",
    "# Only select relevant data for model\n",
    "clean_data = clean_data[star_players.get_training_columns()]\n",
    "clean_data.to_csv('output.csv', index=False)\n",
    "clean_data.sample(10)\n",
    "\n"
   ],
   "id": "initial_id",
   "outputs": [
    {
     "data": {
      "text/plain": [
       "         display_first_last classification  GP  Min_per   Ortg   usg   eFG  \\\n",
       "127             Jae Crowder          SOLID  35     82.4  122.3  22.0  56.8   \n",
       "18            Blake Griffin           STAR  35     80.6  117.6  31.1  65.7   \n",
       "183            Jabari Brown           BUST  35     91.5  119.3  24.7  55.9   \n",
       "189             Zach LaVine           STAR  37     60.7  107.3  19.0  52.4   \n",
       "104  Michael Kidd-Gilchrist          SOLID  40     77.8  111.8  21.3  51.1   \n",
       "242            Ike Anigbogu           BUST  29     26.2  106.1  18.7  56.4   \n",
       "305             Jordan Bone           BUST  36     81.5  116.6  21.9  52.3   \n",
       "119           Austin Rivers          SOLID  34     82.4  104.8  24.0  50.5   \n",
       "38         Derrick Caracter           BUST  27     53.9  103.5  27.3  57.5   \n",
       "90            Klay Thompson           STAR  34     83.0  107.6  31.9  52.5   \n",
       "\n",
       "     TS_per  ORB_per  DRB_per  ...     ast     stl     blk      pts  \\\n",
       "127   59.85      7.0     20.5  ...  2.0857  2.5143  1.0000  17.5429   \n",
       "18    64.77     14.2     32.2  ...  2.2857  1.1143  1.1714  22.6857   \n",
       "183   62.17      1.7     11.5  ...  1.9143  0.6286  0.1429  19.9429   \n",
       "189   54.48      2.4      9.5  ...  1.7838  0.8919  0.1622   9.4324   \n",
       "104   57.05     10.3     16.1  ...  1.8750  0.9750  0.9250  11.9000   \n",
       "242   56.41     13.3     19.9  ...  0.2069  0.1724  1.2069   4.7241   \n",
       "305   55.78      2.0      8.2  ...  5.8108  0.7027  0.1081  13.4595   \n",
       "119   53.84      2.2      9.2  ...  2.0882  0.9706  0.0294  15.5000   \n",
       "38    59.84     12.0     21.7  ...  1.1111  0.9630  0.8519  14.0741   \n",
       "90    57.37      2.6     14.0  ...  3.7353  1.6471  0.9412  21.5588   \n",
       "\n",
       "     height_wo_shoes  height_w_shoes  weight  wingspan  standing_reach  \\\n",
       "127            76.75           78.50   241.2     81.25            99.5   \n",
       "18             80.50           82.00   248.4     83.25           105.0   \n",
       "183            75.00           76.25   201.9     80.25           100.0   \n",
       "189            76.50           77.75   180.9     80.25           100.0   \n",
       "104            77.75           79.50   232.8     84.00           104.5   \n",
       "242            80.50           81.75   252.2     90.25           110.5   \n",
       "305            73.50           74.75   179.0     75.25            95.0   \n",
       "119            75.50           77.00   202.8     79.25            96.5   \n",
       "38             80.25           81.50   280.0     84.25           107.5   \n",
       "90             77.75           79.25   205.6     81.00           103.5   \n",
       "\n",
       "     body_fat_pct  \n",
       "127          9.00  \n",
       "18           8.20  \n",
       "183          6.05  \n",
       "189          4.70  \n",
       "104          7.00  \n",
       "242          5.40  \n",
       "305          5.00  \n",
       "119          6.20  \n",
       "38          12.80  \n",
       "90           8.00  \n",
       "\n",
       "[10 rows x 53 columns]"
      ],
      "text/html": [
       "<div>\n",
       "<style scoped>\n",
       "    .dataframe tbody tr th:only-of-type {\n",
       "        vertical-align: middle;\n",
       "    }\n",
       "\n",
       "    .dataframe tbody tr th {\n",
       "        vertical-align: top;\n",
       "    }\n",
       "\n",
       "    .dataframe thead th {\n",
       "        text-align: right;\n",
       "    }\n",
       "</style>\n",
       "<table border=\"1\" class=\"dataframe\">\n",
       "  <thead>\n",
       "    <tr style=\"text-align: right;\">\n",
       "      <th></th>\n",
       "      <th>display_first_last</th>\n",
       "      <th>classification</th>\n",
       "      <th>GP</th>\n",
       "      <th>Min_per</th>\n",
       "      <th>Ortg</th>\n",
       "      <th>usg</th>\n",
       "      <th>eFG</th>\n",
       "      <th>TS_per</th>\n",
       "      <th>ORB_per</th>\n",
       "      <th>DRB_per</th>\n",
       "      <th>...</th>\n",
       "      <th>ast</th>\n",
       "      <th>stl</th>\n",
       "      <th>blk</th>\n",
       "      <th>pts</th>\n",
       "      <th>height_wo_shoes</th>\n",
       "      <th>height_w_shoes</th>\n",
       "      <th>weight</th>\n",
       "      <th>wingspan</th>\n",
       "      <th>standing_reach</th>\n",
       "      <th>body_fat_pct</th>\n",
       "    </tr>\n",
       "  </thead>\n",
       "  <tbody>\n",
       "    <tr>\n",
       "      <th>127</th>\n",
       "      <td>Jae Crowder</td>\n",
       "      <td>SOLID</td>\n",
       "      <td>35</td>\n",
       "      <td>82.4</td>\n",
       "      <td>122.3</td>\n",
       "      <td>22.0</td>\n",
       "      <td>56.8</td>\n",
       "      <td>59.85</td>\n",
       "      <td>7.0</td>\n",
       "      <td>20.5</td>\n",
       "      <td>...</td>\n",
       "      <td>2.0857</td>\n",
       "      <td>2.5143</td>\n",
       "      <td>1.0000</td>\n",
       "      <td>17.5429</td>\n",
       "      <td>76.75</td>\n",
       "      <td>78.50</td>\n",
       "      <td>241.2</td>\n",
       "      <td>81.25</td>\n",
       "      <td>99.5</td>\n",
       "      <td>9.00</td>\n",
       "    </tr>\n",
       "    <tr>\n",
       "      <th>18</th>\n",
       "      <td>Blake Griffin</td>\n",
       "      <td>STAR</td>\n",
       "      <td>35</td>\n",
       "      <td>80.6</td>\n",
       "      <td>117.6</td>\n",
       "      <td>31.1</td>\n",
       "      <td>65.7</td>\n",
       "      <td>64.77</td>\n",
       "      <td>14.2</td>\n",
       "      <td>32.2</td>\n",
       "      <td>...</td>\n",
       "      <td>2.2857</td>\n",
       "      <td>1.1143</td>\n",
       "      <td>1.1714</td>\n",
       "      <td>22.6857</td>\n",
       "      <td>80.50</td>\n",
       "      <td>82.00</td>\n",
       "      <td>248.4</td>\n",
       "      <td>83.25</td>\n",
       "      <td>105.0</td>\n",
       "      <td>8.20</td>\n",
       "    </tr>\n",
       "    <tr>\n",
       "      <th>183</th>\n",
       "      <td>Jabari Brown</td>\n",
       "      <td>BUST</td>\n",
       "      <td>35</td>\n",
       "      <td>91.5</td>\n",
       "      <td>119.3</td>\n",
       "      <td>24.7</td>\n",
       "      <td>55.9</td>\n",
       "      <td>62.17</td>\n",
       "      <td>1.7</td>\n",
       "      <td>11.5</td>\n",
       "      <td>...</td>\n",
       "      <td>1.9143</td>\n",
       "      <td>0.6286</td>\n",
       "      <td>0.1429</td>\n",
       "      <td>19.9429</td>\n",
       "      <td>75.00</td>\n",
       "      <td>76.25</td>\n",
       "      <td>201.9</td>\n",
       "      <td>80.25</td>\n",
       "      <td>100.0</td>\n",
       "      <td>6.05</td>\n",
       "    </tr>\n",
       "    <tr>\n",
       "      <th>189</th>\n",
       "      <td>Zach LaVine</td>\n",
       "      <td>STAR</td>\n",
       "      <td>37</td>\n",
       "      <td>60.7</td>\n",
       "      <td>107.3</td>\n",
       "      <td>19.0</td>\n",
       "      <td>52.4</td>\n",
       "      <td>54.48</td>\n",
       "      <td>2.4</td>\n",
       "      <td>9.5</td>\n",
       "      <td>...</td>\n",
       "      <td>1.7838</td>\n",
       "      <td>0.8919</td>\n",
       "      <td>0.1622</td>\n",
       "      <td>9.4324</td>\n",
       "      <td>76.50</td>\n",
       "      <td>77.75</td>\n",
       "      <td>180.9</td>\n",
       "      <td>80.25</td>\n",
       "      <td>100.0</td>\n",
       "      <td>4.70</td>\n",
       "    </tr>\n",
       "    <tr>\n",
       "      <th>104</th>\n",
       "      <td>Michael Kidd-Gilchrist</td>\n",
       "      <td>SOLID</td>\n",
       "      <td>40</td>\n",
       "      <td>77.8</td>\n",
       "      <td>111.8</td>\n",
       "      <td>21.3</td>\n",
       "      <td>51.1</td>\n",
       "      <td>57.05</td>\n",
       "      <td>10.3</td>\n",
       "      <td>16.1</td>\n",
       "      <td>...</td>\n",
       "      <td>1.8750</td>\n",
       "      <td>0.9750</td>\n",
       "      <td>0.9250</td>\n",
       "      <td>11.9000</td>\n",
       "      <td>77.75</td>\n",
       "      <td>79.50</td>\n",
       "      <td>232.8</td>\n",
       "      <td>84.00</td>\n",
       "      <td>104.5</td>\n",
       "      <td>7.00</td>\n",
       "    </tr>\n",
       "    <tr>\n",
       "      <th>242</th>\n",
       "      <td>Ike Anigbogu</td>\n",
       "      <td>BUST</td>\n",
       "      <td>29</td>\n",
       "      <td>26.2</td>\n",
       "      <td>106.1</td>\n",
       "      <td>18.7</td>\n",
       "      <td>56.4</td>\n",
       "      <td>56.41</td>\n",
       "      <td>13.3</td>\n",
       "      <td>19.9</td>\n",
       "      <td>...</td>\n",
       "      <td>0.2069</td>\n",
       "      <td>0.1724</td>\n",
       "      <td>1.2069</td>\n",
       "      <td>4.7241</td>\n",
       "      <td>80.50</td>\n",
       "      <td>81.75</td>\n",
       "      <td>252.2</td>\n",
       "      <td>90.25</td>\n",
       "      <td>110.5</td>\n",
       "      <td>5.40</td>\n",
       "    </tr>\n",
       "    <tr>\n",
       "      <th>305</th>\n",
       "      <td>Jordan Bone</td>\n",
       "      <td>BUST</td>\n",
       "      <td>36</td>\n",
       "      <td>81.5</td>\n",
       "      <td>116.6</td>\n",
       "      <td>21.9</td>\n",
       "      <td>52.3</td>\n",
       "      <td>55.78</td>\n",
       "      <td>2.0</td>\n",
       "      <td>8.2</td>\n",
       "      <td>...</td>\n",
       "      <td>5.8108</td>\n",
       "      <td>0.7027</td>\n",
       "      <td>0.1081</td>\n",
       "      <td>13.4595</td>\n",
       "      <td>73.50</td>\n",
       "      <td>74.75</td>\n",
       "      <td>179.0</td>\n",
       "      <td>75.25</td>\n",
       "      <td>95.0</td>\n",
       "      <td>5.00</td>\n",
       "    </tr>\n",
       "    <tr>\n",
       "      <th>119</th>\n",
       "      <td>Austin Rivers</td>\n",
       "      <td>SOLID</td>\n",
       "      <td>34</td>\n",
       "      <td>82.4</td>\n",
       "      <td>104.8</td>\n",
       "      <td>24.0</td>\n",
       "      <td>50.5</td>\n",
       "      <td>53.84</td>\n",
       "      <td>2.2</td>\n",
       "      <td>9.2</td>\n",
       "      <td>...</td>\n",
       "      <td>2.0882</td>\n",
       "      <td>0.9706</td>\n",
       "      <td>0.0294</td>\n",
       "      <td>15.5000</td>\n",
       "      <td>75.50</td>\n",
       "      <td>77.00</td>\n",
       "      <td>202.8</td>\n",
       "      <td>79.25</td>\n",
       "      <td>96.5</td>\n",
       "      <td>6.20</td>\n",
       "    </tr>\n",
       "    <tr>\n",
       "      <th>38</th>\n",
       "      <td>Derrick Caracter</td>\n",
       "      <td>BUST</td>\n",
       "      <td>27</td>\n",
       "      <td>53.9</td>\n",
       "      <td>103.5</td>\n",
       "      <td>27.3</td>\n",
       "      <td>57.5</td>\n",
       "      <td>59.84</td>\n",
       "      <td>12.0</td>\n",
       "      <td>21.7</td>\n",
       "      <td>...</td>\n",
       "      <td>1.1111</td>\n",
       "      <td>0.9630</td>\n",
       "      <td>0.8519</td>\n",
       "      <td>14.0741</td>\n",
       "      <td>80.25</td>\n",
       "      <td>81.50</td>\n",
       "      <td>280.0</td>\n",
       "      <td>84.25</td>\n",
       "      <td>107.5</td>\n",
       "      <td>12.80</td>\n",
       "    </tr>\n",
       "    <tr>\n",
       "      <th>90</th>\n",
       "      <td>Klay Thompson</td>\n",
       "      <td>STAR</td>\n",
       "      <td>34</td>\n",
       "      <td>83.0</td>\n",
       "      <td>107.6</td>\n",
       "      <td>31.9</td>\n",
       "      <td>52.5</td>\n",
       "      <td>57.37</td>\n",
       "      <td>2.6</td>\n",
       "      <td>14.0</td>\n",
       "      <td>...</td>\n",
       "      <td>3.7353</td>\n",
       "      <td>1.6471</td>\n",
       "      <td>0.9412</td>\n",
       "      <td>21.5588</td>\n",
       "      <td>77.75</td>\n",
       "      <td>79.25</td>\n",
       "      <td>205.6</td>\n",
       "      <td>81.00</td>\n",
       "      <td>103.5</td>\n",
       "      <td>8.00</td>\n",
       "    </tr>\n",
       "  </tbody>\n",
       "</table>\n",
       "<p>10 rows × 53 columns</p>\n",
       "</div>"
      ]
     },
     "execution_count": 72,
     "metadata": {},
     "output_type": "execute_result"
    }
   ],
   "execution_count": 72
  },
  {
   "metadata": {},
   "cell_type": "markdown",
   "source": "Awesome! we can see that for every player listed, we have their associated statistics and measurements. One final bit of preprocessing will be to remove player names, as our random forest model can only accept numerical input",
   "id": "bfda0f027fb1288d"
  },
  {
   "metadata": {
    "ExecuteTime": {
     "end_time": "2025-01-10T20:53:44.222506Z",
     "start_time": "2025-01-10T20:53:44.214884Z"
    }
   },
   "cell_type": "code",
   "source": [
    "\n",
    "clean_data = clean_data.drop('display_first_last', axis=1)"
   ],
   "id": "54d270797c3c569c",
   "outputs": [],
   "execution_count": 73
  },
  {
   "metadata": {},
   "cell_type": "markdown",
   "source": [
    "\n",
    "\n",
    "Next, we will now look at a visualization that shows the distribution of the three different classifications of NBA players, \"stars\",\n",
    "\"solid\" players, and \"busts"
   ],
   "id": "608a161d6b5236f8"
  },
  {
   "metadata": {
    "ExecuteTime": {
     "end_time": "2025-01-10T20:53:44.530522Z",
     "start_time": "2025-01-10T20:53:44.375838Z"
    }
   },
   "cell_type": "code",
   "source": [
    "classifications = clean_data.groupby(by='classification').size()\n",
    "plot = classifications.plot.bar(color=['red', 'yellow','green'],rot=0)\n"
   ],
   "id": "a82467735b14cdbc",
   "outputs": [
    {
     "data": {
      "text/plain": [
       "<Figure size 640x480 with 1 Axes>"
      ],
      "image/png": "[encoded data removed]"
     },
     "metadata": {},
     "output_type": "display_data"
    }
   ],
   "execution_count": 74
  },
  {
   "metadata": {},
   "cell_type": "markdown",
   "source": [
    "As we can see above, we have relatively even numbers of busts and solid players, with very few star players.\n",
    "\n",
    "We will now begin the process of training the model, specifically a random forest model.\n",
    "\n",
    "First, lets split our data into test data and training data. We will need to identify the target result with is the classification of the player, and the independent variables, which are their college statistics and measurements"
   ],
   "id": "2a89eca0f2ef56b1"
  },
  {
   "metadata": {
    "ExecuteTime": {
     "end_time": "2025-01-10T20:53:44.649549Z",
     "start_time": "2025-01-10T20:53:44.639138Z"
    }
   },
   "cell_type": "code",
   "source": [
    "# identify independent and dependent variables\n",
    "independentVars = clean_data.drop('classification', axis=1)\n",
    "dependentVar = clean_data['classification']\n",
    "\n",
    "training_independent, test_independent, training_dependent, test_dependent = train_test_split(independentVars, dependentVar, test_size=0.1, random_state=24, stratify=dependentVar)"
   ],
   "id": "81758b51c0cdc0fa",
   "outputs": [],
   "execution_count": 75
  },
  {
   "metadata": {},
   "cell_type": "markdown",
   "source": [
    "Above we have defined our traiing and test data, as well as isolated the variable (classification) that we want to train our model on.\n",
    "Actually training the model to a baseline level is quite simple. We will train a random forest model below as well as test it using our designated data."
   ],
   "id": "3acf78c8ceff2d8e"
  },
  {
   "metadata": {
    "ExecuteTime": {
     "end_time": "2025-01-10T20:53:45.750183Z",
     "start_time": "2025-01-10T20:53:44.946315Z"
    }
   },
   "cell_type": "code",
   "source": [
    "\n",
    "\n",
    "\n",
    "# create default tree\n",
    "random_forest = RandomForestClassifier(random_state= 26)\n",
    "\n",
    "random_forest.fit(training_independent, training_dependent)\n",
    "\n",
    "predictions = random_forest.predict(test_independent)\n",
    "\n",
    "\n",
    "\n",
    "accuracy = accuracy_score(test_dependent, predictions)\n",
    "print(\"The accuracy of the model is: \" + str(round(accuracy * 100)) + '%')\n",
    "\n",
    "\n",
    "\n",
    "ConfusionMatrixDisplay.from_estimator(random_forest, test_independent, test_dependent)\n",
    "\n"
   ],
   "id": "ef7ca65ceb2fcc0e",
   "outputs": [
    {
     "name": "stdout",
     "output_type": "stream",
     "text": [
      "The accuracy of the model is: 64%\n"
     ]
    },
    {
     "data": {
      "text/plain": [
       "<sklearn.metrics._plot.confusion_matrix.ConfusionMatrixDisplay at 0x23ec0d85730>"
      ]
     },
     "execution_count": 76,
     "metadata": {},
     "output_type": "execute_result"
    },
    {
     "data": {
      "text/plain": [
       "<Figure size 640x480 with 2 Axes>"
      ],
      "image/png": "[encoded data removed]"
     },
     "metadata": {},
     "output_type": "display_data"
    }
   ],
   "execution_count": 76
  },
  {
   "metadata": {},
   "cell_type": "markdown",
   "source": "Above, we can see that our model is accurate roughly ~64% of the time, but when we look at the confusion matrix generated, we find that our model does a relatively decent job predicting whether a player would be either solid or a bust, but does quite poorly with predicting star players. Lets see if we can improve the accuracy of model by fine-tuning it below",
   "id": "a4daeae6097616b1"
  },
  {
   "metadata": {
    "ExecuteTime": {
     "end_time": "2025-01-10T20:54:05.942159Z",
     "start_time": "2025-01-10T20:53:45.772626Z"
    }
   },
   "cell_type": "code",
   "source": [
    "\n",
    "\n",
    "params = {'n_estimators': randint(1,1000),\n",
    "          'max_depth': randint(1,50)}\n",
    "\n",
    "\n",
    "random_forest_2 = RandomForestClassifier(random_state= 26)\n",
    "\n",
    "\n",
    "#use a hyperparameter tuning algorithm to attempt to find the best random forest with the best hyperparameters\n",
    "search_engine = RandomizedSearchCV(random_forest_2, param_distributions=params, n_iter=5, cv=5, random_state=26)\n",
    "\n",
    "search_engine.fit(training_independent, training_dependent)\n",
    "\n",
    "best_random_forest = search_engine.best_estimator_\n",
    "\n",
    "newPredictions = best_random_forest.predict(test_independent)\n",
    "\n",
    "accuracy2 = accuracy_score(test_dependent, newPredictions)\n",
    "\n",
    "# print(best_random_forest.predict(independentVars))\n",
    "# print(independentVars['porpag'])\n",
    "\n",
    "\n",
    "print(\"The accuracy of the model is: \" + str(round(accuracy2 * 100)) + '%')\n",
    "\n",
    "ConfusionMatrixDisplay.from_estimator(best_random_forest, test_independent, test_dependent)"
   ],
   "id": "898cdb59d554f1bc",
   "outputs": [
    {
     "name": "stdout",
     "output_type": "stream",
     "text": [
      "The accuracy of the model is: 70%\n"
     ]
    },
    {
     "data": {
      "text/plain": [
       "<sklearn.metrics._plot.confusion_matrix.ConfusionMatrixDisplay at 0x23ec3145ac0>"
      ]
     },
     "execution_count": 77,
     "metadata": {},
     "output_type": "execute_result"
    },
    {
     "data": {
      "text/plain": [
       "<Figure size 640x480 with 2 Axes>"
      ],
      "image/png": "[encoded data removed]"
     },
     "metadata": {},
     "output_type": "display_data"
    }
   ],
   "execution_count": 77
  },
  {
   "metadata": {},
   "cell_type": "markdown",
   "source": [
    "Above, we can see that while we used RandomizedSearchCV to randomly select the hyperparameters needed to create the best random forest, we were able to improve the accuracy by roughly 6%. However, we did not see any improvement in the models ability to accurately predict star players. In the future, further enhancements that can be added to the project to enable it to predict stars more accurately would be to increase the sample size of star players.\n",
    "\n",
    "For now, lets take a look at the features the model deemed most important and predictive during its training\n",
    "\n",
    "\n"
   ],
   "id": "c188f1514e57ebc6"
  },
  {
   "metadata": {
    "ExecuteTime": {
     "end_time": "2025-01-10T20:54:06.794592Z",
     "start_time": "2025-01-10T20:54:06.009066Z"
    }
   },
   "cell_type": "code",
   "source": [
    "features = independentVars.columns\n",
    "importance = best_random_forest.feature_importances_\n",
    "\n",
    "# Create a DataFrame for visualization\n",
    "feature_importance = pd.DataFrame({\n",
    "    'Feature': features,\n",
    "    'Importance': importance\n",
    "}).sort_values(by='Importance', ascending=False)\n",
    "\n",
    "# Plot the feature importance\n",
    "plt.figure(figsize=(12, 6))\n",
    "plt.bar(feature_importance['Feature'], feature_importance['Importance'])\n",
    "plt.xlabel('Features')\n",
    "plt.ylabel('Importance')\n",
    "plt.title('Importance of different statistics for Draft Model Prediction ')\n",
    "plt.xticks(rotation=45, ha='right')\n",
    "plt.tight_layout()\n",
    "plt.show()"
   ],
   "id": "553c93e32ad22fbb",
   "outputs": [
    {
     "data": {
      "text/plain": [
       "<Figure size 1200x600 with 1 Axes>"
      ],
      "image/png": "[encoded data removed]"
     },
     "metadata": {},
     "output_type": "display_data"
    }
   ],
   "execution_count": 78
  },
  {
   "metadata": {},
   "cell_type": "markdown",
   "source": [
    "Looking at the chart above, we can see some interesting results. The statistics that are seen as most determinative of a players success in the nba include free throws, both the players ability to shoot them, as well as their abiiity to draw free throws in the first place, box plus minus, or how well a team performs when a player is on the court vs off the court, and the year of school they are in. This follows conventional wisdom, in that free throws are widely seaen as the strongest indicator of a players ability to shoot, and scouts most often prefer to draft younger players over older players, as the former has more room to grow than the latter.\n",
    "\n",
    "Another thing we can potentially do to improve the model would be to prune some of the less important statistics from the model, in order to let the more important statistics guide the models training."
   ],
   "id": "d1918382cf51b060"
  },
  {
   "metadata": {},
   "cell_type": "markdown",
   "source": [
    "# USER INTERFACE FOR TESTING INPUT BELOW\n",
    "\n",
    "The code below is available for users who want to test the capabilities of the model for themselves. Player data has many different input points,  so for simplicity and ease of use, I provided the data for three NBA players that were drafted recently that are not in the dataset.\n",
    "\n",
    "To test the data below, you can either\n",
    "* Use prepopulated data from any of the three players provided to quickly test the model\n",
    "* Fill in the 51 input fields with user data\n"
   ],
   "id": "c3cae628b78cb55a"
  },
  {
   "metadata": {
    "ExecuteTime": {
     "end_time": "2025-01-10T20:54:07.042257Z",
     "start_time": "2025-01-10T20:54:06.906294Z"
    }
   },
   "cell_type": "code",
   "source": [
    "\n",
    "\n",
    "\n",
    "sample_data = pd.DataFrame([\n",
    "    {\n",
    "        # Dalton Knecht SOLID\n",
    "        \"GP\": 35, \"Min_per\": 80.2, \"Ortg\": 130.8,\n",
    "        \"usg\": 20.2, \"eFG\": 66, \"TS_per\": 68.99, \"ORB_per\": 11, \"DRB_per\": 21.9, \"AST_per\": 6.7, \"TO_per\": 12.3,\n",
    "        \"FTM\": 113, \"FTA\": 145, \"FT_per\": 0.779, \"twoPM\": 198, \"twoPA\": 299, \"twoP_per\": 0.662, \"TPM\": 0, \"TPA\": 1,\n",
    "        \"TP_per\": 0, \"blk_per\": 3.3, \"stl_per\": 1, \"ftr\": 48.3, \"yr\": 1, \"porpag\": 5.88808, \"adjoe\": 137.154,\n",
    "        \"pfr\": 3.3, \"ast/tov\": 0.72090181, \"drtg\": 95.9973, \"adrtg\": 89.8587, \"dporpag\": 4.05345, \"stops\": 210.51,\n",
    "        \"bpm\": 7.45978, \"obpm\": 4.83715, \"dbpm\": 2.62263, \"gbpm\": 7.47108, \"mp\": 32.5429, \"ogbpm\": 5.79765,\n",
    "        \"dgbpm\": 1.67343, \"oreb\": 2.4857, \"dreb\": 5.7143, \"treb\": 8.2, \"ast\": 0.8857, \"stl\": 0.4857, \"blk\": 0.8571,\n",
    "        \"pts\": 14.5429, \"height_wo_shoes\": 80.75, \"height_w_shoes\": 82, \"weight\": 239.6, \"wingspan\": 85,\n",
    "        \"standing_reach\": 107, \"body_fat_pct\": 5.5\n",
    "    },\n",
    "    {\n",
    "        # Jalen Hood-Schifino,BUST\n",
    "        \"GP\": 33, \"Min_per\": 28.5, \"Ortg\": 94.7,\n",
    "        \"usg\": 23.4, \"eFG\": 45.8, \"TS_per\": 48.2, \"ORB_per\": 2.1, \"DRB_per\": 10.0, \"AST_per\": 16.5, \"TO_per\": 15.8,\n",
    "        \"FTM\": 50, \"FTA\": 75, \"FT_per\": 66.7, \"twoPM\": 100, \"twoPA\": 240, \"twoP_per\": 41.7, \"TPM\": 20, \"TPA\": 80,\n",
    "        \"TP_per\": 25.0, \"blk_per\": 0.3, \"stl_per\": 1.0, \"ftr\": 0.20, \"yr\": \"1\", \"porpag\": 1.5, \"adjoe\": 98.0,\n",
    "        \"pfr\": 0.14, \"ast/tov\": 0.8, \"drtg\": 110.0, \"adrtg\": 112.0, \"dporpag\": 1.2, \"stops\": 0.8, \"bpm\": -0.5,\n",
    "        \"obpm\": -0.8, \"dbpm\": 0.3, \"gbpm\": -0.2, \"mp\": 900, \"ogbpm\": -0.6, \"dgbpm\": 0.2, \"oreb\": 15, \"dreb\": 100,\n",
    "        \"treb\": 115, \"ast\": 110, \"stl\": 20, \"blk\": 5, \"pts\": 350, \"height_wo_shoes\": 77.0, \"height_w_shoes\": 78.0,\n",
    "        \"weight\": 200, \"wingspan\": 80.0, \"standing_reach\": 98.0, \"body_fat_pct\": 7.0\n",
    "    },\n",
    "    {\n",
    "        # Austin Reaves STAR\n",
    "        \"GP\": 35, \"Min_per\": 88.3, \"Ortg\": 112.8,\n",
    "        \"usg\": 32.6, \"eFG\": 55.3, \"TS_per\": 60.66, \"ORB_per\": 5.5, \"DRB_per\": 14.6, \"AST_per\": 29.2, \"TO_per\": 19,\n",
    "        \"FTM\": 204, \"FTA\": 270, \"FT_per\": 0.756, \"twoPM\": 163, \"twoPA\": 289, \"twoP_per\": 0.564, \"TPM\": 58, \"TPA\": 163,\n",
    "        \"TP_per\": 0.356, \"blk_per\": 1.1, \"stl_per\": 3.1, \"ftr\": 59.7, \"yr\": 2, \"porpag\": 6.47615, \"adjoe\": 137.102,\n",
    "        \"pfr\": 3.2, \"ast/tov\": 1.25425636, \"drtg\": 95.6385, \"adrtg\": 89.5229, \"dporpag\": 4.50387, \"stops\": 234.839,\n",
    "        \"bpm\": 10.3738, \"obpm\": 7.16968, \"dbpm\": 3.20412, \"gbpm\": 9.8125, \"mp\": 35.8286, \"ogbpm\": 6.88906,\n",
    "        \"dgbpm\": 2.92344, \"oreb\": 1.3714, \"dreb\": 4.2, \"treb\": 5.5714, \"ast\": 4.2286, \"stl\": 1.6857, \"blk\": 0.3143,\n",
    "        \"pts\": 20.1143, \"height_wo_shoes\": 76, \"height_w_shoes\": 77.25, \"weight\": 222, \"wingspan\": 82.75,\n",
    "        \"standing_reach\": 103.5, \"body_fat_pct\": 10.1\n",
    "    }\n",
    "])\n",
    "\n",
    "all_columns = sample_data.columns\n",
    "\n",
    "widgets_dict = {\n",
    "    col: widgets.FloatText(description=col) for col in all_columns\n",
    "}\n",
    "\n",
    "output_box = widgets.Output()\n",
    "\n",
    "def prepopulate_data(row):\n",
    "    for col in all_columns:\n",
    "        widgets_dict[col].value = row[col]\n",
    "\n",
    "def collect_data():\n",
    "    new_row = {col: wid.value for col, wid in widgets_dict.items()}\n",
    "    new_df = pd.DataFrame([new_row])\n",
    "    return best_random_forest.predict(new_df)\n",
    "    # return new_df\n",
    "\n",
    "def submit_data(data):\n",
    "    output_box.clear_output()\n",
    "    with output_box:\n",
    "        print(f\"Result: {data}\")\n",
    "\n",
    "def on_submit_click(b):\n",
    "    submit_data(collect_data())\n",
    "\n",
    "buttons = []\n",
    "for i, row in sample_data.iterrows():\n",
    "    button = widgets.Button(description=f\"Prepopulate Player {i+1}\")\n",
    "    button.on_click(lambda b, r=row: prepopulate_data(r))\n",
    "    buttons.append(button)\n",
    "\n",
    "\n",
    "submit_button = widgets.Button(description=\"Submit\")\n",
    "submit_button.on_click(on_submit_click)\n",
    "\n"
   ],
   "id": "53eb80192215851d",
   "outputs": [],
   "execution_count": 79
  },
  {
   "metadata": {
    "ExecuteTime": {
     "end_time": "2025-01-10T20:54:07.315053Z",
     "start_time": "2025-01-10T20:54:07.178174Z"
    }
   },
   "cell_type": "code",
   "source": [
    "# Display\n",
    "for widget in widgets_dict.values():\n",
    "    display(widget)\n",
    "for button in buttons:\n",
    "    display(button)\n",
    "display(submit_button, output_box)\n"
   ],
   "id": "d62de14a3da30bc",
   "outputs": [
    {
     "data": {
      "text/plain": [
       "FloatText(value=0.0, description='GP')"
      ],
      "application/vnd.jupyter.widget-view+json": {
       "version_major": 2,
       "version_minor": 0,
       "model_id": "5e0d55a7d252427bb6bde656f7e4d957"
      }
     },
     "metadata": {},
     "output_type": "display_data"
    },
    {
     "data": {
      "text/plain": [
       "FloatText(value=0.0, description='Min_per')"
      ],
      "application/vnd.jupyter.widget-view+json": {
       "version_major": 2,
       "version_minor": 0,
       "model_id": "3b56d49e6e9e4c92815e29bf564dc559"
      }
     },
     "metadata": {},
     "output_type": "display_data"
    },
    {
     "data": {
      "text/plain": [
       "FloatText(value=0.0, description='Ortg')"
      ],
      "application/vnd.jupyter.widget-view+json": {
       "version_major": 2,
       "version_minor": 0,
       "model_id": "b4281826962249f4b181f0a6ae4c8794"
      }
     },
     "metadata": {},
     "output_type": "display_data"
    },
    {
     "data": {
      "text/plain": [
       "FloatText(value=0.0, description='usg')"
      ],
      "application/vnd.jupyter.widget-view+json": {
       "version_major": 2,
       "version_minor": 0,
       "model_id": "6dcedbdf01cc4b84a3cc3ec18210b480"
      }
     },
     "metadata": {},
     "output_type": "display_data"
    },
    {
     "data": {
      "text/plain": [
       "FloatText(value=0.0, description='eFG')"
      ],
      "application/vnd.jupyter.widget-view+json": {
       "version_major": 2,
       "version_minor": 0,
       "model_id": "3e443a6a76e34a2ead8b097acb4bfcd2"
      }
     },
     "metadata": {},
     "output_type": "display_data"
    },
    {
     "data": {
      "text/plain": [
       "FloatText(value=0.0, description='TS_per')"
      ],
      "application/vnd.jupyter.widget-view+json": {
       "version_major": 2,
       "version_minor": 0,
       "model_id": "1385021cdc1e420da27ee9b22c254229"
      }
     },
     "metadata": {},
     "output_type": "display_data"
    },
    {
     "data": {
      "text/plain": [
       "FloatText(value=0.0, description='ORB_per')"
      ],
      "application/vnd.jupyter.widget-view+json": {
       "version_major": 2,
       "version_minor": 0,
       "model_id": "033d5c5c3bfd43418e71695824fe982c"
      }
     },
     "metadata": {},
     "output_type": "display_data"
    },
    {
     "data": {
      "text/plain": [
       "FloatText(value=0.0, description='DRB_per')"
      ],
      "application/vnd.jupyter.widget-view+json": {
       "version_major": 2,
       "version_minor": 0,
       "model_id": "59a56094ecf34165894709f3fbff5bb3"
      }
     },
     "metadata": {},
     "output_type": "display_data"
    },
    {
     "data": {
      "text/plain": [
       "FloatText(value=0.0, description='AST_per')"
      ],
      "application/vnd.jupyter.widget-view+json": {
       "version_major": 2,
       "version_minor": 0,
       "model_id": "4ac1d19eae164a4c9354c275f27d0def"
      }
     },
     "metadata": {},
     "output_type": "display_data"
    },
    {
     "data": {
      "text/plain": [
       "FloatText(value=0.0, description='TO_per')"
      ],
      "application/vnd.jupyter.widget-view+json": {
       "version_major": 2,
       "version_minor": 0,
       "model_id": "19c1dbaa790f4f8490de6ac68a26e496"
      }
     },
     "metadata": {},
     "output_type": "display_data"
    },
    {
     "data": {
      "text/plain": [
       "FloatText(value=0.0, description='FTM')"
      ],
      "application/vnd.jupyter.widget-view+json": {
       "version_major": 2,
       "version_minor": 0,
       "model_id": "3897bc88f3b54344940cdedb332682e1"
      }
     },
     "metadata": {},
     "output_type": "display_data"
    },
    {
     "data": {
      "text/plain": [
       "FloatText(value=0.0, description='FTA')"
      ],
      "application/vnd.jupyter.widget-view+json": {
       "version_major": 2,
       "version_minor": 0,
       "model_id": "36a312c9ebaa411ab4cb24da57acdc93"
      }
     },
     "metadata": {},
     "output_type": "display_data"
    },
    {
     "data": {
      "text/plain": [
       "FloatText(value=0.0, description='FT_per')"
      ],
      "application/vnd.jupyter.widget-view+json": {
       "version_major": 2,
       "version_minor": 0,
       "model_id": "b20bf9ace381417bb956f0ad7dec7021"
      }
     },
     "metadata": {},
     "output_type": "display_data"
    },
    {
     "data": {
      "text/plain": [
       "FloatText(value=0.0, description='twoPM')"
      ],
      "application/vnd.jupyter.widget-view+json": {
       "version_major": 2,
       "version_minor": 0,
       "model_id": "9e07cb02887247a381fdc57aaf6cc3e4"
      }
     },
     "metadata": {},
     "output_type": "display_data"
    },
    {
     "data": {
      "text/plain": [
       "FloatText(value=0.0, description='twoPA')"
      ],
      "application/vnd.jupyter.widget-view+json": {
       "version_major": 2,
       "version_minor": 0,
       "model_id": "286030ca98bd4f8a81dd53bca47e27ff"
      }
     },
     "metadata": {},
     "output_type": "display_data"
    },
    {
     "data": {
      "text/plain": [
       "FloatText(value=0.0, description='twoP_per')"
      ],
      "application/vnd.jupyter.widget-view+json": {
       "version_major": 2,
       "version_minor": 0,
       "model_id": "dc648033e1f8452ea17c3afd4b476642"
      }
     },
     "metadata": {},
     "output_type": "display_data"
    },
    {
     "data": {
      "text/plain": [
       "FloatText(value=0.0, description='TPM')"
      ],
      "application/vnd.jupyter.widget-view+json": {
       "version_major": 2,
       "version_minor": 0,
       "model_id": "f9f0c33694174012a9c30f600d1e5e75"
      }
     },
     "metadata": {},
     "output_type": "display_data"
    },
    {
     "data": {
      "text/plain": [
       "FloatText(value=0.0, description='TPA')"
      ],
      "application/vnd.jupyter.widget-view+json": {
       "version_major": 2,
       "version_minor": 0,
       "model_id": "5277acf69d5a461cbbf915eca293ea84"
      }
     },
     "metadata": {},
     "output_type": "display_data"
    },
    {
     "data": {
      "text/plain": [
       "FloatText(value=0.0, description='TP_per')"
      ],
      "application/vnd.jupyter.widget-view+json": {
       "version_major": 2,
       "version_minor": 0,
       "model_id": "14f391a9f9c54ebdb1e8f0fcb73440e3"
      }
     },
     "metadata": {},
     "output_type": "display_data"
    },
    {
     "data": {
      "text/plain": [
       "FloatText(value=0.0, description='blk_per')"
      ],
      "application/vnd.jupyter.widget-view+json": {
       "version_major": 2,
       "version_minor": 0,
       "model_id": "04f688a24df8413babc0555fc907d8ad"
      }
     },
     "metadata": {},
     "output_type": "display_data"
    },
    {
     "data": {
      "text/plain": [
       "FloatText(value=0.0, description='stl_per')"
      ],
      "application/vnd.jupyter.widget-view+json": {
       "version_major": 2,
       "version_minor": 0,
       "model_id": "b81dc45b2a7f4688a84461e368997791"
      }
     },
     "metadata": {},
     "output_type": "display_data"
    },
    {
     "data": {
      "text/plain": [
       "FloatText(value=0.0, description='ftr')"
      ],
      "application/vnd.jupyter.widget-view+json": {
       "version_major": 2,
       "version_minor": 0,
       "model_id": "b330bb16ab874956b7d3bed10dc80299"
      }
     },
     "metadata": {},
     "output_type": "display_data"
    },
    {
     "data": {
      "text/plain": [
       "FloatText(value=0.0, description='yr')"
      ],
      "application/vnd.jupyter.widget-view+json": {
       "version_major": 2,
       "version_minor": 0,
       "model_id": "33e6a891126846aaad6292b063c1a8eb"
      }
     },
     "metadata": {},
     "output_type": "display_data"
    },
    {
     "data": {
      "text/plain": [
       "FloatText(value=0.0, description='porpag')"
      ],
      "application/vnd.jupyter.widget-view+json": {
       "version_major": 2,
       "version_minor": 0,
       "model_id": "2233c37482854e629b5f29d16e4e392e"
      }
     },
     "metadata": {},
     "output_type": "display_data"
    },
    {
     "data": {
      "text/plain": [
       "FloatText(value=0.0, description='adjoe')"
      ],
      "application/vnd.jupyter.widget-view+json": {
       "version_major": 2,
       "version_minor": 0,
       "model_id": "bbd33323316f4d9cbbab734955929f5d"
      }
     },
     "metadata": {},
     "output_type": "display_data"
    },
    {
     "data": {
      "text/plain": [
       "FloatText(value=0.0, description='pfr')"
      ],
      "application/vnd.jupyter.widget-view+json": {
       "version_major": 2,
       "version_minor": 0,
       "model_id": "489fe78cc7a54c9c9cf6d2a1a7c4b6c4"
      }
     },
     "metadata": {},
     "output_type": "display_data"
    },
    {
     "data": {
      "text/plain": [
       "FloatText(value=0.0, description='ast/tov')"
      ],
      "application/vnd.jupyter.widget-view+json": {
       "version_major": 2,
       "version_minor": 0,
       "model_id": "80a9cb98a6f048cb90c6f3b2f076b4ee"
      }
     },
     "metadata": {},
     "output_type": "display_data"
    },
    {
     "data": {
      "text/plain": [
       "FloatText(value=0.0, description='drtg')"
      ],
      "application/vnd.jupyter.widget-view+json": {
       "version_major": 2,
       "version_minor": 0,
       "model_id": "b7cee213743a4a20b40c86350d0d945c"
      }
     },
     "metadata": {},
     "output_type": "display_data"
    },
    {
     "data": {
      "text/plain": [
       "FloatText(value=0.0, description='adrtg')"
      ],
      "application/vnd.jupyter.widget-view+json": {
       "version_major": 2,
       "version_minor": 0,
       "model_id": "eed9cbd348aa4964be7d23a90887af3c"
      }
     },
     "metadata": {},
     "output_type": "display_data"
    },
    {
     "data": {
      "text/plain": [
       "FloatText(value=0.0, description='dporpag')"
      ],
      "application/vnd.jupyter.widget-view+json": {
       "version_major": 2,
       "version_minor": 0,
       "model_id": "147c5963f68246b5a66d509fb2a5f911"
      }
     },
     "metadata": {},
     "output_type": "display_data"
    },
    {
     "data": {
      "text/plain": [
       "FloatText(value=0.0, description='stops')"
      ],
      "application/vnd.jupyter.widget-view+json": {
       "version_major": 2,
       "version_minor": 0,
       "model_id": "45d59e57e8dd46c58fa0b249bd667354"
      }
     },
     "metadata": {},
     "output_type": "display_data"
    },
    {
     "data": {
      "text/plain": [
       "FloatText(value=0.0, description='bpm')"
      ],
      "application/vnd.jupyter.widget-view+json": {
       "version_major": 2,
       "version_minor": 0,
       "model_id": "2edbaeb8e08f4dde9d50f7fabbe2d515"
      }
     },
     "metadata": {},
     "output_type": "display_data"
    },
    {
     "data": {
      "text/plain": [
       "FloatText(value=0.0, description='obpm')"
      ],
      "application/vnd.jupyter.widget-view+json": {
       "version_major": 2,
       "version_minor": 0,
       "model_id": "c3dc84182e874f6c98a47b32ee32d5b1"
      }
     },
     "metadata": {},
     "output_type": "display_data"
    },
    {
     "data": {
      "text/plain": [
       "FloatText(value=0.0, description='dbpm')"
      ],
      "application/vnd.jupyter.widget-view+json": {
       "version_major": 2,
       "version_minor": 0,
       "model_id": "eaac427fc3a8480ba6c7553ff4d3dac9"
      }
     },
     "metadata": {},
     "output_type": "display_data"
    },
    {
     "data": {
      "text/plain": [
       "FloatText(value=0.0, description='gbpm')"
      ],
      "application/vnd.jupyter.widget-view+json": {
       "version_major": 2,
       "version_minor": 0,
       "model_id": "3a0a7c3418894550ba01bc66f8bcb2a9"
      }
     },
     "metadata": {},
     "output_type": "display_data"
    },
    {
     "data": {
      "text/plain": [
       "FloatText(value=0.0, description='mp')"
      ],
      "application/vnd.jupyter.widget-view+json": {
       "version_major": 2,
       "version_minor": 0,
       "model_id": "114c911f09294cc5beaff7c66827d9e6"
      }
     },
     "metadata": {},
     "output_type": "display_data"
    },
    {
     "data": {
      "text/plain": [
       "FloatText(value=0.0, description='ogbpm')"
      ],
      "application/vnd.jupyter.widget-view+json": {
       "version_major": 2,
       "version_minor": 0,
       "model_id": "308d285c56c74d40a7c049f1e757136d"
      }
     },
     "metadata": {},
     "output_type": "display_data"
    },
    {
     "data": {
      "text/plain": [
       "FloatText(value=0.0, description='dgbpm')"
      ],
      "application/vnd.jupyter.widget-view+json": {
       "version_major": 2,
       "version_minor": 0,
       "model_id": "db30fae1c07a4e86805f514acac10c96"
      }
     },
     "metadata": {},
     "output_type": "display_data"
    },
    {
     "data": {
      "text/plain": [
       "FloatText(value=0.0, description='oreb')"
      ],
      "application/vnd.jupyter.widget-view+json": {
       "version_major": 2,
       "version_minor": 0,
       "model_id": "d1bc8e50e3804e6b900a33e6a2fa8883"
      }
     },
     "metadata": {},
     "output_type": "display_data"
    },
    {
     "data": {
      "text/plain": [
       "FloatText(value=0.0, description='dreb')"
      ],
      "application/vnd.jupyter.widget-view+json": {
       "version_major": 2,
       "version_minor": 0,
       "model_id": "0d3e76e4db59454f995b2eefb5043f61"
      }
     },
     "metadata": {},
     "output_type": "display_data"
    },
    {
     "data": {
      "text/plain": [
       "FloatText(value=0.0, description='treb')"
      ],
      "application/vnd.jupyter.widget-view+json": {
       "version_major": 2,
       "version_minor": 0,
       "model_id": "d181e19ac36540c9b04b8e31f59f7d77"
      }
     },
     "metadata": {},
     "output_type": "display_data"
    },
    {
     "data": {
      "text/plain": [
       "FloatText(value=0.0, description='ast')"
      ],
      "application/vnd.jupyter.widget-view+json": {
       "version_major": 2,
       "version_minor": 0,
       "model_id": "7e73f4dc104c4b019053b6fbe708b5ff"
      }
     },
     "metadata": {},
     "output_type": "display_data"
    },
    {
     "data": {
      "text/plain": [
       "FloatText(value=0.0, description='stl')"
      ],
      "application/vnd.jupyter.widget-view+json": {
       "version_major": 2,
       "version_minor": 0,
       "model_id": "0574ff262265463bbe874a0f36a8013d"
      }
     },
     "metadata": {},
     "output_type": "display_data"
    },
    {
     "data": {
      "text/plain": [
       "FloatText(value=0.0, description='blk')"
      ],
      "application/vnd.jupyter.widget-view+json": {
       "version_major": 2,
       "version_minor": 0,
       "model_id": "305772b38ff342e3abe0ea6990d10a54"
      }
     },
     "metadata": {},
     "output_type": "display_data"
    },
    {
     "data": {
      "text/plain": [
       "FloatText(value=0.0, description='pts')"
      ],
      "application/vnd.jupyter.widget-view+json": {
       "version_major": 2,
       "version_minor": 0,
       "model_id": "cb3f60621dbb4c31af1de3bd502cebc3"
      }
     },
     "metadata": {},
     "output_type": "display_data"
    },
    {
     "data": {
      "text/plain": [
       "FloatText(value=0.0, description='height_wo_shoes')"
      ],
      "application/vnd.jupyter.widget-view+json": {
       "version_major": 2,
       "version_minor": 0,
       "model_id": "3e535498c1c44e4080c246992523bb28"
      }
     },
     "metadata": {},
     "output_type": "display_data"
    },
    {
     "data": {
      "text/plain": [
       "FloatText(value=0.0, description='height_w_shoes')"
      ],
      "application/vnd.jupyter.widget-view+json": {
       "version_major": 2,
       "version_minor": 0,
       "model_id": "652f31f1202b4778a6e72631d674381c"
      }
     },
     "metadata": {},
     "output_type": "display_data"
    },
    {
     "data": {
      "text/plain": [
       "FloatText(value=0.0, description='weight')"
      ],
      "application/vnd.jupyter.widget-view+json": {
       "version_major": 2,
       "version_minor": 0,
       "model_id": "094ca6cb38fc4f66a845dcb3d68865fc"
      }
     },
     "metadata": {},
     "output_type": "display_data"
    },
    {
     "data": {
      "text/plain": [
       "FloatText(value=0.0, description='wingspan')"
      ],
      "application/vnd.jupyter.widget-view+json": {
       "version_major": 2,
       "version_minor": 0,
       "model_id": "238548389def48e3b1bf5b6cfab3aa99"
      }
     },
     "metadata": {},
     "output_type": "display_data"
    },
    {
     "data": {
      "text/plain": [
       "FloatText(value=0.0, description='standing_reach')"
      ],
      "application/vnd.jupyter.widget-view+json": {
       "version_major": 2,
       "version_minor": 0,
       "model_id": "4887e2e8f39d4ef396889683da8bc22d"
      }
     },
     "metadata": {},
     "output_type": "display_data"
    },
    {
     "data": {
      "text/plain": [
       "FloatText(value=0.0, description='body_fat_pct')"
      ],
      "application/vnd.jupyter.widget-view+json": {
       "version_major": 2,
       "version_minor": 0,
       "model_id": "1f877e8a7d8c4a77bd971d47f18e869a"
      }
     },
     "metadata": {},
     "output_type": "display_data"
    },
    {
     "data": {
      "text/plain": [
       "Button(description='Prepopulate Player 1', style=ButtonStyle())"
      ],
      "application/vnd.jupyter.widget-view+json": {
       "version_major": 2,
       "version_minor": 0,
       "model_id": "5d089d09ebc4401eb38be8590a440f70"
      }
     },
     "metadata": {},
     "output_type": "display_data"
    },
    {
     "data": {
      "text/plain": [
       "Button(description='Prepopulate Player 2', style=ButtonStyle())"
      ],
      "application/vnd.jupyter.widget-view+json": {
       "version_major": 2,
       "version_minor": 0,
       "model_id": "644ce35b817447bd954c8d8c0b4634a3"
      }
     },
     "metadata": {},
     "output_type": "display_data"
    },
    {
     "data": {
      "text/plain": [
       "Button(description='Prepopulate Player 3', style=ButtonStyle())"
      ],
      "application/vnd.jupyter.widget-view+json": {
       "version_major": 2,
       "version_minor": 0,
       "model_id": "176ed0e9cc9943fe94a56fea05621bfc"
      }
     },
     "metadata": {},
     "output_type": "display_data"
    },
    {
     "data": {
      "text/plain": [
       "Button(description='Submit', style=ButtonStyle())"
      ],
      "application/vnd.jupyter.widget-view+json": {
       "version_major": 2,
       "version_minor": 0,
       "model_id": "f3704c623944448a80005ec94e5d0d1f"
      }
     },
     "metadata": {},
     "output_type": "display_data"
    },
    {
     "data": {
      "text/plain": [
       "Output()"
      ],
      "application/vnd.jupyter.widget-view+json": {
       "version_major": 2,
       "version_minor": 0,
       "model_id": "676c3a9d08384ff38811c6170015a7d9"
      }
     },
     "metadata": {},
     "output_type": "display_data"
    }
   ],
   "execution_count": 80
  }
 ],
 "metadata": {
  "kernelspec": {
   "display_name": "Python 3",
   "language": "python",
   "name": "python3"
  },
  "language_info": {
   "codemirror_mode": {
    "name": "ipython",
    "version": 2
   },
   "file_extension": ".py",
   "mimetype": "text/x-python",
   "name": "python",
   "nbconvert_exporter": "python",
   "pygments_lexer": "ipython2",
   "version": "2.7.6"
  }
 },
 "nbformat": 4,
 "nbformat_minor": 5
}
