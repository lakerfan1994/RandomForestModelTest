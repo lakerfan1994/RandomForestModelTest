{
 "cells": [
  {
   "metadata": {},
   "cell_type": "markdown",
   "source": [
    "Good afternoon, and welcome to this data model.\n",
    "Today we are going to observe how we used draft eligible college basketball data to determine the success a player would have in the NBA.\n",
    "\n",
    "We have a lot of raw data, our college-stats file contains a deluge of all college players that played between the years 2009-2021, whether they made the NBA or not, and our common_player files and draft_combine files contain data across the entire history of the NBA.\n",
    "\n",
    "Below, we will start by defining success in the nba. We will have 3 classifications. A player is a star if they made an all star team, which we have compiled manually, a player is solid if they played at least 5 years in the nba (i.e. they were good enough to get a second contract after their rookie contract), and a player is a bust if they played less than 5 years in the NBA."
   ],
   "id": "17ec813017c2adad"
  },
  {
   "cell_type": "code",
   "id": "10776386ee7b7f61",
   "metadata": {
    "ExecuteTime": {
     "end_time": "2025-01-13T21:53:40.859220Z",
     "start_time": "2025-01-13T21:53:40.849619Z"
    }
   },
   "source": [
    "import pandas as pd\n",
    "import matplotlib.pyplot as plt\n",
    "import star_players\n",
    "import warnings\n",
    "from sklearn.ensemble import RandomForestClassifier\n",
    "from sklearn.metrics import accuracy_score, confusion_matrix, precision_score, recall_score, ConfusionMatrixDisplay\n",
    "from sklearn.model_selection import RandomizedSearchCV, train_test_split\n",
    "from scipy.stats import randint\n",
    "import ipywidgets as widgets\n",
    "from IPython.display import display, clear_output\n",
    "warnings.filterwarnings(\"ignore\")\n",
    "\n",
    "\n",
    "def classify_player(row):\n",
    "    if row['display_first_last'] in (star_players.get_star_players()):\n",
    "        return 'STAR'\n",
    "    elif row['to_year'] - row['from_year'] >= 5:\n",
    "        return 'SOLID'\n",
    "    else:\n",
    "        return 'BUST'\n"
   ],
   "outputs": [],
   "execution_count": 22
  },
  {
   "metadata": {},
   "cell_type": "markdown",
   "source": "Next, we wil perform some preprocessing of the raw data files in order to create a clean dataset that we can use to train our model. We wont go over everything we do in the cleaning process, but essentially, we will apply the classification function above to the data, as well select data that is most significant for analysis. We will display a sample of the data below that should show a good mix of stars, solid players and busts.",
   "id": "90a247b493d948c4"
  },
  {
   "metadata": {
    "collapsed": true,
    "ExecuteTime": {
     "end_time": "2025-01-13T21:53:42.261075Z",
     "start_time": "2025-01-13T21:53:40.970906Z"
    }
   },
   "cell_type": "code",
   "source": [
    "\n",
    "college_df = pd.read_csv(\"college-stats.csv\", low_memory=False)\n",
    "\n",
    "college_df = college_df.loc[college_df.groupby('player_name')['year'].idxmax()]\n",
    "\n",
    "nba_df = pd.read_csv(\"common_player_info.csv\")\n",
    "draft_year = 2009\n",
    "\n",
    "nba_df = nba_df[nba_df[\"from_year\"] >= draft_year]\n",
    "\n",
    "nba_df.sort_values(by=['from_year'], inplace=True)\n",
    "\n",
    "nba_df['classification'] = nba_df.apply(classify_player, axis=1)\n",
    "\n",
    "# We will remove the college players that most recently entered the NBA, as we do not have enough information to determine\n",
    "# whether they are a bust or a solid player yet.\n",
    "nba_df = nba_df[\n",
    "        ~(\n",
    "            (nba_df['from_year'] >= 2019) &\n",
    "            (nba_df['to_year'] >= 2023) &\n",
    "            (nba_df['classification'] == 'BUST')\n",
    "        )\n",
    "    ]\n",
    "\n",
    "\n",
    "\n",
    "columns = ['display_first_last', 'classification', 'from_year', 'to_year', 'school']\n",
    "\n",
    "nba_df = nba_df[columns]\n",
    "\n",
    "\n",
    "nba_df.to_csv('output.csv', index=False)\n",
    "\n",
    "\n",
    "\n",
    "\n",
    "classified__nba_df = pd.read_csv(\"output.csv\")\n",
    "\n",
    "# Merge college statistics with NBA player names\n",
    "clean_data = classified__nba_df.merge(college_df, left_on=['display_first_last', 'from_year'], right_on=['player_name', 'year'], how='inner')\n",
    "\n",
    "# Merge draft combine dataa with NBA player names.\n",
    "draft_combine = pd.read_csv(\"draft_combine_stats.csv\")\n",
    "clean_data = clean_data.merge(draft_combine, left_on='display_first_last', right_on='player_name', how='inner')\n",
    "\n",
    "# transform the year players are into their numerical equivalent\n",
    "clean_data['yr'] = clean_data['yr'].replace({'Fr': 1, 'So': 2, 'Jr': 3, 'Sr': 4})\n",
    "\n",
    "# Only select relevant data for model\n",
    "clean_data = clean_data[star_players.get_training_columns()]\n",
    "clean_data.to_csv('output.csv', index=False)\n",
    "clean_data.sample(10)\n",
    "\n"
   ],
   "id": "initial_id",
   "outputs": [
    {
     "data": {
      "text/plain": [
       "         display_first_last classification  GP  Min_per   Ortg   usg   eFG  \\\n",
       "104  Michael Kidd-Gilchrist          SOLID  40     77.8  111.8  21.3  51.1   \n",
       "193             Rodney Hood          SOLID  35     81.9  119.8  22.3  55.0   \n",
       "194            Marcus Smart          SOLID  31     72.9  110.4  29.9  48.6   \n",
       "89          DeAndre Liggins          SOLID  38     78.8  106.5  15.9  49.2   \n",
       "74            Tobias Harris          SOLID  34     72.5  109.5  25.9  48.9   \n",
       "164           Mason Plumlee          SOLID  36     86.7  113.1  25.1  59.9   \n",
       "106         Jared Sullinger           BUST  37     72.0  117.8  27.3  53.8   \n",
       "255            Zach Collins          SOLID  39     43.1  120.6  24.8  67.6   \n",
       "17            Byron Mullens           BUST  33     50.3  106.2  23.2  63.8   \n",
       "241             Jamel Artis           BUST  32     81.9  111.9  26.7  56.4   \n",
       "\n",
       "     TS_per  ORB_per  DRB_per  ...     ast     stl     blk      pts  \\\n",
       "104   57.05     10.3     16.1  ...  1.8750  0.9750  0.9250  11.9000   \n",
       "193   59.02      2.9     11.7  ...  2.1429  0.7143  0.2571  16.0571   \n",
       "194   55.18      5.1     14.9  ...  4.7742  2.8710  0.5806  17.9677   \n",
       "89    52.25      2.2     11.8  ...  2.5263  1.2105  0.7368   8.6316   \n",
       "74    53.96      7.5     20.6  ...  1.2941  0.7059  0.8529  15.3235   \n",
       "164   62.80      9.8     23.3  ...  1.9444  1.0000  1.4444  17.0833   \n",
       "106   59.11     12.5     24.0  ...  1.2432  1.1622  1.0541  17.4865   \n",
       "255   70.32     12.2     23.2  ...  0.4103  0.4615  1.7692  10.0000   \n",
       "17    62.88     11.6     17.1  ...  0.2727  0.4848  1.1212   8.8485   \n",
       "241   59.63      4.4     11.8  ...  3.3125  0.4062  0.2812  18.1875   \n",
       "\n",
       "     height_wo_shoes  height_w_shoes  weight  wingspan  standing_reach  \\\n",
       "104            77.75           79.50   232.8     84.00           104.5   \n",
       "193            79.25           80.50   208.2     80.50           103.0   \n",
       "194            74.00           75.25   227.2     81.25            99.0   \n",
       "89             77.00           78.25   202.2     83.00           103.5   \n",
       "74             78.50           79.75   222.8     83.00           103.5   \n",
       "164            83.25           84.50   238.2     83.00           108.0   \n",
       "106            79.75           81.00   268.2     85.25           105.5   \n",
       "255            82.25           84.00   232.2     85.00           111.0   \n",
       "17             83.75           85.25   258.2     85.50           111.0   \n",
       "241            77.50           78.75   213.2     82.00           105.0   \n",
       "\n",
       "     body_fat_pct  \n",
       "104          7.00  \n",
       "193          7.45  \n",
       "194         10.55  \n",
       "89           5.00  \n",
       "74           8.40  \n",
       "164          6.15  \n",
       "106         10.70  \n",
       "255          8.90  \n",
       "17           8.50  \n",
       "241         11.90  \n",
       "\n",
       "[10 rows x 53 columns]"
      ],
      "text/html": [
       "<div>\n",
       "<style scoped>\n",
       "    .dataframe tbody tr th:only-of-type {\n",
       "        vertical-align: middle;\n",
       "    }\n",
       "\n",
       "    .dataframe tbody tr th {\n",
       "        vertical-align: top;\n",
       "    }\n",
       "\n",
       "    .dataframe thead th {\n",
       "        text-align: right;\n",
       "    }\n",
       "</style>\n",
       "<table border=\"1\" class=\"dataframe\">\n",
       "  <thead>\n",
       "    <tr style=\"text-align: right;\">\n",
       "      <th></th>\n",
       "      <th>display_first_last</th>\n",
       "      <th>classification</th>\n",
       "      <th>GP</th>\n",
       "      <th>Min_per</th>\n",
       "      <th>Ortg</th>\n",
       "      <th>usg</th>\n",
       "      <th>eFG</th>\n",
       "      <th>TS_per</th>\n",
       "      <th>ORB_per</th>\n",
       "      <th>DRB_per</th>\n",
       "      <th>...</th>\n",
       "      <th>ast</th>\n",
       "      <th>stl</th>\n",
       "      <th>blk</th>\n",
       "      <th>pts</th>\n",
       "      <th>height_wo_shoes</th>\n",
       "      <th>height_w_shoes</th>\n",
       "      <th>weight</th>\n",
       "      <th>wingspan</th>\n",
       "      <th>standing_reach</th>\n",
       "      <th>body_fat_pct</th>\n",
       "    </tr>\n",
       "  </thead>\n",
       "  <tbody>\n",
       "    <tr>\n",
       "      <th>104</th>\n",
       "      <td>Michael Kidd-Gilchrist</td>\n",
       "      <td>SOLID</td>\n",
       "      <td>40</td>\n",
       "      <td>77.8</td>\n",
       "      <td>111.8</td>\n",
       "      <td>21.3</td>\n",
       "      <td>51.1</td>\n",
       "      <td>57.05</td>\n",
       "      <td>10.3</td>\n",
       "      <td>16.1</td>\n",
       "      <td>...</td>\n",
       "      <td>1.8750</td>\n",
       "      <td>0.9750</td>\n",
       "      <td>0.9250</td>\n",
       "      <td>11.9000</td>\n",
       "      <td>77.75</td>\n",
       "      <td>79.50</td>\n",
       "      <td>232.8</td>\n",
       "      <td>84.00</td>\n",
       "      <td>104.5</td>\n",
       "      <td>7.00</td>\n",
       "    </tr>\n",
       "    <tr>\n",
       "      <th>193</th>\n",
       "      <td>Rodney Hood</td>\n",
       "      <td>SOLID</td>\n",
       "      <td>35</td>\n",
       "      <td>81.9</td>\n",
       "      <td>119.8</td>\n",
       "      <td>22.3</td>\n",
       "      <td>55.0</td>\n",
       "      <td>59.02</td>\n",
       "      <td>2.9</td>\n",
       "      <td>11.7</td>\n",
       "      <td>...</td>\n",
       "      <td>2.1429</td>\n",
       "      <td>0.7143</td>\n",
       "      <td>0.2571</td>\n",
       "      <td>16.0571</td>\n",
       "      <td>79.25</td>\n",
       "      <td>80.50</td>\n",
       "      <td>208.2</td>\n",
       "      <td>80.50</td>\n",
       "      <td>103.0</td>\n",
       "      <td>7.45</td>\n",
       "    </tr>\n",
       "    <tr>\n",
       "      <th>194</th>\n",
       "      <td>Marcus Smart</td>\n",
       "      <td>SOLID</td>\n",
       "      <td>31</td>\n",
       "      <td>72.9</td>\n",
       "      <td>110.4</td>\n",
       "      <td>29.9</td>\n",
       "      <td>48.6</td>\n",
       "      <td>55.18</td>\n",
       "      <td>5.1</td>\n",
       "      <td>14.9</td>\n",
       "      <td>...</td>\n",
       "      <td>4.7742</td>\n",
       "      <td>2.8710</td>\n",
       "      <td>0.5806</td>\n",
       "      <td>17.9677</td>\n",
       "      <td>74.00</td>\n",
       "      <td>75.25</td>\n",
       "      <td>227.2</td>\n",
       "      <td>81.25</td>\n",
       "      <td>99.0</td>\n",
       "      <td>10.55</td>\n",
       "    </tr>\n",
       "    <tr>\n",
       "      <th>89</th>\n",
       "      <td>DeAndre Liggins</td>\n",
       "      <td>SOLID</td>\n",
       "      <td>38</td>\n",
       "      <td>78.8</td>\n",
       "      <td>106.5</td>\n",
       "      <td>15.9</td>\n",
       "      <td>49.2</td>\n",
       "      <td>52.25</td>\n",
       "      <td>2.2</td>\n",
       "      <td>11.8</td>\n",
       "      <td>...</td>\n",
       "      <td>2.5263</td>\n",
       "      <td>1.2105</td>\n",
       "      <td>0.7368</td>\n",
       "      <td>8.6316</td>\n",
       "      <td>77.00</td>\n",
       "      <td>78.25</td>\n",
       "      <td>202.2</td>\n",
       "      <td>83.00</td>\n",
       "      <td>103.5</td>\n",
       "      <td>5.00</td>\n",
       "    </tr>\n",
       "    <tr>\n",
       "      <th>74</th>\n",
       "      <td>Tobias Harris</td>\n",
       "      <td>SOLID</td>\n",
       "      <td>34</td>\n",
       "      <td>72.5</td>\n",
       "      <td>109.5</td>\n",
       "      <td>25.9</td>\n",
       "      <td>48.9</td>\n",
       "      <td>53.96</td>\n",
       "      <td>7.5</td>\n",
       "      <td>20.6</td>\n",
       "      <td>...</td>\n",
       "      <td>1.2941</td>\n",
       "      <td>0.7059</td>\n",
       "      <td>0.8529</td>\n",
       "      <td>15.3235</td>\n",
       "      <td>78.50</td>\n",
       "      <td>79.75</td>\n",
       "      <td>222.8</td>\n",
       "      <td>83.00</td>\n",
       "      <td>103.5</td>\n",
       "      <td>8.40</td>\n",
       "    </tr>\n",
       "    <tr>\n",
       "      <th>164</th>\n",
       "      <td>Mason Plumlee</td>\n",
       "      <td>SOLID</td>\n",
       "      <td>36</td>\n",
       "      <td>86.7</td>\n",
       "      <td>113.1</td>\n",
       "      <td>25.1</td>\n",
       "      <td>59.9</td>\n",
       "      <td>62.80</td>\n",
       "      <td>9.8</td>\n",
       "      <td>23.3</td>\n",
       "      <td>...</td>\n",
       "      <td>1.9444</td>\n",
       "      <td>1.0000</td>\n",
       "      <td>1.4444</td>\n",
       "      <td>17.0833</td>\n",
       "      <td>83.25</td>\n",
       "      <td>84.50</td>\n",
       "      <td>238.2</td>\n",
       "      <td>83.00</td>\n",
       "      <td>108.0</td>\n",
       "      <td>6.15</td>\n",
       "    </tr>\n",
       "    <tr>\n",
       "      <th>106</th>\n",
       "      <td>Jared Sullinger</td>\n",
       "      <td>BUST</td>\n",
       "      <td>37</td>\n",
       "      <td>72.0</td>\n",
       "      <td>117.8</td>\n",
       "      <td>27.3</td>\n",
       "      <td>53.8</td>\n",
       "      <td>59.11</td>\n",
       "      <td>12.5</td>\n",
       "      <td>24.0</td>\n",
       "      <td>...</td>\n",
       "      <td>1.2432</td>\n",
       "      <td>1.1622</td>\n",
       "      <td>1.0541</td>\n",
       "      <td>17.4865</td>\n",
       "      <td>79.75</td>\n",
       "      <td>81.00</td>\n",
       "      <td>268.2</td>\n",
       "      <td>85.25</td>\n",
       "      <td>105.5</td>\n",
       "      <td>10.70</td>\n",
       "    </tr>\n",
       "    <tr>\n",
       "      <th>255</th>\n",
       "      <td>Zach Collins</td>\n",
       "      <td>SOLID</td>\n",
       "      <td>39</td>\n",
       "      <td>43.1</td>\n",
       "      <td>120.6</td>\n",
       "      <td>24.8</td>\n",
       "      <td>67.6</td>\n",
       "      <td>70.32</td>\n",
       "      <td>12.2</td>\n",
       "      <td>23.2</td>\n",
       "      <td>...</td>\n",
       "      <td>0.4103</td>\n",
       "      <td>0.4615</td>\n",
       "      <td>1.7692</td>\n",
       "      <td>10.0000</td>\n",
       "      <td>82.25</td>\n",
       "      <td>84.00</td>\n",
       "      <td>232.2</td>\n",
       "      <td>85.00</td>\n",
       "      <td>111.0</td>\n",
       "      <td>8.90</td>\n",
       "    </tr>\n",
       "    <tr>\n",
       "      <th>17</th>\n",
       "      <td>Byron Mullens</td>\n",
       "      <td>BUST</td>\n",
       "      <td>33</td>\n",
       "      <td>50.3</td>\n",
       "      <td>106.2</td>\n",
       "      <td>23.2</td>\n",
       "      <td>63.8</td>\n",
       "      <td>62.88</td>\n",
       "      <td>11.6</td>\n",
       "      <td>17.1</td>\n",
       "      <td>...</td>\n",
       "      <td>0.2727</td>\n",
       "      <td>0.4848</td>\n",
       "      <td>1.1212</td>\n",
       "      <td>8.8485</td>\n",
       "      <td>83.75</td>\n",
       "      <td>85.25</td>\n",
       "      <td>258.2</td>\n",
       "      <td>85.50</td>\n",
       "      <td>111.0</td>\n",
       "      <td>8.50</td>\n",
       "    </tr>\n",
       "    <tr>\n",
       "      <th>241</th>\n",
       "      <td>Jamel Artis</td>\n",
       "      <td>BUST</td>\n",
       "      <td>32</td>\n",
       "      <td>81.9</td>\n",
       "      <td>111.9</td>\n",
       "      <td>26.7</td>\n",
       "      <td>56.4</td>\n",
       "      <td>59.63</td>\n",
       "      <td>4.4</td>\n",
       "      <td>11.8</td>\n",
       "      <td>...</td>\n",
       "      <td>3.3125</td>\n",
       "      <td>0.4062</td>\n",
       "      <td>0.2812</td>\n",
       "      <td>18.1875</td>\n",
       "      <td>77.50</td>\n",
       "      <td>78.75</td>\n",
       "      <td>213.2</td>\n",
       "      <td>82.00</td>\n",
       "      <td>105.0</td>\n",
       "      <td>11.90</td>\n",
       "    </tr>\n",
       "  </tbody>\n",
       "</table>\n",
       "<p>10 rows × 53 columns</p>\n",
       "</div>"
      ]
     },
     "execution_count": 23,
     "metadata": {},
     "output_type": "execute_result"
    }
   ],
   "execution_count": 23
  },
  {
   "metadata": {},
   "cell_type": "markdown",
   "source": "Awesome! we can see that for every player listed, we have their associated statistics and measurements. One final bit of preprocessing will be to remove player names, as our random forest model can only accept numerical input",
   "id": "bfda0f027fb1288d"
  },
  {
   "metadata": {
    "ExecuteTime": {
     "end_time": "2025-01-13T21:53:42.375898Z",
     "start_time": "2025-01-13T21:53:42.366004Z"
    }
   },
   "cell_type": "code",
   "source": [
    "\n",
    "clean_data = clean_data.drop('display_first_last', axis=1)"
   ],
   "id": "54d270797c3c569c",
   "outputs": [],
   "execution_count": 24
  },
  {
   "metadata": {},
   "cell_type": "markdown",
   "source": [
    "\n",
    "\n",
    "Next, we will now look at a visualization that shows the distribution of the three different classifications of NBA players, \"stars\",\n",
    "\"solid\" players, and \"busts"
   ],
   "id": "608a161d6b5236f8"
  },
  {
   "metadata": {
    "ExecuteTime": {
     "end_time": "2025-01-13T21:53:42.793170Z",
     "start_time": "2025-01-13T21:53:42.588025Z"
    }
   },
   "cell_type": "code",
   "source": [
    "classifications = clean_data.groupby(by='classification').size()\n",
    "plot = classifications.plot.bar(color=['red', 'yellow','green'],rot=0)\n"
   ],
   "id": "a82467735b14cdbc",
   "outputs": [
    {
     "data": {
      "text/plain": [
       "<Figure size 640x480 with 1 Axes>"
      ],
      "image/png": "[encoded data removed]"
     },
     "metadata": {},
     "output_type": "display_data"
    }
   ],
   "execution_count": 25
  },
  {
   "metadata": {},
   "cell_type": "markdown",
   "source": [
    "As we can see above, we have relatively even numbers of busts and solid players, with very few star players.\n",
    "\n",
    "We will now begin the process of training the model, specifically a random forest model.\n",
    "\n",
    "First, lets split our data into test data and training data. We will need to identify the target result with is the classification of the player, and the independent variables, which are their college statistics and measurements"
   ],
   "id": "2a89eca0f2ef56b1"
  },
  {
   "metadata": {
    "ExecuteTime": {
     "end_time": "2025-01-13T21:53:43.144919Z",
     "start_time": "2025-01-13T21:53:43.128890Z"
    }
   },
   "cell_type": "code",
   "source": [
    "# identify independent and dependent variables\n",
    "independentVars = clean_data.drop('classification', axis=1)\n",
    "dependentVar = clean_data['classification']\n",
    "\n",
    "training_independent, test_independent, training_dependent, test_dependent = train_test_split(independentVars, dependentVar, test_size=0.1, random_state=24, stratify=dependentVar)"
   ],
   "id": "81758b51c0cdc0fa",
   "outputs": [],
   "execution_count": 26
  },
  {
   "metadata": {},
   "cell_type": "markdown",
   "source": [
    "Above we have defined our traiing and test data, as well as isolated the variable (classification) that we want to train our model on.\n",
    "Actually training the model to a baseline level is quite simple. We will train a random forest model below as well as test it using our designated data."
   ],
   "id": "3acf78c8ceff2d8e"
  },
  {
   "metadata": {
    "ExecuteTime": {
     "end_time": "2025-01-13T21:53:44.033978Z",
     "start_time": "2025-01-13T21:53:43.416012Z"
    }
   },
   "cell_type": "code",
   "source": [
    "\n",
    "\n",
    "\n",
    "# create default tree\n",
    "random_forest = RandomForestClassifier(random_state= 26)\n",
    "\n",
    "random_forest.fit(training_independent, training_dependent)\n",
    "\n",
    "predictions = random_forest.predict(test_independent)\n",
    "\n",
    "\n",
    "\n",
    "accuracy = accuracy_score(test_dependent, predictions)\n",
    "print(\"The accuracy of the model is: \" + str(round(accuracy * 100)) + '%')\n",
    "\n",
    "\n",
    "\n",
    "ConfusionMatrixDisplay.from_estimator(random_forest, test_independent, test_dependent)\n",
    "\n"
   ],
   "id": "ef7ca65ceb2fcc0e",
   "outputs": [
    {
     "name": "stdout",
     "output_type": "stream",
     "text": [
      "The accuracy of the model is: 59%\n"
     ]
    },
    {
     "data": {
      "text/plain": [
       "<sklearn.metrics._plot.confusion_matrix.ConfusionMatrixDisplay at 0x1a5cd686de0>"
      ]
     },
     "execution_count": 27,
     "metadata": {},
     "output_type": "execute_result"
    },
    {
     "data": {
      "text/plain": [
       "<Figure size 640x480 with 2 Axes>"
      ],
      "image/png": "[encoded data removed]"
     },
     "metadata": {},
     "output_type": "display_data"
    }
   ],
   "execution_count": 27
  },
  {
   "metadata": {},
   "cell_type": "markdown",
   "source": "Above, we can see that our model is accurate roughly ~64% of the time, but when we look at the confusion matrix generated, we find that our model does a relatively decent job predicting whether a player would be either solid or a bust, but does quite poorly with predicting star players. Lets see if we can improve the accuracy of model by fine-tuning it below",
   "id": "a4daeae6097616b1"
  },
  {
   "metadata": {
    "ExecuteTime": {
     "end_time": "2025-01-13T21:54:06.281863Z",
     "start_time": "2025-01-13T21:53:44.052840Z"
    }
   },
   "cell_type": "code",
   "source": [
    "\n",
    "\n",
    "params = {'n_estimators': randint(1,1000),\n",
    "          'max_depth': randint(1,50)}\n",
    "\n",
    "\n",
    "random_forest_2 = RandomForestClassifier(random_state= 26)\n",
    "\n",
    "\n",
    "#use a hyperparameter tuning algorithm to attempt to find the best random forest with the best hyperparameters\n",
    "search_engine = RandomizedSearchCV(random_forest_2, param_distributions=params, n_iter=5, cv=5, random_state=26)\n",
    "\n",
    "search_engine.fit(training_independent, training_dependent)\n",
    "\n",
    "best_random_forest = search_engine.best_estimator_\n",
    "\n",
    "newPredictions = best_random_forest.predict(test_independent)\n",
    "\n",
    "accuracy2 = accuracy_score(test_dependent, newPredictions)\n",
    "\n",
    "\n",
    "print(\"The accuracy of the model is: \" + str(round(accuracy2 * 100)) + '%')\n",
    "\n",
    "ConfusionMatrixDisplay.from_estimator(best_random_forest, test_independent, test_dependent, cmap=\"coolwarm\")"
   ],
   "id": "898cdb59d554f1bc",
   "outputs": [
    {
     "name": "stdout",
     "output_type": "stream",
     "text": [
      "The accuracy of the model is: 59%\n"
     ]
    },
    {
     "data": {
      "text/plain": [
       "<sklearn.metrics._plot.confusion_matrix.ConfusionMatrixDisplay at 0x1a59a285310>"
      ]
     },
     "execution_count": 28,
     "metadata": {},
     "output_type": "execute_result"
    },
    {
     "data": {
      "text/plain": [
       "<Figure size 640x480 with 2 Axes>"
      ],
      "image/png": "[encoded data removed]"
     },
     "metadata": {},
     "output_type": "display_data"
    }
   ],
   "execution_count": 28
  },
  {
   "metadata": {},
   "cell_type": "markdown",
   "source": [
    "Above, we can see that while we used RandomizedSearchCV to randomly select the hyperparameters needed to create the best random forest, we were able to improve the accuracy by roughly 6%. However, we did not see any improvement in the models ability to accurately predict star players. In the future, further enhancements that can be added to the project to enable it to predict stars more accurately would be to increase the sample size of star players.\n",
    "\n",
    "For now, lets take a look at the features the model deemed most important and predictive during its training\n",
    "\n",
    "\n"
   ],
   "id": "c188f1514e57ebc6"
  },
  {
   "metadata": {
    "ExecuteTime": {
     "end_time": "2025-01-13T21:54:06.913285Z",
     "start_time": "2025-01-13T21:54:06.395682Z"
    }
   },
   "cell_type": "code",
   "source": [
    "features = independentVars.columns\n",
    "importance = best_random_forest.feature_importances_\n",
    "\n",
    "# Create a DataFrame for visualization\n",
    "feature_importance = pd.DataFrame({\n",
    "    'Feature': features,\n",
    "    'Importance': importance\n",
    "}).sort_values(by='Importance', ascending=False)\n",
    "\n",
    "# Plot the feature importance\n",
    "plt.figure(figsize=(12, 6))\n",
    "plt.bar(feature_importance['Feature'], feature_importance['Importance'])\n",
    "plt.xlabel('Features')\n",
    "plt.ylabel('Importance')\n",
    "plt.title('Importance of different statistics for Draft Model Prediction ')\n",
    "plt.xticks(rotation=45, ha='right')\n",
    "plt.tight_layout()\n",
    "plt.show()"
   ],
   "id": "553c93e32ad22fbb",
   "outputs": [
    {
     "data": {
      "text/plain": [
       "<Figure size 1200x600 with 1 Axes>"
      ],
      "image/png": "[encoded data removed]"
     },
     "metadata": {},
     "output_type": "display_data"
    }
   ],
   "execution_count": 29
  },
  {
   "metadata": {},
   "cell_type": "markdown",
   "source": [
    "Looking at the chart above, we can see some interesting results. The statistics that are seen as most determinative of a players success in the nba include free throws, both the players ability to shoot them, as well as their abiiity to draw free throws in the first place, box plus minus, or how well a team performs when a player is on the court vs off the court, and the year of school they are in. This follows conventional wisdom, in that free throws are widely seaen as the strongest indicator of a players ability to shoot, and scouts most often prefer to draft younger players over older players, as the former has more room to grow than the latter.\n",
    "\n",
    "Another thing we can potentially do to improve the model would be to prune some of the less important statistics from the model, in order to let the more important statistics guide the models training."
   ],
   "id": "d1918382cf51b060"
  },
  {
   "metadata": {},
   "cell_type": "markdown",
   "source": [
    "# USER INTERFACE FOR TESTING INPUT BELOW\n",
    "\n",
    "The code below is available for users who want to test the capabilities of the model for themselves. Player data has many different input points,  so for simplicity and ease of use, I provided the data for three NBA players that were drafted recently that are not in the dataset.\n",
    "\n",
    "To test the data below, you can either\n",
    "* Use prepopulated data from any of the three players provided to quickly test the model\n",
    "* Fill in the 51 input fields with user data\n"
   ],
   "id": "c3cae628b78cb55a"
  },
  {
   "metadata": {
    "ExecuteTime": {
     "end_time": "2025-01-13T21:54:07.208662Z",
     "start_time": "2025-01-13T21:54:07.101024Z"
    }
   },
   "cell_type": "code",
   "source": [
    "\n",
    "\n",
    "\n",
    "sample_data = pd.DataFrame([\n",
    "    {\n",
    "        # Dalton Knecht SOLID\n",
    "        \"GP\": 35, \"Min_per\": 80.2, \"Ortg\": 130.8,\n",
    "        \"usg\": 20.2, \"eFG\": 66, \"TS_per\": 68.99, \"ORB_per\": 11, \"DRB_per\": 21.9, \"AST_per\": 6.7, \"TO_per\": 12.3,\n",
    "        \"FTM\": 113, \"FTA\": 145, \"FT_per\": 0.779, \"twoPM\": 198, \"twoPA\": 299, \"twoP_per\": 0.662, \"TPM\": 0, \"TPA\": 1,\n",
    "        \"TP_per\": 0, \"blk_per\": 3.3, \"stl_per\": 1, \"ftr\": 48.3, \"yr\": 1, \"porpag\": 5.88808, \"adjoe\": 137.154,\n",
    "        \"pfr\": 3.3, \"ast/tov\": 0.72090181, \"drtg\": 95.9973, \"adrtg\": 89.8587, \"dporpag\": 4.05345, \"stops\": 210.51,\n",
    "        \"bpm\": 7.45978, \"obpm\": 4.83715, \"dbpm\": 2.62263, \"gbpm\": 7.47108, \"mp\": 32.5429, \"ogbpm\": 5.79765,\n",
    "        \"dgbpm\": 1.67343, \"oreb\": 2.4857, \"dreb\": 5.7143, \"treb\": 8.2, \"ast\": 0.8857, \"stl\": 0.4857, \"blk\": 0.8571,\n",
    "        \"pts\": 14.5429, \"height_wo_shoes\": 80.75, \"height_w_shoes\": 82, \"weight\": 239.6, \"wingspan\": 85,\n",
    "        \"standing_reach\": 107, \"body_fat_pct\": 5.5\n",
    "    },\n",
    "    {\n",
    "        # Jalen Hood-Schifino,BUST\n",
    "        \"GP\": 33, \"Min_per\": 28.5, \"Ortg\": 94.7,\n",
    "        \"usg\": 23.4, \"eFG\": 45.8, \"TS_per\": 48.2, \"ORB_per\": 2.1, \"DRB_per\": 10.0, \"AST_per\": 16.5, \"TO_per\": 15.8,\n",
    "        \"FTM\": 50, \"FTA\": 75, \"FT_per\": 66.7, \"twoPM\": 100, \"twoPA\": 240, \"twoP_per\": 41.7, \"TPM\": 20, \"TPA\": 80,\n",
    "        \"TP_per\": 25.0, \"blk_per\": 0.3, \"stl_per\": 1.0, \"ftr\": 0.20, \"yr\": \"1\", \"porpag\": 1.5, \"adjoe\": 98.0,\n",
    "        \"pfr\": 0.14, \"ast/tov\": 0.8, \"drtg\": 110.0, \"adrtg\": 112.0, \"dporpag\": 1.2, \"stops\": 0.8, \"bpm\": -0.5,\n",
    "        \"obpm\": -0.8, \"dbpm\": 0.3, \"gbpm\": -0.2, \"mp\": 900, \"ogbpm\": -0.6, \"dgbpm\": 0.2, \"oreb\": 15, \"dreb\": 100,\n",
    "        \"treb\": 115, \"ast\": 110, \"stl\": 20, \"blk\": 5, \"pts\": 350, \"height_wo_shoes\": 77.0, \"height_w_shoes\": 78.0,\n",
    "        \"weight\": 200, \"wingspan\": 80.0, \"standing_reach\": 98.0, \"body_fat_pct\": 7.0\n",
    "    },\n",
    "    {\n",
    "        # Austin Reaves STAR\n",
    "        \"GP\": 35, \"Min_per\": 88.3, \"Ortg\": 112.8,\n",
    "        \"usg\": 32.6, \"eFG\": 55.3, \"TS_per\": 60.66, \"ORB_per\": 5.5, \"DRB_per\": 14.6, \"AST_per\": 29.2, \"TO_per\": 19,\n",
    "        \"FTM\": 204, \"FTA\": 270, \"FT_per\": 0.756, \"twoPM\": 163, \"twoPA\": 289, \"twoP_per\": 0.564, \"TPM\": 58, \"TPA\": 163,\n",
    "        \"TP_per\": 0.356, \"blk_per\": 1.1, \"stl_per\": 3.1, \"ftr\": 59.7, \"yr\": 2, \"porpag\": 6.47615, \"adjoe\": 137.102,\n",
    "        \"pfr\": 3.2, \"ast/tov\": 1.25425636, \"drtg\": 95.6385, \"adrtg\": 89.5229, \"dporpag\": 4.50387, \"stops\": 234.839,\n",
    "        \"bpm\": 10.3738, \"obpm\": 7.16968, \"dbpm\": 3.20412, \"gbpm\": 9.8125, \"mp\": 35.8286, \"ogbpm\": 6.88906,\n",
    "        \"dgbpm\": 2.92344, \"oreb\": 1.3714, \"dreb\": 4.2, \"treb\": 5.5714, \"ast\": 4.2286, \"stl\": 1.6857, \"blk\": 0.3143,\n",
    "        \"pts\": 20.1143, \"height_wo_shoes\": 76, \"height_w_shoes\": 77.25, \"weight\": 222, \"wingspan\": 82.75,\n",
    "        \"standing_reach\": 103.5, \"body_fat_pct\": 10.1\n",
    "    }\n",
    "])\n",
    "\n",
    "all_columns = sample_data.columns\n",
    "\n",
    "widgets_dict = {\n",
    "    col: widgets.FloatText(description=col) for col in all_columns\n",
    "}\n",
    "\n",
    "output_box = widgets.Output()\n",
    "\n",
    "def prepopulate_data(row):\n",
    "    for col in all_columns:\n",
    "        widgets_dict[col].value = row[col]\n",
    "\n",
    "def collect_data():\n",
    "    new_row = {col: wid.value for col, wid in widgets_dict.items()}\n",
    "    new_df = pd.DataFrame([new_row])\n",
    "    return best_random_forest.predict(new_df)\n",
    "    # return new_df\n",
    "\n",
    "def submit_data(data):\n",
    "    output_box.clear_output()\n",
    "    with output_box:\n",
    "        print(f\"Result: {data}\")\n",
    "\n",
    "def on_submit_click(b):\n",
    "    submit_data(collect_data())\n",
    "\n",
    "buttons = []\n",
    "for i, row in sample_data.iterrows():\n",
    "    button = widgets.Button(description=f\"Prepopulate Player {i+1}\")\n",
    "    button.on_click(lambda b, r=row: prepopulate_data(r))\n",
    "    buttons.append(button)\n",
    "\n",
    "\n",
    "submit_button = widgets.Button(description=\"Submit\")\n",
    "submit_button.on_click(on_submit_click)\n",
    "\n"
   ],
   "id": "53eb80192215851d",
   "outputs": [],
   "execution_count": 30
  },
  {
   "metadata": {
    "ExecuteTime": {
     "end_time": "2025-01-13T21:54:07.395420Z",
     "start_time": "2025-01-13T21:54:07.229841Z"
    }
   },
   "cell_type": "code",
   "source": [
    "# Display\n",
    "for widget in widgets_dict.values():\n",
    "    display(widget)\n",
    "for button in buttons:\n",
    "    display(button)\n",
    "display(submit_button, output_box)\n"
   ],
   "id": "d62de14a3da30bc",
   "outputs": [
    {
     "data": {
      "text/plain": [
       "FloatText(value=0.0, description='GP')"
      ],
      "application/vnd.jupyter.widget-view+json": {
       "version_major": 2,
       "version_minor": 0,
       "model_id": "b4d80b6140a64684990da17a4af7473f"
      }
     },
     "metadata": {},
     "output_type": "display_data"
    },
    {
     "data": {
      "text/plain": [
       "FloatText(value=0.0, description='Min_per')"
      ],
      "application/vnd.jupyter.widget-view+json": {
       "version_major": 2,
       "version_minor": 0,
       "model_id": "d3485fbe259348edaf9efc4be5c7b704"
      }
     },
     "metadata": {},
     "output_type": "display_data"
    },
    {
     "data": {
      "text/plain": [
       "FloatText(value=0.0, description='Ortg')"
      ],
      "application/vnd.jupyter.widget-view+json": {
       "version_major": 2,
       "version_minor": 0,
       "model_id": "00aac9cd46e3469b975d6d7fa44af804"
      }
     },
     "metadata": {},
     "output_type": "display_data"
    },
    {
     "data": {
      "text/plain": [
       "FloatText(value=0.0, description='usg')"
      ],
      "application/vnd.jupyter.widget-view+json": {
       "version_major": 2,
       "version_minor": 0,
       "model_id": "22ed1f6f299a4dcb872e480dc8e2d5ec"
      }
     },
     "metadata": {},
     "output_type": "display_data"
    },
    {
     "data": {
      "text/plain": [
       "FloatText(value=0.0, description='eFG')"
      ],
      "application/vnd.jupyter.widget-view+json": {
       "version_major": 2,
       "version_minor": 0,
       "model_id": "0feb4cd1caac4a769f327748248ac886"
      }
     },
     "metadata": {},
     "output_type": "display_data"
    },
    {
     "data": {
      "text/plain": [
       "FloatText(value=0.0, description='TS_per')"
      ],
      "application/vnd.jupyter.widget-view+json": {
       "version_major": 2,
       "version_minor": 0,
       "model_id": "0419ca7b21f44b8da11e23192181ca3a"
      }
     },
     "metadata": {},
     "output_type": "display_data"
    },
    {
     "data": {
      "text/plain": [
       "FloatText(value=0.0, description='ORB_per')"
      ],
      "application/vnd.jupyter.widget-view+json": {
       "version_major": 2,
       "version_minor": 0,
       "model_id": "74339ded79144ceea01d2bd5979d6347"
      }
     },
     "metadata": {},
     "output_type": "display_data"
    },
    {
     "data": {
      "text/plain": [
       "FloatText(value=0.0, description='DRB_per')"
      ],
      "application/vnd.jupyter.widget-view+json": {
       "version_major": 2,
       "version_minor": 0,
       "model_id": "b1a541c4801c4fc49b1c231e0672ff6c"
      }
     },
     "metadata": {},
     "output_type": "display_data"
    },
    {
     "data": {
      "text/plain": [
       "FloatText(value=0.0, description='AST_per')"
      ],
      "application/vnd.jupyter.widget-view+json": {
       "version_major": 2,
       "version_minor": 0,
       "model_id": "b1a66c8d7d1845eb96d4f0dae4cc4634"
      }
     },
     "metadata": {},
     "output_type": "display_data"
    },
    {
     "data": {
      "text/plain": [
       "FloatText(value=0.0, description='TO_per')"
      ],
      "application/vnd.jupyter.widget-view+json": {
       "version_major": 2,
       "version_minor": 0,
       "model_id": "e95c74443ddf4fb294c51563cdc23df1"
      }
     },
     "metadata": {},
     "output_type": "display_data"
    },
    {
     "data": {
      "text/plain": [
       "FloatText(value=0.0, description='FTM')"
      ],
      "application/vnd.jupyter.widget-view+json": {
       "version_major": 2,
       "version_minor": 0,
       "model_id": "99435e7df77a4b4db13661f7a8714165"
      }
     },
     "metadata": {},
     "output_type": "display_data"
    },
    {
     "data": {
      "text/plain": [
       "FloatText(value=0.0, description='FTA')"
      ],
      "application/vnd.jupyter.widget-view+json": {
       "version_major": 2,
       "version_minor": 0,
       "model_id": "e93eea69b32d4d559353babb5cb6cb70"
      }
     },
     "metadata": {},
     "output_type": "display_data"
    },
    {
     "data": {
      "text/plain": [
       "FloatText(value=0.0, description='FT_per')"
      ],
      "application/vnd.jupyter.widget-view+json": {
       "version_major": 2,
       "version_minor": 0,
       "model_id": "56fa75bf695d42a292a7cc654fa90ace"
      }
     },
     "metadata": {},
     "output_type": "display_data"
    },
    {
     "data": {
      "text/plain": [
       "FloatText(value=0.0, description='twoPM')"
      ],
      "application/vnd.jupyter.widget-view+json": {
       "version_major": 2,
       "version_minor": 0,
       "model_id": "1c3eea3361284c00baaa1f0cff3cde6c"
      }
     },
     "metadata": {},
     "output_type": "display_data"
    },
    {
     "data": {
      "text/plain": [
       "FloatText(value=0.0, description='twoPA')"
      ],
      "application/vnd.jupyter.widget-view+json": {
       "version_major": 2,
       "version_minor": 0,
       "model_id": "a5b659f1eeb24919be64dad8a04bfb59"
      }
     },
     "metadata": {},
     "output_type": "display_data"
    },
    {
     "data": {
      "text/plain": [
       "FloatText(value=0.0, description='twoP_per')"
      ],
      "application/vnd.jupyter.widget-view+json": {
       "version_major": 2,
       "version_minor": 0,
       "model_id": "b0762ba4afaa40908ba5c3477c41d598"
      }
     },
     "metadata": {},
     "output_type": "display_data"
    },
    {
     "data": {
      "text/plain": [
       "FloatText(value=0.0, description='TPM')"
      ],
      "application/vnd.jupyter.widget-view+json": {
       "version_major": 2,
       "version_minor": 0,
       "model_id": "3e96e7b3a5c34e2b8930da96d2b9d754"
      }
     },
     "metadata": {},
     "output_type": "display_data"
    },
    {
     "data": {
      "text/plain": [
       "FloatText(value=0.0, description='TPA')"
      ],
      "application/vnd.jupyter.widget-view+json": {
       "version_major": 2,
       "version_minor": 0,
       "model_id": "723ab832908e430198531f5ec78f41eb"
      }
     },
     "metadata": {},
     "output_type": "display_data"
    },
    {
     "data": {
      "text/plain": [
       "FloatText(value=0.0, description='TP_per')"
      ],
      "application/vnd.jupyter.widget-view+json": {
       "version_major": 2,
       "version_minor": 0,
       "model_id": "0e06d8a3cd1f46bda2ca081fb140f7be"
      }
     },
     "metadata": {},
     "output_type": "display_data"
    },
    {
     "data": {
      "text/plain": [
       "FloatText(value=0.0, description='blk_per')"
      ],
      "application/vnd.jupyter.widget-view+json": {
       "version_major": 2,
       "version_minor": 0,
       "model_id": "ea6dfaa38707439e8308fcabde92d6c9"
      }
     },
     "metadata": {},
     "output_type": "display_data"
    },
    {
     "data": {
      "text/plain": [
       "FloatText(value=0.0, description='stl_per')"
      ],
      "application/vnd.jupyter.widget-view+json": {
       "version_major": 2,
       "version_minor": 0,
       "model_id": "f30a765a07c146efafeb3593d79943b8"
      }
     },
     "metadata": {},
     "output_type": "display_data"
    },
    {
     "data": {
      "text/plain": [
       "FloatText(value=0.0, description='ftr')"
      ],
      "application/vnd.jupyter.widget-view+json": {
       "version_major": 2,
       "version_minor": 0,
       "model_id": "5c7a57d7313d4c3fa8fd0e82c3aec8d1"
      }
     },
     "metadata": {},
     "output_type": "display_data"
    },
    {
     "data": {
      "text/plain": [
       "FloatText(value=0.0, description='yr')"
      ],
      "application/vnd.jupyter.widget-view+json": {
       "version_major": 2,
       "version_minor": 0,
       "model_id": "affbd8a9c9e94002ac252645032bce7e"
      }
     },
     "metadata": {},
     "output_type": "display_data"
    },
    {
     "data": {
      "text/plain": [
       "FloatText(value=0.0, description='porpag')"
      ],
      "application/vnd.jupyter.widget-view+json": {
       "version_major": 2,
       "version_minor": 0,
       "model_id": "567f3c13e7524511adeb89403c5e01d2"
      }
     },
     "metadata": {},
     "output_type": "display_data"
    },
    {
     "data": {
      "text/plain": [
       "FloatText(value=0.0, description='adjoe')"
      ],
      "application/vnd.jupyter.widget-view+json": {
       "version_major": 2,
       "version_minor": 0,
       "model_id": "7ccef0767d0542efa7a3940d8b8bca25"
      }
     },
     "metadata": {},
     "output_type": "display_data"
    },
    {
     "data": {
      "text/plain": [
       "FloatText(value=0.0, description='pfr')"
      ],
      "application/vnd.jupyter.widget-view+json": {
       "version_major": 2,
       "version_minor": 0,
       "model_id": "05759a4e4793412eb8d6f128ad1e68e8"
      }
     },
     "metadata": {},
     "output_type": "display_data"
    },
    {
     "data": {
      "text/plain": [
       "FloatText(value=0.0, description='ast/tov')"
      ],
      "application/vnd.jupyter.widget-view+json": {
       "version_major": 2,
       "version_minor": 0,
       "model_id": "121fd900e36f44bca7dd87e8f7cec955"
      }
     },
     "metadata": {},
     "output_type": "display_data"
    },
    {
     "data": {
      "text/plain": [
       "FloatText(value=0.0, description='drtg')"
      ],
      "application/vnd.jupyter.widget-view+json": {
       "version_major": 2,
       "version_minor": 0,
       "model_id": "4880c86a34414a5ca3314f1d5e2cb23a"
      }
     },
     "metadata": {},
     "output_type": "display_data"
    },
    {
     "data": {
      "text/plain": [
       "FloatText(value=0.0, description='adrtg')"
      ],
      "application/vnd.jupyter.widget-view+json": {
       "version_major": 2,
       "version_minor": 0,
       "model_id": "a9074c7eb8d64aceaab9cd1c69ca682b"
      }
     },
     "metadata": {},
     "output_type": "display_data"
    },
    {
     "data": {
      "text/plain": [
       "FloatText(value=0.0, description='dporpag')"
      ],
      "application/vnd.jupyter.widget-view+json": {
       "version_major": 2,
       "version_minor": 0,
       "model_id": "d4a44ec39c0f4b40a15223564de833a4"
      }
     },
     "metadata": {},
     "output_type": "display_data"
    },
    {
     "data": {
      "text/plain": [
       "FloatText(value=0.0, description='stops')"
      ],
      "application/vnd.jupyter.widget-view+json": {
       "version_major": 2,
       "version_minor": 0,
       "model_id": "78d97d1f94f94ca4b727b3f3225e4f9a"
      }
     },
     "metadata": {},
     "output_type": "display_data"
    },
    {
     "data": {
      "text/plain": [
       "FloatText(value=0.0, description='bpm')"
      ],
      "application/vnd.jupyter.widget-view+json": {
       "version_major": 2,
       "version_minor": 0,
       "model_id": "6bb7f28e859245eaa515f807fe57827c"
      }
     },
     "metadata": {},
     "output_type": "display_data"
    },
    {
     "data": {
      "text/plain": [
       "FloatText(value=0.0, description='obpm')"
      ],
      "application/vnd.jupyter.widget-view+json": {
       "version_major": 2,
       "version_minor": 0,
       "model_id": "515940b1b0ea4a8faf71f15ec03eb350"
      }
     },
     "metadata": {},
     "output_type": "display_data"
    },
    {
     "data": {
      "text/plain": [
       "FloatText(value=0.0, description='dbpm')"
      ],
      "application/vnd.jupyter.widget-view+json": {
       "version_major": 2,
       "version_minor": 0,
       "model_id": "9a6ed9d97b734a91a3804f64dd5cf434"
      }
     },
     "metadata": {},
     "output_type": "display_data"
    },
    {
     "data": {
      "text/plain": [
       "FloatText(value=0.0, description='gbpm')"
      ],
      "application/vnd.jupyter.widget-view+json": {
       "version_major": 2,
       "version_minor": 0,
       "model_id": "979eb64975714605b9ad9d1116836196"
      }
     },
     "metadata": {},
     "output_type": "display_data"
    },
    {
     "data": {
      "text/plain": [
       "FloatText(value=0.0, description='mp')"
      ],
      "application/vnd.jupyter.widget-view+json": {
       "version_major": 2,
       "version_minor": 0,
       "model_id": "f7b6e49e55294141acf72a6489a6f0ff"
      }
     },
     "metadata": {},
     "output_type": "display_data"
    },
    {
     "data": {
      "text/plain": [
       "FloatText(value=0.0, description='ogbpm')"
      ],
      "application/vnd.jupyter.widget-view+json": {
       "version_major": 2,
       "version_minor": 0,
       "model_id": "23cc3ab79a6a48aeba46605838e84274"
      }
     },
     "metadata": {},
     "output_type": "display_data"
    },
    {
     "data": {
      "text/plain": [
       "FloatText(value=0.0, description='dgbpm')"
      ],
      "application/vnd.jupyter.widget-view+json": {
       "version_major": 2,
       "version_minor": 0,
       "model_id": "64f0789c36654e389f42525dd9a0e3c7"
      }
     },
     "metadata": {},
     "output_type": "display_data"
    },
    {
     "data": {
      "text/plain": [
       "FloatText(value=0.0, description='oreb')"
      ],
      "application/vnd.jupyter.widget-view+json": {
       "version_major": 2,
       "version_minor": 0,
       "model_id": "6ea993dad30d4511abbac521f1718e16"
      }
     },
     "metadata": {},
     "output_type": "display_data"
    },
    {
     "data": {
      "text/plain": [
       "FloatText(value=0.0, description='dreb')"
      ],
      "application/vnd.jupyter.widget-view+json": {
       "version_major": 2,
       "version_minor": 0,
       "model_id": "a1c33077f9fc4ccb92a222e61f50fdd7"
      }
     },
     "metadata": {},
     "output_type": "display_data"
    },
    {
     "data": {
      "text/plain": [
       "FloatText(value=0.0, description='treb')"
      ],
      "application/vnd.jupyter.widget-view+json": {
       "version_major": 2,
       "version_minor": 0,
       "model_id": "db7ea292ae2041478bf90785ee9911c9"
      }
     },
     "metadata": {},
     "output_type": "display_data"
    },
    {
     "data": {
      "text/plain": [
       "FloatText(value=0.0, description='ast')"
      ],
      "application/vnd.jupyter.widget-view+json": {
       "version_major": 2,
       "version_minor": 0,
       "model_id": "5058c5de8e5847758c7f080e91ca6534"
      }
     },
     "metadata": {},
     "output_type": "display_data"
    },
    {
     "data": {
      "text/plain": [
       "FloatText(value=0.0, description='stl')"
      ],
      "application/vnd.jupyter.widget-view+json": {
       "version_major": 2,
       "version_minor": 0,
       "model_id": "e664da32d306430d82fd31e0ad0fa439"
      }
     },
     "metadata": {},
     "output_type": "display_data"
    },
    {
     "data": {
      "text/plain": [
       "FloatText(value=0.0, description='blk')"
      ],
      "application/vnd.jupyter.widget-view+json": {
       "version_major": 2,
       "version_minor": 0,
       "model_id": "bb276c9401384abcbb5918dcc9295170"
      }
     },
     "metadata": {},
     "output_type": "display_data"
    },
    {
     "data": {
      "text/plain": [
       "FloatText(value=0.0, description='pts')"
      ],
      "application/vnd.jupyter.widget-view+json": {
       "version_major": 2,
       "version_minor": 0,
       "model_id": "f243147c033545c89b946d3c7e2bf52a"
      }
     },
     "metadata": {},
     "output_type": "display_data"
    },
    {
     "data": {
      "text/plain": [
       "FloatText(value=0.0, description='height_wo_shoes')"
      ],
      "application/vnd.jupyter.widget-view+json": {
       "version_major": 2,
       "version_minor": 0,
       "model_id": "6b271d9ecf8745f495d3b9901964a898"
      }
     },
     "metadata": {},
     "output_type": "display_data"
    },
    {
     "data": {
      "text/plain": [
       "FloatText(value=0.0, description='height_w_shoes')"
      ],
      "application/vnd.jupyter.widget-view+json": {
       "version_major": 2,
       "version_minor": 0,
       "model_id": "07add192aa16439fa5ed4aea90d62df4"
      }
     },
     "metadata": {},
     "output_type": "display_data"
    },
    {
     "data": {
      "text/plain": [
       "FloatText(value=0.0, description='weight')"
      ],
      "application/vnd.jupyter.widget-view+json": {
       "version_major": 2,
       "version_minor": 0,
       "model_id": "d79e9c69580441cd95deba52f97cdd8d"
      }
     },
     "metadata": {},
     "output_type": "display_data"
    },
    {
     "data": {
      "text/plain": [
       "FloatText(value=0.0, description='wingspan')"
      ],
      "application/vnd.jupyter.widget-view+json": {
       "version_major": 2,
       "version_minor": 0,
       "model_id": "ce18dc3d9a26436391e9d1a8fb72b62e"
      }
     },
     "metadata": {},
     "output_type": "display_data"
    },
    {
     "data": {
      "text/plain": [
       "FloatText(value=0.0, description='standing_reach')"
      ],
      "application/vnd.jupyter.widget-view+json": {
       "version_major": 2,
       "version_minor": 0,
       "model_id": "d00b8bdcc2ac4eeebb26c64c703a453a"
      }
     },
     "metadata": {},
     "output_type": "display_data"
    },
    {
     "data": {
      "text/plain": [
       "FloatText(value=0.0, description='body_fat_pct')"
      ],
      "application/vnd.jupyter.widget-view+json": {
       "version_major": 2,
       "version_minor": 0,
       "model_id": "ab852d1fe98b4c8b81553e39868ac2c9"
      }
     },
     "metadata": {},
     "output_type": "display_data"
    },
    {
     "data": {
      "text/plain": [
       "Button(description='Prepopulate Player 1', style=ButtonStyle())"
      ],
      "application/vnd.jupyter.widget-view+json": {
       "version_major": 2,
       "version_minor": 0,
       "model_id": "6f59eb8b75f34576835d530a1e53a0c4"
      }
     },
     "metadata": {},
     "output_type": "display_data"
    },
    {
     "data": {
      "text/plain": [
       "Button(description='Prepopulate Player 2', style=ButtonStyle())"
      ],
      "application/vnd.jupyter.widget-view+json": {
       "version_major": 2,
       "version_minor": 0,
       "model_id": "ee39c0bde59d47c3958769b47a3a27bd"
      }
     },
     "metadata": {},
     "output_type": "display_data"
    },
    {
     "data": {
      "text/plain": [
       "Button(description='Prepopulate Player 3', style=ButtonStyle())"
      ],
      "application/vnd.jupyter.widget-view+json": {
       "version_major": 2,
       "version_minor": 0,
       "model_id": "b1eabe4e3c6047e4ba2de9cef36076e7"
      }
     },
     "metadata": {},
     "output_type": "display_data"
    },
    {
     "data": {
      "text/plain": [
       "Button(description='Submit', style=ButtonStyle())"
      ],
      "application/vnd.jupyter.widget-view+json": {
       "version_major": 2,
       "version_minor": 0,
       "model_id": "e9634ffdf34e4f2795efaeea186ac94d"
      }
     },
     "metadata": {},
     "output_type": "display_data"
    },
    {
     "data": {
      "text/plain": [
       "Output()"
      ],
      "application/vnd.jupyter.widget-view+json": {
       "version_major": 2,
       "version_minor": 0,
       "model_id": "5e8a7c8aa8894a34842936e4412f877a"
      }
     },
     "metadata": {},
     "output_type": "display_data"
    }
   ],
   "execution_count": 31
  }
 ],
 "metadata": {
  "kernelspec": {
   "display_name": "Python 3",
   "language": "python",
   "name": "python3"
  },
  "language_info": {
   "codemirror_mode": {
    "name": "ipython",
    "version": 2
   },
   "file_extension": ".py",
   "mimetype": "text/x-python",
   "name": "python",
   "nbconvert_exporter": "python",
   "pygments_lexer": "ipython2",
   "version": "2.7.6"
  }
 },
 "nbformat": 4,
 "nbformat_minor": 5
}
